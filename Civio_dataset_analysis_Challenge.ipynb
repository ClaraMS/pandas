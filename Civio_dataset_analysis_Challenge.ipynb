{
  "nbformat": 4,
  "nbformat_minor": 0,
  "metadata": {
    "colab": {
      "name": "Civio_dataset_analysis_Challenge.ipynb",
      "provenance": [],
      "collapsed_sections": []
    },
    "kernelspec": {
      "name": "python3",
      "display_name": "Python 3"
    }
  },
  "cells": [
    {
      "cell_type": "markdown",
      "metadata": {
        "id": "rD6AwaU3xD9q",
        "colab_type": "text"
      },
      "source": [
        "# Now it's your turn! "
      ]
    },
    {
      "cell_type": "markdown",
      "metadata": {
        "id": "qzhfJsHUi8Vv",
        "colab_type": "text"
      },
      "source": [
        "Choose the dataset you prefer in this website and start analysing the variables and data inside! \n",
        "https://datos.civio.es/datasets/\n",
        "\n",
        "If you feel more confident to try gradually and check your results step-by-step, you can choose the same example I will use to go through and share on the screen. We will follow some key concepts that could be a typical pipeline for data analysis.\n",
        "\n",
        "https://datos.civio.es/dataset/resultados-de-las-inspecciones-de-seguridad-alimentaria-en-establecimientos-de-madrid/\n",
        "\n",
        "But if you prefer another dataset, feel free to choose another one!\n",
        "* You can always guide you with this example to start and then explore on your own.\n",
        "* Ask and share your doubts so we all learn from other examples!\n",
        "* If you choose another one, tell us what you observed!\n",
        "\n",
        "\n"
      ]
    },
    {
      "cell_type": "markdown",
      "metadata": {
        "id": "pw2-fmlSarIe",
        "colab_type": "text"
      },
      "source": [
        "---\n",
        "## 1. Download dataset & Import libraries\n",
        "\n",
        "---\n"
      ]
    },
    {
      "cell_type": "code",
      "metadata": {
        "id": "ozY-ILcliIc6",
        "colab_type": "code",
        "colab": {}
      },
      "source": [
        ""
      ],
      "execution_count": 0,
      "outputs": []
    },
    {
      "cell_type": "markdown",
      "metadata": {
        "id": "QflRzn8gu3bN",
        "colab_type": "text"
      },
      "source": [
        "---\n",
        "## 2. Read csv & Explore the dataset!\n",
        "\n",
        "* How many registers and columns do we have?\n",
        "* Type of variables and how does look like the data inside?\n",
        "* Do we have missing values? \n",
        "* How would you better rename the labels or redefine the order of registers?\n",
        "---"
      ]
    },
    {
      "cell_type": "code",
      "metadata": {
        "id": "-nVaGyOSxQEU",
        "colab_type": "code",
        "colab": {}
      },
      "source": [
        ""
      ],
      "execution_count": 0,
      "outputs": []
    },
    {
      "cell_type": "code",
      "metadata": {
        "id": "4H6KiMp9u71z",
        "colab_type": "code",
        "colab": {}
      },
      "source": [
        ""
      ],
      "execution_count": 0,
      "outputs": []
    },
    {
      "cell_type": "markdown",
      "metadata": {
        "id": "Hs0lC1EHce4k",
        "colab_type": "text"
      },
      "source": [
        "---\n",
        "## 3. Analize & Understand the data!\n",
        "\n",
        "* What conclusions could you extract by analizing each variable?\n",
        "* Which variable look the most relevant one for the data owner objectives? \n",
        " \n",
        "---"
      ]
    },
    {
      "cell_type": "code",
      "metadata": {
        "id": "_fJL4LY7xQNY",
        "colab_type": "code",
        "colab": {}
      },
      "source": [
        ""
      ],
      "execution_count": 0,
      "outputs": []
    },
    {
      "cell_type": "code",
      "metadata": {
        "id": "P-yzZkuwxQXQ",
        "colab_type": "code",
        "colab": {}
      },
      "source": [
        ""
      ],
      "execution_count": 0,
      "outputs": []
    },
    {
      "cell_type": "markdown",
      "metadata": {
        "id": "VVDjemr4dbxB",
        "colab_type": "text"
      },
      "source": [
        "---\n",
        "## 4. Clean & Transform data!\n",
        "* What should/could we do with missing values?\n",
        "* Do we need to enrich our data analysis by creating new variables?\n",
        "---"
      ]
    },
    {
      "cell_type": "code",
      "metadata": {
        "id": "OrlIogbyxQlP",
        "colab_type": "code",
        "colab": {}
      },
      "source": [
        ""
      ],
      "execution_count": 0,
      "outputs": []
    },
    {
      "cell_type": "code",
      "metadata": {
        "id": "GrSmqaETxQUu",
        "colab_type": "code",
        "colab": {}
      },
      "source": [
        ""
      ],
      "execution_count": 0,
      "outputs": []
    },
    {
      "cell_type": "markdown",
      "metadata": {
        "id": "8k1MjvuZfc2o",
        "colab_type": "text"
      },
      "source": [
        "---\n",
        "## 5. Look for patterns or differences to extract Insights\n",
        "* Which other dimensions look interesting to cross with the main variable?\n",
        "* Do you observe any interesting differences or patterns when grouping by categories?\n",
        "---"
      ]
    },
    {
      "cell_type": "code",
      "metadata": {
        "id": "Tg1DYFutxQSM",
        "colab_type": "code",
        "colab": {}
      },
      "source": [
        ""
      ],
      "execution_count": 0,
      "outputs": []
    },
    {
      "cell_type": "code",
      "metadata": {
        "id": "ty6l12goxQQR",
        "colab_type": "code",
        "colab": {}
      },
      "source": [
        ""
      ],
      "execution_count": 0,
      "outputs": []
    },
    {
      "cell_type": "code",
      "metadata": {
        "id": "W7_taLiixQLp",
        "colab_type": "code",
        "colab": {}
      },
      "source": [
        ""
      ],
      "execution_count": 0,
      "outputs": []
    },
    {
      "cell_type": "markdown",
      "metadata": {
        "id": "M3ZT3Na-hyNA",
        "colab_type": "text"
      },
      "source": [
        "---\n",
        "## 6. Tell us...\n",
        "* Which dataset did you choose? \n",
        "* How big or complex it was?\n",
        "* What variables you found more interesting to work with?\n",
        "* What did you find out?\n",
        "* What are you next steps?\n",
        "---"
      ]
    },
    {
      "cell_type": "code",
      "metadata": {
        "id": "ZemlaUfmiVY9",
        "colab_type": "code",
        "colab": {}
      },
      "source": [
        ""
      ],
      "execution_count": 0,
      "outputs": []
    },
    {
      "cell_type": "code",
      "metadata": {
        "id": "NtfqaFCOucXy",
        "colab_type": "code",
        "colab": {}
      },
      "source": [
        ""
      ],
      "execution_count": 0,
      "outputs": []
    },
    {
      "cell_type": "code",
      "metadata": {
        "id": "IePjSED6ufo1",
        "colab_type": "code",
        "colab": {}
      },
      "source": [
        ""
      ],
      "execution_count": 0,
      "outputs": []
    },
    {
      "cell_type": "code",
      "metadata": {
        "id": "c8b_aZKEuf4A",
        "colab_type": "code",
        "colab": {}
      },
      "source": [
        ""
      ],
      "execution_count": 0,
      "outputs": []
    },
    {
      "cell_type": "code",
      "metadata": {
        "id": "QXYSRFaBugD2",
        "colab_type": "code",
        "colab": {}
      },
      "source": [
        ""
      ],
      "execution_count": 0,
      "outputs": []
    },
    {
      "cell_type": "markdown",
      "metadata": {
        "id": "cdGwKcLSjeOI",
        "colab_type": "text"
      },
      "source": [
        "---\n",
        "##7. Before leaving...Let's Share with the Pyladies Community :)\n",
        "So we can all learn from and inspire to each others:\n",
        "* add your Jupyter / Colab to your GitHub repository\n",
        "* go to the following link: https://notepad.pw/y6gkb20i\n",
        "* write your name/user : link to your Pandas repository or jupyter file\n",
        "\n",
        "Cecil: https://github.com/gabaxi/workshops/tree/master/pandas\n",
        "\n",
        "---"
      ]
    },
    {
      "cell_type": "code",
      "metadata": {
        "id": "JHg30j7fiVcl",
        "colab_type": "code",
        "colab": {}
      },
      "source": [
        ""
      ],
      "execution_count": 0,
      "outputs": []
    }
  ]
}