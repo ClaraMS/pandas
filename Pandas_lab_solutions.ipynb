{
  "nbformat": 4,
  "nbformat_minor": 0,
  "metadata": {
    "colab": {
      "name": "Pandas_lab_solutions",
      "provenance": [],
      "collapsed_sections": []
    },
    "kernelspec": {
      "name": "python3",
      "display_name": "Python 3"
    }
  },
  "cells": [
    {
      "cell_type": "markdown",
      "metadata": {
        "id": "8rke76Egx6Kz",
        "colab_type": "text"
      },
      "source": [
        "# Pandas Workshop"
      ]
    },
    {
      "cell_type": "code",
      "metadata": {
        "id": "JuYbBKzKciun",
        "colab_type": "code",
        "colab": {}
      },
      "source": [
        "# import numpy and pandas library\n",
        "import numpy as np \n",
        "import pandas as pd\n",
        "\n",
        "# import some library to plot data, i.e. matplotlib\n",
        "import matplotlib as plt\n",
        "%matplotlib inline"
      ],
      "execution_count": 0,
      "outputs": []
    },
    {
      "cell_type": "markdown",
      "metadata": {
        "id": "pKNpA9VRxyyg",
        "colab_type": "text"
      },
      "source": [
        "## 1. Create a serie or a dataset from scratch\n",
        "\n",
        "---\n",
        "\n",
        "### Some intro & definitions:\n",
        "* Dataframe: columns names (variables), row index (id) and values (registers)\n",
        "* we can access through numbers or labels\n",
        "* Serie: 1 dimension labelled array (can have index)\n",
        "\n",
        "---"
      ]
    },
    {
      "cell_type": "code",
      "metadata": {
        "id": "0l8i7pUueDCp",
        "colab_type": "code",
        "outputId": "0f029439-0f81-45e0-e14e-2319a390fe3b",
        "colab": {
          "base_uri": "https://localhost:8080/",
          "height": 119
        }
      },
      "source": [
        "# create a serie with the following values: 100, 200, 300, 400 and 500\n",
        "s = pd.Series([100, 200, 300, 400, 500])\n",
        "s"
      ],
      "execution_count": 2,
      "outputs": [
        {
          "output_type": "execute_result",
          "data": {
            "text/plain": [
              "0    100\n",
              "1    200\n",
              "2    300\n",
              "3    400\n",
              "4    500\n",
              "dtype: int64"
            ]
          },
          "metadata": {
            "tags": []
          },
          "execution_count": 2
        }
      ]
    },
    {
      "cell_type": "code",
      "metadata": {
        "id": "rtT5RS3keDHG",
        "colab_type": "code",
        "outputId": "e2fe04e5-b93b-4dca-d123-52255ab720d4",
        "colab": {
          "base_uri": "https://localhost:8080/",
          "height": 119
        }
      },
      "source": [
        "# create the same serie with now with different years as index and 'Sales product A' as name\n",
        "s = pd.Series([100, 200, 300, 400, 500], \n",
        "              index=['2015', '2016', '2017', '2018', '2019'], \n",
        "              name='Sales Product A')\n",
        "s"
      ],
      "execution_count": 3,
      "outputs": [
        {
          "output_type": "execute_result",
          "data": {
            "text/plain": [
              "2015    100\n",
              "2016    200\n",
              "2017    300\n",
              "2018    400\n",
              "2019    500\n",
              "Name: Sales Product A, dtype: int64"
            ]
          },
          "metadata": {
            "tags": []
          },
          "execution_count": 3
        }
      ]
    },
    {
      "cell_type": "code",
      "metadata": {
        "id": "k4v3HaKscs6U",
        "colab_type": "code",
        "outputId": "bf9e4de9-8b91-4f2c-8c94-447ff505c8f8",
        "colab": {
          "base_uri": "https://localhost:8080/",
          "height": 173
        }
      },
      "source": [
        "# create a dataframe with 2 columns, 'category' and 'units'\n",
        "# assign text values for the first one and number for the second one\n",
        "df = pd.DataFrame ({'category':['a','b','c','d'],'units':[1,4,5,8]})\n",
        "df"
      ],
      "execution_count": 4,
      "outputs": [
        {
          "output_type": "execute_result",
          "data": {
            "text/html": [
              "<div>\n",
              "<style scoped>\n",
              "    .dataframe tbody tr th:only-of-type {\n",
              "        vertical-align: middle;\n",
              "    }\n",
              "\n",
              "    .dataframe tbody tr th {\n",
              "        vertical-align: top;\n",
              "    }\n",
              "\n",
              "    .dataframe thead th {\n",
              "        text-align: right;\n",
              "    }\n",
              "</style>\n",
              "<table border=\"1\" class=\"dataframe\">\n",
              "  <thead>\n",
              "    <tr style=\"text-align: right;\">\n",
              "      <th></th>\n",
              "      <th>category</th>\n",
              "      <th>units</th>\n",
              "    </tr>\n",
              "  </thead>\n",
              "  <tbody>\n",
              "    <tr>\n",
              "      <th>0</th>\n",
              "      <td>a</td>\n",
              "      <td>1</td>\n",
              "    </tr>\n",
              "    <tr>\n",
              "      <th>1</th>\n",
              "      <td>b</td>\n",
              "      <td>4</td>\n",
              "    </tr>\n",
              "    <tr>\n",
              "      <th>2</th>\n",
              "      <td>c</td>\n",
              "      <td>5</td>\n",
              "    </tr>\n",
              "    <tr>\n",
              "      <th>3</th>\n",
              "      <td>d</td>\n",
              "      <td>8</td>\n",
              "    </tr>\n",
              "  </tbody>\n",
              "</table>\n",
              "</div>"
            ],
            "text/plain": [
              "  category  units\n",
              "0        a      1\n",
              "1        b      4\n",
              "2        c      5\n",
              "3        d      8"
            ]
          },
          "metadata": {
            "tags": []
          },
          "execution_count": 4
        }
      ]
    },
    {
      "cell_type": "code",
      "metadata": {
        "id": "FSRnW0-tcs9Z",
        "colab_type": "code",
        "outputId": "811df647-830a-4c47-c2d5-7c5aaa508986",
        "colab": {
          "base_uri": "https://localhost:8080/",
          "height": 173
        }
      },
      "source": [
        "# you can also assign an index or specify it when creating\n",
        "df = pd.DataFrame ({'category':['a','b','c','d'],\n",
        "                    'units':[1,4,5,8]},\n",
        "                   index=['op_1','op_10','op_8','op_4'])\n",
        "df"
      ],
      "execution_count": 5,
      "outputs": [
        {
          "output_type": "execute_result",
          "data": {
            "text/html": [
              "<div>\n",
              "<style scoped>\n",
              "    .dataframe tbody tr th:only-of-type {\n",
              "        vertical-align: middle;\n",
              "    }\n",
              "\n",
              "    .dataframe tbody tr th {\n",
              "        vertical-align: top;\n",
              "    }\n",
              "\n",
              "    .dataframe thead th {\n",
              "        text-align: right;\n",
              "    }\n",
              "</style>\n",
              "<table border=\"1\" class=\"dataframe\">\n",
              "  <thead>\n",
              "    <tr style=\"text-align: right;\">\n",
              "      <th></th>\n",
              "      <th>category</th>\n",
              "      <th>units</th>\n",
              "    </tr>\n",
              "  </thead>\n",
              "  <tbody>\n",
              "    <tr>\n",
              "      <th>op_1</th>\n",
              "      <td>a</td>\n",
              "      <td>1</td>\n",
              "    </tr>\n",
              "    <tr>\n",
              "      <th>op_10</th>\n",
              "      <td>b</td>\n",
              "      <td>4</td>\n",
              "    </tr>\n",
              "    <tr>\n",
              "      <th>op_8</th>\n",
              "      <td>c</td>\n",
              "      <td>5</td>\n",
              "    </tr>\n",
              "    <tr>\n",
              "      <th>op_4</th>\n",
              "      <td>d</td>\n",
              "      <td>8</td>\n",
              "    </tr>\n",
              "  </tbody>\n",
              "</table>\n",
              "</div>"
            ],
            "text/plain": [
              "      category  units\n",
              "op_1         a      1\n",
              "op_10        b      4\n",
              "op_8         c      5\n",
              "op_4         d      8"
            ]
          },
          "metadata": {
            "tags": []
          },
          "execution_count": 5
        }
      ]
    },
    {
      "cell_type": "code",
      "metadata": {
        "id": "LJtr_Lh5x8cx",
        "colab_type": "code",
        "colab": {
          "base_uri": "https://localhost:8080/",
          "height": 51
        },
        "outputId": "0836f258-d676-485a-9cea-9ebb6f7f4aa6"
      },
      "source": [
        "# check types\n",
        "print(type(s))\n",
        "print(type(df))"
      ],
      "execution_count": 6,
      "outputs": [
        {
          "output_type": "stream",
          "text": [
            "<class 'pandas.core.series.Series'>\n",
            "<class 'pandas.core.frame.DataFrame'>\n"
          ],
          "name": "stdout"
        }
      ]
    },
    {
      "cell_type": "markdown",
      "metadata": {
        "id": "4fem_P4hyQOR",
        "colab_type": "text"
      },
      "source": [
        "## 2. Load & explore data"
      ]
    },
    {
      "cell_type": "markdown",
      "metadata": {
        "id": "9k6xetAB08__",
        "colab_type": "text"
      },
      "source": [
        "In Google Colab \n",
        "--> activate your drive and run this cell\n",
        "--> copy/paste token\n",
        "--> You are connected!"
      ]
    },
    {
      "cell_type": "code",
      "metadata": {
        "id": "T4Q-Kgfy0oz6",
        "colab_type": "code",
        "outputId": "d36a30a1-0565-4bf7-915d-6354d8e3ba72",
        "colab": {
          "base_uri": "https://localhost:8080/",
          "height": 122
        }
      },
      "source": [
        "# Only if you are using Google Colab: \n",
        "# Activate your drive in the left menu --> run the cell --> copy/paste token to connect\n",
        "from google.colab import drive\n",
        "drive.mount('/content/drive')"
      ],
      "execution_count": 7,
      "outputs": [
        {
          "output_type": "stream",
          "text": [
            "Go to this URL in a browser: https://accounts.google.com/o/oauth2/auth?client_id=947318989803-6bn6qk8qdgf4n4g3pfee6491hc0brc4i.apps.googleusercontent.com&redirect_uri=urn%3aietf%3awg%3aoauth%3a2.0%3aoob&response_type=code&scope=email%20https%3a%2f%2fwww.googleapis.com%2fauth%2fdocs.test%20https%3a%2f%2fwww.googleapis.com%2fauth%2fdrive%20https%3a%2f%2fwww.googleapis.com%2fauth%2fdrive.photos.readonly%20https%3a%2f%2fwww.googleapis.com%2fauth%2fpeopleapi.readonly\n",
            "\n",
            "Enter your authorization code:\n",
            "··········\n",
            "Mounted at /content/drive\n"
          ],
          "name": "stdout"
        }
      ]
    },
    {
      "cell_type": "code",
      "metadata": {
        "id": "isLnf1it8u4C",
        "colab_type": "code",
        "colab": {}
      },
      "source": [
        "# Jupyter: assign path\n",
        "file_path = \"../input/file.csv\"\n",
        "# Google Colab: You can navigate in your folder and just copy the path (easier)\n",
        "file_path = '/content/drive/My Drive/Colab Notebooks (1)/dataset_example.csv'"
      ],
      "execution_count": 0,
      "outputs": []
    },
    {
      "cell_type": "code",
      "metadata": {
        "id": "Fz3tW6ao8n10",
        "colab_type": "code",
        "colab": {}
      },
      "source": [
        "# read csv from file path --> as a dataframe\n",
        "df = pd.read_csv(file_path)\n",
        "# df = pd.read_csv(file_path, sep='\\t') # can be also , ; | "
      ],
      "execution_count": 0,
      "outputs": []
    },
    {
      "cell_type": "code",
      "metadata": {
        "id": "-4nFqYVbewEN",
        "colab_type": "code",
        "outputId": "1c209e1b-0073-4d4b-bfbe-91da108676a0",
        "colab": {
          "base_uri": "https://localhost:8080/",
          "height": 34
        }
      },
      "source": [
        "# check the length of the dataset\n",
        "len(df) "
      ],
      "execution_count": 10,
      "outputs": [
        {
          "output_type": "execute_result",
          "data": {
            "text/plain": [
              "23"
            ]
          },
          "metadata": {
            "tags": []
          },
          "execution_count": 10
        }
      ]
    },
    {
      "cell_type": "code",
      "metadata": {
        "id": "izA7seGy-84e",
        "colab_type": "code",
        "colab": {
          "base_uri": "https://localhost:8080/",
          "height": 34
        },
        "outputId": "3684db07-a9d3-4b72-adf4-f4e0b22404ad"
      },
      "source": [
        "# check number of columns (variables) and rows (observations)\n",
        "df.shape"
      ],
      "execution_count": 11,
      "outputs": [
        {
          "output_type": "execute_result",
          "data": {
            "text/plain": [
              "(23, 10)"
            ]
          },
          "metadata": {
            "tags": []
          },
          "execution_count": 11
        }
      ]
    },
    {
      "cell_type": "code",
      "metadata": {
        "id": "_d8G7p-NzC73",
        "colab_type": "code",
        "outputId": "8bfdeced-6310-4dcf-eb28-1e448fbe488c",
        "colab": {
          "base_uri": "https://localhost:8080/",
          "height": 68
        }
      },
      "source": [
        "# read columns names\n",
        "df.columns"
      ],
      "execution_count": 12,
      "outputs": [
        {
          "output_type": "execute_result",
          "data": {
            "text/plain": [
              "Index(['moment', 'city', 'shop', 'client', 'operation', 'product', 'quantity',\n",
              "       'vip', 'gender', 'age'],\n",
              "      dtype='object')"
            ]
          },
          "metadata": {
            "tags": []
          },
          "execution_count": 12
        }
      ]
    },
    {
      "cell_type": "code",
      "metadata": {
        "id": "i7TlKbpH-1n_",
        "colab_type": "code",
        "colab": {
          "base_uri": "https://localhost:8080/",
          "height": 34
        },
        "outputId": "850731bd-a005-4dd0-b596-1c792d88130e"
      },
      "source": [
        "# read index\n",
        "df.index"
      ],
      "execution_count": 13,
      "outputs": [
        {
          "output_type": "execute_result",
          "data": {
            "text/plain": [
              "RangeIndex(start=0, stop=23, step=1)"
            ]
          },
          "metadata": {
            "tags": []
          },
          "execution_count": 13
        }
      ]
    },
    {
      "cell_type": "code",
      "metadata": {
        "id": "KclBJEg7_Fni",
        "colab_type": "code",
        "colab": {
          "base_uri": "https://localhost:8080/",
          "height": 359
        },
        "outputId": "b74dd63b-5b64-48a2-a228-903f94f64be7"
      },
      "source": [
        "# check the first 5 and 10 rows\n",
        "df.head()\n",
        "df.head(10)"
      ],
      "execution_count": 14,
      "outputs": [
        {
          "output_type": "execute_result",
          "data": {
            "text/html": [
              "<div>\n",
              "<style scoped>\n",
              "    .dataframe tbody tr th:only-of-type {\n",
              "        vertical-align: middle;\n",
              "    }\n",
              "\n",
              "    .dataframe tbody tr th {\n",
              "        vertical-align: top;\n",
              "    }\n",
              "\n",
              "    .dataframe thead th {\n",
              "        text-align: right;\n",
              "    }\n",
              "</style>\n",
              "<table border=\"1\" class=\"dataframe\">\n",
              "  <thead>\n",
              "    <tr style=\"text-align: right;\">\n",
              "      <th></th>\n",
              "      <th>moment</th>\n",
              "      <th>city</th>\n",
              "      <th>shop</th>\n",
              "      <th>client</th>\n",
              "      <th>operation</th>\n",
              "      <th>product</th>\n",
              "      <th>quantity</th>\n",
              "      <th>vip</th>\n",
              "      <th>gender</th>\n",
              "      <th>age</th>\n",
              "    </tr>\n",
              "  </thead>\n",
              "  <tbody>\n",
              "    <tr>\n",
              "      <th>0</th>\n",
              "      <td>26/01/2020 18:44:10</td>\n",
              "      <td>Madrid</td>\n",
              "      <td>1</td>\n",
              "      <td>50.0</td>\n",
              "      <td>purchase</td>\n",
              "      <td>beer</td>\n",
              "      <td>5</td>\n",
              "      <td>Yes</td>\n",
              "      <td>M</td>\n",
              "      <td>50.0</td>\n",
              "    </tr>\n",
              "    <tr>\n",
              "      <th>1</th>\n",
              "      <td>27/01/2020 2:44:10</td>\n",
              "      <td>Madrid</td>\n",
              "      <td>1</td>\n",
              "      <td>60.0</td>\n",
              "      <td>purchase</td>\n",
              "      <td>cat</td>\n",
              "      <td>1</td>\n",
              "      <td>No</td>\n",
              "      <td>M</td>\n",
              "      <td>24.0</td>\n",
              "    </tr>\n",
              "    <tr>\n",
              "      <th>2</th>\n",
              "      <td>27/01/2020 10:44:10</td>\n",
              "      <td>Madrid</td>\n",
              "      <td>2</td>\n",
              "      <td>50.0</td>\n",
              "      <td>purchase</td>\n",
              "      <td>dog</td>\n",
              "      <td>1</td>\n",
              "      <td>No</td>\n",
              "      <td>NaN</td>\n",
              "      <td>30.0</td>\n",
              "    </tr>\n",
              "    <tr>\n",
              "      <th>3</th>\n",
              "      <td>27/01/2020 18:44:10</td>\n",
              "      <td>Madrid</td>\n",
              "      <td>2</td>\n",
              "      <td>60.0</td>\n",
              "      <td>purchase</td>\n",
              "      <td>pizza</td>\n",
              "      <td>3</td>\n",
              "      <td>No</td>\n",
              "      <td>F</td>\n",
              "      <td>NaN</td>\n",
              "    </tr>\n",
              "    <tr>\n",
              "      <th>4</th>\n",
              "      <td>28/01/2020 2:44:10</td>\n",
              "      <td>Madrid</td>\n",
              "      <td>3</td>\n",
              "      <td>85.0</td>\n",
              "      <td>purchase</td>\n",
              "      <td>pasta</td>\n",
              "      <td>2</td>\n",
              "      <td>No</td>\n",
              "      <td>NaN</td>\n",
              "      <td>NaN</td>\n",
              "    </tr>\n",
              "    <tr>\n",
              "      <th>5</th>\n",
              "      <td>28/01/2020 10:44:10</td>\n",
              "      <td>Madrid</td>\n",
              "      <td>2</td>\n",
              "      <td>NaN</td>\n",
              "      <td>purchase</td>\n",
              "      <td>rice</td>\n",
              "      <td>5</td>\n",
              "      <td>NaN</td>\n",
              "      <td>NaN</td>\n",
              "      <td>NaN</td>\n",
              "    </tr>\n",
              "    <tr>\n",
              "      <th>6</th>\n",
              "      <td>28/01/2020 18:44:10</td>\n",
              "      <td>Madrid</td>\n",
              "      <td>3</td>\n",
              "      <td>26.0</td>\n",
              "      <td>purchase</td>\n",
              "      <td>bread</td>\n",
              "      <td>2</td>\n",
              "      <td>Yes</td>\n",
              "      <td>NaN</td>\n",
              "      <td>30.0</td>\n",
              "    </tr>\n",
              "    <tr>\n",
              "      <th>7</th>\n",
              "      <td>29/01/2020 2:44:10</td>\n",
              "      <td>Madrid</td>\n",
              "      <td>1</td>\n",
              "      <td>32.0</td>\n",
              "      <td>purchase</td>\n",
              "      <td>beans</td>\n",
              "      <td>1</td>\n",
              "      <td>Yes</td>\n",
              "      <td>NaN</td>\n",
              "      <td>NaN</td>\n",
              "    </tr>\n",
              "    <tr>\n",
              "      <th>8</th>\n",
              "      <td>29/01/2020 10:44:10</td>\n",
              "      <td>Madrid</td>\n",
              "      <td>1</td>\n",
              "      <td>NaN</td>\n",
              "      <td>purchase</td>\n",
              "      <td>lamb</td>\n",
              "      <td>1</td>\n",
              "      <td>NaN</td>\n",
              "      <td>NaN</td>\n",
              "      <td>NaN</td>\n",
              "    </tr>\n",
              "    <tr>\n",
              "      <th>9</th>\n",
              "      <td>29/01/2020 18:44:10</td>\n",
              "      <td>Madrid</td>\n",
              "      <td>3</td>\n",
              "      <td>57.0</td>\n",
              "      <td>purchase</td>\n",
              "      <td>chicken</td>\n",
              "      <td>7</td>\n",
              "      <td>No</td>\n",
              "      <td>F</td>\n",
              "      <td>NaN</td>\n",
              "    </tr>\n",
              "  </tbody>\n",
              "</table>\n",
              "</div>"
            ],
            "text/plain": [
              "                moment    city  shop  client  ... quantity  vip  gender   age\n",
              "0  26/01/2020 18:44:10  Madrid     1    50.0  ...        5  Yes       M  50.0\n",
              "1   27/01/2020 2:44:10  Madrid     1    60.0  ...        1   No       M  24.0\n",
              "2  27/01/2020 10:44:10  Madrid     2    50.0  ...        1   No     NaN  30.0\n",
              "3  27/01/2020 18:44:10  Madrid     2    60.0  ...        3   No       F   NaN\n",
              "4   28/01/2020 2:44:10  Madrid     3    85.0  ...        2   No     NaN   NaN\n",
              "5  28/01/2020 10:44:10  Madrid     2     NaN  ...        5  NaN     NaN   NaN\n",
              "6  28/01/2020 18:44:10  Madrid     3    26.0  ...        2  Yes     NaN  30.0\n",
              "7   29/01/2020 2:44:10  Madrid     1    32.0  ...        1  Yes     NaN   NaN\n",
              "8  29/01/2020 10:44:10  Madrid     1     NaN  ...        1  NaN     NaN   NaN\n",
              "9  29/01/2020 18:44:10  Madrid     3    57.0  ...        7   No       F   NaN\n",
              "\n",
              "[10 rows x 10 columns]"
            ]
          },
          "metadata": {
            "tags": []
          },
          "execution_count": 14
        }
      ]
    },
    {
      "cell_type": "code",
      "metadata": {
        "id": "jul09CEj_Fz3",
        "colab_type": "code",
        "colab": {
          "base_uri": "https://localhost:8080/",
          "height": 142
        },
        "outputId": "30dd2fc9-4abc-45e0-9e2f-246054715544"
      },
      "source": [
        "# check the last 5 and 3 rows\n",
        "df.tail()\n",
        "df.tail(3)"
      ],
      "execution_count": 15,
      "outputs": [
        {
          "output_type": "execute_result",
          "data": {
            "text/html": [
              "<div>\n",
              "<style scoped>\n",
              "    .dataframe tbody tr th:only-of-type {\n",
              "        vertical-align: middle;\n",
              "    }\n",
              "\n",
              "    .dataframe tbody tr th {\n",
              "        vertical-align: top;\n",
              "    }\n",
              "\n",
              "    .dataframe thead th {\n",
              "        text-align: right;\n",
              "    }\n",
              "</style>\n",
              "<table border=\"1\" class=\"dataframe\">\n",
              "  <thead>\n",
              "    <tr style=\"text-align: right;\">\n",
              "      <th></th>\n",
              "      <th>moment</th>\n",
              "      <th>city</th>\n",
              "      <th>shop</th>\n",
              "      <th>client</th>\n",
              "      <th>operation</th>\n",
              "      <th>product</th>\n",
              "      <th>quantity</th>\n",
              "      <th>vip</th>\n",
              "      <th>gender</th>\n",
              "      <th>age</th>\n",
              "    </tr>\n",
              "  </thead>\n",
              "  <tbody>\n",
              "    <tr>\n",
              "      <th>20</th>\n",
              "      <td>02/02/2020 10:44:10</td>\n",
              "      <td>Barcelona</td>\n",
              "      <td>5</td>\n",
              "      <td>58.0</td>\n",
              "      <td>return</td>\n",
              "      <td>chorizo</td>\n",
              "      <td>1</td>\n",
              "      <td>Yes</td>\n",
              "      <td>NaN</td>\n",
              "      <td>50.0</td>\n",
              "    </tr>\n",
              "    <tr>\n",
              "      <th>21</th>\n",
              "      <td>02/02/2020 18:44:10</td>\n",
              "      <td>Barcelona</td>\n",
              "      <td>8</td>\n",
              "      <td>42.0</td>\n",
              "      <td>purchase</td>\n",
              "      <td>beer</td>\n",
              "      <td>7</td>\n",
              "      <td>Yes</td>\n",
              "      <td>NaN</td>\n",
              "      <td>NaN</td>\n",
              "    </tr>\n",
              "    <tr>\n",
              "      <th>22</th>\n",
              "      <td>03/02/2020 2:44:10</td>\n",
              "      <td>Barcelona</td>\n",
              "      <td>9</td>\n",
              "      <td>NaN</td>\n",
              "      <td>purchase</td>\n",
              "      <td>beer</td>\n",
              "      <td>3</td>\n",
              "      <td>NaN</td>\n",
              "      <td>NaN</td>\n",
              "      <td>NaN</td>\n",
              "    </tr>\n",
              "  </tbody>\n",
              "</table>\n",
              "</div>"
            ],
            "text/plain": [
              "                 moment       city  shop  client  ... quantity  vip  gender   age\n",
              "20  02/02/2020 10:44:10  Barcelona     5    58.0  ...        1  Yes     NaN  50.0\n",
              "21  02/02/2020 18:44:10  Barcelona     8    42.0  ...        7  Yes     NaN   NaN\n",
              "22   03/02/2020 2:44:10  Barcelona     9     NaN  ...        3  NaN     NaN   NaN\n",
              "\n",
              "[3 rows x 10 columns]"
            ]
          },
          "metadata": {
            "tags": []
          },
          "execution_count": 15
        }
      ]
    },
    {
      "cell_type": "code",
      "metadata": {
        "id": "v0-2XHFJ_F8G",
        "colab_type": "code",
        "colab": {
          "base_uri": "https://localhost:8080/",
          "height": 80
        },
        "outputId": "e3f78d22-af6f-4331-bc77-b9d05327c901"
      },
      "source": [
        "# check 4 and 1 random rows\n",
        "df.sample(4)\n",
        "df.sample()"
      ],
      "execution_count": 16,
      "outputs": [
        {
          "output_type": "execute_result",
          "data": {
            "text/html": [
              "<div>\n",
              "<style scoped>\n",
              "    .dataframe tbody tr th:only-of-type {\n",
              "        vertical-align: middle;\n",
              "    }\n",
              "\n",
              "    .dataframe tbody tr th {\n",
              "        vertical-align: top;\n",
              "    }\n",
              "\n",
              "    .dataframe thead th {\n",
              "        text-align: right;\n",
              "    }\n",
              "</style>\n",
              "<table border=\"1\" class=\"dataframe\">\n",
              "  <thead>\n",
              "    <tr style=\"text-align: right;\">\n",
              "      <th></th>\n",
              "      <th>moment</th>\n",
              "      <th>city</th>\n",
              "      <th>shop</th>\n",
              "      <th>client</th>\n",
              "      <th>operation</th>\n",
              "      <th>product</th>\n",
              "      <th>quantity</th>\n",
              "      <th>vip</th>\n",
              "      <th>gender</th>\n",
              "      <th>age</th>\n",
              "    </tr>\n",
              "  </thead>\n",
              "  <tbody>\n",
              "    <tr>\n",
              "      <th>6</th>\n",
              "      <td>28/01/2020 18:44:10</td>\n",
              "      <td>Madrid</td>\n",
              "      <td>3</td>\n",
              "      <td>26.0</td>\n",
              "      <td>purchase</td>\n",
              "      <td>bread</td>\n",
              "      <td>2</td>\n",
              "      <td>Yes</td>\n",
              "      <td>NaN</td>\n",
              "      <td>30.0</td>\n",
              "    </tr>\n",
              "  </tbody>\n",
              "</table>\n",
              "</div>"
            ],
            "text/plain": [
              "                moment    city  shop  client  ... quantity  vip  gender   age\n",
              "6  28/01/2020 18:44:10  Madrid     3    26.0  ...        2  Yes     NaN  30.0\n",
              "\n",
              "[1 rows x 10 columns]"
            ]
          },
          "metadata": {
            "tags": []
          },
          "execution_count": 16
        }
      ]
    },
    {
      "cell_type": "code",
      "metadata": {
        "id": "UNYDJf0bzY4k",
        "colab_type": "code",
        "outputId": "708e3e5a-a74e-4b98-d715-3f4da7ca8448",
        "colab": {
          "base_uri": "https://localhost:8080/",
          "height": 204
        }
      },
      "source": [
        "# check types of variables\n",
        "df.dtypes"
      ],
      "execution_count": 17,
      "outputs": [
        {
          "output_type": "execute_result",
          "data": {
            "text/plain": [
              "moment        object\n",
              "city          object\n",
              "shop           int64\n",
              "client       float64\n",
              "operation     object\n",
              "product       object\n",
              "quantity       int64\n",
              "vip           object\n",
              "gender        object\n",
              "age          float64\n",
              "dtype: object"
            ]
          },
          "metadata": {
            "tags": []
          },
          "execution_count": 17
        }
      ]
    },
    {
      "cell_type": "code",
      "metadata": {
        "id": "jLBBhHeEzY1J",
        "colab_type": "code",
        "outputId": "1c680f87-5e0e-4caa-b482-e56fdab40032",
        "colab": {
          "base_uri": "https://localhost:8080/",
          "height": 272
        }
      },
      "source": [
        "# check information about types, null and registers for all variables\n",
        "df.info()"
      ],
      "execution_count": 18,
      "outputs": [
        {
          "output_type": "stream",
          "text": [
            "<class 'pandas.core.frame.DataFrame'>\n",
            "RangeIndex: 23 entries, 0 to 22\n",
            "Data columns (total 10 columns):\n",
            "moment       23 non-null object\n",
            "city         23 non-null object\n",
            "shop         23 non-null int64\n",
            "client       20 non-null float64\n",
            "operation    23 non-null object\n",
            "product      23 non-null object\n",
            "quantity     23 non-null int64\n",
            "vip          20 non-null object\n",
            "gender       6 non-null object\n",
            "age          9 non-null float64\n",
            "dtypes: float64(2), int64(2), object(6)\n",
            "memory usage: 1.9+ KB\n"
          ],
          "name": "stdout"
        }
      ]
    },
    {
      "cell_type": "code",
      "metadata": {
        "id": "-DP_ORZdzqqj",
        "colab_type": "code",
        "outputId": "e449a3c3-b4da-4de7-c527-01f07a84a090",
        "colab": {
          "base_uri": "https://localhost:8080/",
          "height": 204
        }
      },
      "source": [
        "# check missing values \n",
        "df.isna().sum()\n",
        "df.isnull().sum()"
      ],
      "execution_count": 19,
      "outputs": [
        {
          "output_type": "execute_result",
          "data": {
            "text/plain": [
              "moment        0\n",
              "city          0\n",
              "shop          0\n",
              "client        3\n",
              "operation     0\n",
              "product       0\n",
              "quantity      0\n",
              "vip           3\n",
              "gender       17\n",
              "age          14\n",
              "dtype: int64"
            ]
          },
          "metadata": {
            "tags": []
          },
          "execution_count": 19
        }
      ]
    },
    {
      "cell_type": "code",
      "metadata": {
        "id": "dSrPpjT3zYye",
        "colab_type": "code",
        "outputId": "13b82c36-c125-4fb2-b99d-f4299cd2de96",
        "colab": {
          "base_uri": "https://localhost:8080/",
          "height": 204
        }
      },
      "source": [
        "# check unique values \n",
        "df.nunique()"
      ],
      "execution_count": 20,
      "outputs": [
        {
          "output_type": "execute_result",
          "data": {
            "text/plain": [
              "moment       23\n",
              "city          2\n",
              "shop          8\n",
              "client       13\n",
              "operation     2\n",
              "product      15\n",
              "quantity      7\n",
              "vip           2\n",
              "gender        2\n",
              "age           4\n",
              "dtype: int64"
            ]
          },
          "metadata": {
            "tags": []
          },
          "execution_count": 20
        }
      ]
    },
    {
      "cell_type": "code",
      "metadata": {
        "id": "YmBgXEuB-PUV",
        "colab_type": "code",
        "colab": {
          "base_uri": "https://localhost:8080/",
          "height": 297
        },
        "outputId": "08dd4b07-022d-476a-dbd1-ad9eb0a0bd13"
      },
      "source": [
        "# sort values by column 'client', in the order you want\n",
        "df.sort_values(by='client', ascending=False, inplace=True)\n",
        "df.head(8)"
      ],
      "execution_count": 21,
      "outputs": [
        {
          "output_type": "execute_result",
          "data": {
            "text/html": [
              "<div>\n",
              "<style scoped>\n",
              "    .dataframe tbody tr th:only-of-type {\n",
              "        vertical-align: middle;\n",
              "    }\n",
              "\n",
              "    .dataframe tbody tr th {\n",
              "        vertical-align: top;\n",
              "    }\n",
              "\n",
              "    .dataframe thead th {\n",
              "        text-align: right;\n",
              "    }\n",
              "</style>\n",
              "<table border=\"1\" class=\"dataframe\">\n",
              "  <thead>\n",
              "    <tr style=\"text-align: right;\">\n",
              "      <th></th>\n",
              "      <th>moment</th>\n",
              "      <th>city</th>\n",
              "      <th>shop</th>\n",
              "      <th>client</th>\n",
              "      <th>operation</th>\n",
              "      <th>product</th>\n",
              "      <th>quantity</th>\n",
              "      <th>vip</th>\n",
              "      <th>gender</th>\n",
              "      <th>age</th>\n",
              "    </tr>\n",
              "  </thead>\n",
              "  <tbody>\n",
              "    <tr>\n",
              "      <th>4</th>\n",
              "      <td>28/01/2020 2:44:10</td>\n",
              "      <td>Madrid</td>\n",
              "      <td>3</td>\n",
              "      <td>85.0</td>\n",
              "      <td>purchase</td>\n",
              "      <td>pasta</td>\n",
              "      <td>2</td>\n",
              "      <td>No</td>\n",
              "      <td>NaN</td>\n",
              "      <td>NaN</td>\n",
              "    </tr>\n",
              "    <tr>\n",
              "      <th>15</th>\n",
              "      <td>31/01/2020 18:44:10</td>\n",
              "      <td>Barcelona</td>\n",
              "      <td>8</td>\n",
              "      <td>76.0</td>\n",
              "      <td>purchase</td>\n",
              "      <td>chicken</td>\n",
              "      <td>5</td>\n",
              "      <td>Yes</td>\n",
              "      <td>NaN</td>\n",
              "      <td>NaN</td>\n",
              "    </tr>\n",
              "    <tr>\n",
              "      <th>12</th>\n",
              "      <td>30/01/2020 18:44:10</td>\n",
              "      <td>Barcelona</td>\n",
              "      <td>7</td>\n",
              "      <td>69.0</td>\n",
              "      <td>purchase</td>\n",
              "      <td>tortilla</td>\n",
              "      <td>2</td>\n",
              "      <td>No</td>\n",
              "      <td>NaN</td>\n",
              "      <td>40.0</td>\n",
              "    </tr>\n",
              "    <tr>\n",
              "      <th>11</th>\n",
              "      <td>30/01/2020 10:44:10</td>\n",
              "      <td>Barcelona</td>\n",
              "      <td>5</td>\n",
              "      <td>63.0</td>\n",
              "      <td>purchase</td>\n",
              "      <td>cheese</td>\n",
              "      <td>5</td>\n",
              "      <td>No</td>\n",
              "      <td>NaN</td>\n",
              "      <td>NaN</td>\n",
              "    </tr>\n",
              "    <tr>\n",
              "      <th>3</th>\n",
              "      <td>27/01/2020 18:44:10</td>\n",
              "      <td>Madrid</td>\n",
              "      <td>2</td>\n",
              "      <td>60.0</td>\n",
              "      <td>purchase</td>\n",
              "      <td>pizza</td>\n",
              "      <td>3</td>\n",
              "      <td>No</td>\n",
              "      <td>F</td>\n",
              "      <td>NaN</td>\n",
              "    </tr>\n",
              "    <tr>\n",
              "      <th>1</th>\n",
              "      <td>27/01/2020 2:44:10</td>\n",
              "      <td>Madrid</td>\n",
              "      <td>1</td>\n",
              "      <td>60.0</td>\n",
              "      <td>purchase</td>\n",
              "      <td>cat</td>\n",
              "      <td>1</td>\n",
              "      <td>No</td>\n",
              "      <td>M</td>\n",
              "      <td>24.0</td>\n",
              "    </tr>\n",
              "    <tr>\n",
              "      <th>14</th>\n",
              "      <td>31/01/2020 10:44:10</td>\n",
              "      <td>Barcelona</td>\n",
              "      <td>8</td>\n",
              "      <td>58.0</td>\n",
              "      <td>purchase</td>\n",
              "      <td>chorizo</td>\n",
              "      <td>6</td>\n",
              "      <td>No</td>\n",
              "      <td>M</td>\n",
              "      <td>NaN</td>\n",
              "    </tr>\n",
              "    <tr>\n",
              "      <th>20</th>\n",
              "      <td>02/02/2020 10:44:10</td>\n",
              "      <td>Barcelona</td>\n",
              "      <td>5</td>\n",
              "      <td>58.0</td>\n",
              "      <td>return</td>\n",
              "      <td>chorizo</td>\n",
              "      <td>1</td>\n",
              "      <td>Yes</td>\n",
              "      <td>NaN</td>\n",
              "      <td>50.0</td>\n",
              "    </tr>\n",
              "  </tbody>\n",
              "</table>\n",
              "</div>"
            ],
            "text/plain": [
              "                 moment       city  shop  client  ... quantity  vip  gender   age\n",
              "4    28/01/2020 2:44:10     Madrid     3    85.0  ...        2   No     NaN   NaN\n",
              "15  31/01/2020 18:44:10  Barcelona     8    76.0  ...        5  Yes     NaN   NaN\n",
              "12  30/01/2020 18:44:10  Barcelona     7    69.0  ...        2   No     NaN  40.0\n",
              "11  30/01/2020 10:44:10  Barcelona     5    63.0  ...        5   No     NaN   NaN\n",
              "3   27/01/2020 18:44:10     Madrid     2    60.0  ...        3   No       F   NaN\n",
              "1    27/01/2020 2:44:10     Madrid     1    60.0  ...        1   No       M  24.0\n",
              "14  31/01/2020 10:44:10  Barcelona     8    58.0  ...        6   No       M   NaN\n",
              "20  02/02/2020 10:44:10  Barcelona     5    58.0  ...        1  Yes     NaN  50.0\n",
              "\n",
              "[8 rows x 10 columns]"
            ]
          },
          "metadata": {
            "tags": []
          },
          "execution_count": 21
        }
      ]
    },
    {
      "cell_type": "code",
      "metadata": {
        "id": "n5ejIb-tctDb",
        "colab_type": "code",
        "colab": {
          "base_uri": "https://localhost:8080/",
          "height": 204
        },
        "outputId": "4e0d9cd6-6e21-4c5f-c044-21a6994692d1"
      },
      "source": [
        "# reset the index\n",
        "df.reset_index(inplace=True)\n",
        "df.head()"
      ],
      "execution_count": 22,
      "outputs": [
        {
          "output_type": "execute_result",
          "data": {
            "text/html": [
              "<div>\n",
              "<style scoped>\n",
              "    .dataframe tbody tr th:only-of-type {\n",
              "        vertical-align: middle;\n",
              "    }\n",
              "\n",
              "    .dataframe tbody tr th {\n",
              "        vertical-align: top;\n",
              "    }\n",
              "\n",
              "    .dataframe thead th {\n",
              "        text-align: right;\n",
              "    }\n",
              "</style>\n",
              "<table border=\"1\" class=\"dataframe\">\n",
              "  <thead>\n",
              "    <tr style=\"text-align: right;\">\n",
              "      <th></th>\n",
              "      <th>index</th>\n",
              "      <th>moment</th>\n",
              "      <th>city</th>\n",
              "      <th>shop</th>\n",
              "      <th>client</th>\n",
              "      <th>operation</th>\n",
              "      <th>product</th>\n",
              "      <th>quantity</th>\n",
              "      <th>vip</th>\n",
              "      <th>gender</th>\n",
              "      <th>age</th>\n",
              "    </tr>\n",
              "  </thead>\n",
              "  <tbody>\n",
              "    <tr>\n",
              "      <th>0</th>\n",
              "      <td>4</td>\n",
              "      <td>28/01/2020 2:44:10</td>\n",
              "      <td>Madrid</td>\n",
              "      <td>3</td>\n",
              "      <td>85.0</td>\n",
              "      <td>purchase</td>\n",
              "      <td>pasta</td>\n",
              "      <td>2</td>\n",
              "      <td>No</td>\n",
              "      <td>NaN</td>\n",
              "      <td>NaN</td>\n",
              "    </tr>\n",
              "    <tr>\n",
              "      <th>1</th>\n",
              "      <td>15</td>\n",
              "      <td>31/01/2020 18:44:10</td>\n",
              "      <td>Barcelona</td>\n",
              "      <td>8</td>\n",
              "      <td>76.0</td>\n",
              "      <td>purchase</td>\n",
              "      <td>chicken</td>\n",
              "      <td>5</td>\n",
              "      <td>Yes</td>\n",
              "      <td>NaN</td>\n",
              "      <td>NaN</td>\n",
              "    </tr>\n",
              "    <tr>\n",
              "      <th>2</th>\n",
              "      <td>12</td>\n",
              "      <td>30/01/2020 18:44:10</td>\n",
              "      <td>Barcelona</td>\n",
              "      <td>7</td>\n",
              "      <td>69.0</td>\n",
              "      <td>purchase</td>\n",
              "      <td>tortilla</td>\n",
              "      <td>2</td>\n",
              "      <td>No</td>\n",
              "      <td>NaN</td>\n",
              "      <td>40.0</td>\n",
              "    </tr>\n",
              "    <tr>\n",
              "      <th>3</th>\n",
              "      <td>11</td>\n",
              "      <td>30/01/2020 10:44:10</td>\n",
              "      <td>Barcelona</td>\n",
              "      <td>5</td>\n",
              "      <td>63.0</td>\n",
              "      <td>purchase</td>\n",
              "      <td>cheese</td>\n",
              "      <td>5</td>\n",
              "      <td>No</td>\n",
              "      <td>NaN</td>\n",
              "      <td>NaN</td>\n",
              "    </tr>\n",
              "    <tr>\n",
              "      <th>4</th>\n",
              "      <td>3</td>\n",
              "      <td>27/01/2020 18:44:10</td>\n",
              "      <td>Madrid</td>\n",
              "      <td>2</td>\n",
              "      <td>60.0</td>\n",
              "      <td>purchase</td>\n",
              "      <td>pizza</td>\n",
              "      <td>3</td>\n",
              "      <td>No</td>\n",
              "      <td>F</td>\n",
              "      <td>NaN</td>\n",
              "    </tr>\n",
              "  </tbody>\n",
              "</table>\n",
              "</div>"
            ],
            "text/plain": [
              "   index               moment       city  shop  ...  quantity  vip gender   age\n",
              "0      4   28/01/2020 2:44:10     Madrid     3  ...         2   No    NaN   NaN\n",
              "1     15  31/01/2020 18:44:10  Barcelona     8  ...         5  Yes    NaN   NaN\n",
              "2     12  30/01/2020 18:44:10  Barcelona     7  ...         2   No    NaN  40.0\n",
              "3     11  30/01/2020 10:44:10  Barcelona     5  ...         5   No    NaN   NaN\n",
              "4      3  27/01/2020 18:44:10     Madrid     2  ...         3   No      F   NaN\n",
              "\n",
              "[5 rows x 11 columns]"
            ]
          },
          "metadata": {
            "tags": []
          },
          "execution_count": 22
        }
      ]
    },
    {
      "cell_type": "code",
      "metadata": {
        "id": "4JqTLnqtChXw",
        "colab_type": "code",
        "colab": {
          "base_uri": "https://localhost:8080/",
          "height": 68
        },
        "outputId": "285a9dd2-04cb-4ad1-cd27-fe9009aceb49"
      },
      "source": [
        "df.columns"
      ],
      "execution_count": 23,
      "outputs": [
        {
          "output_type": "execute_result",
          "data": {
            "text/plain": [
              "Index(['index', 'moment', 'city', 'shop', 'client', 'operation', 'product',\n",
              "       'quantity', 'vip', 'gender', 'age'],\n",
              "      dtype='object')"
            ]
          },
          "metadata": {
            "tags": []
          },
          "execution_count": 23
        }
      ]
    },
    {
      "cell_type": "code",
      "metadata": {
        "id": "NyPnq0A_AFEU",
        "colab_type": "code",
        "colab": {
          "base_uri": "https://localhost:8080/",
          "height": 235
        },
        "outputId": "e226280e-21a1-480b-a019-39219f112531"
      },
      "source": [
        "# set again the index to the original one\n",
        "df = df.set_index(keys='index')\n",
        "df.head()"
      ],
      "execution_count": 24,
      "outputs": [
        {
          "output_type": "execute_result",
          "data": {
            "text/html": [
              "<div>\n",
              "<style scoped>\n",
              "    .dataframe tbody tr th:only-of-type {\n",
              "        vertical-align: middle;\n",
              "    }\n",
              "\n",
              "    .dataframe tbody tr th {\n",
              "        vertical-align: top;\n",
              "    }\n",
              "\n",
              "    .dataframe thead th {\n",
              "        text-align: right;\n",
              "    }\n",
              "</style>\n",
              "<table border=\"1\" class=\"dataframe\">\n",
              "  <thead>\n",
              "    <tr style=\"text-align: right;\">\n",
              "      <th></th>\n",
              "      <th>moment</th>\n",
              "      <th>city</th>\n",
              "      <th>shop</th>\n",
              "      <th>client</th>\n",
              "      <th>operation</th>\n",
              "      <th>product</th>\n",
              "      <th>quantity</th>\n",
              "      <th>vip</th>\n",
              "      <th>gender</th>\n",
              "      <th>age</th>\n",
              "    </tr>\n",
              "    <tr>\n",
              "      <th>index</th>\n",
              "      <th></th>\n",
              "      <th></th>\n",
              "      <th></th>\n",
              "      <th></th>\n",
              "      <th></th>\n",
              "      <th></th>\n",
              "      <th></th>\n",
              "      <th></th>\n",
              "      <th></th>\n",
              "      <th></th>\n",
              "    </tr>\n",
              "  </thead>\n",
              "  <tbody>\n",
              "    <tr>\n",
              "      <th>4</th>\n",
              "      <td>28/01/2020 2:44:10</td>\n",
              "      <td>Madrid</td>\n",
              "      <td>3</td>\n",
              "      <td>85.0</td>\n",
              "      <td>purchase</td>\n",
              "      <td>pasta</td>\n",
              "      <td>2</td>\n",
              "      <td>No</td>\n",
              "      <td>NaN</td>\n",
              "      <td>NaN</td>\n",
              "    </tr>\n",
              "    <tr>\n",
              "      <th>15</th>\n",
              "      <td>31/01/2020 18:44:10</td>\n",
              "      <td>Barcelona</td>\n",
              "      <td>8</td>\n",
              "      <td>76.0</td>\n",
              "      <td>purchase</td>\n",
              "      <td>chicken</td>\n",
              "      <td>5</td>\n",
              "      <td>Yes</td>\n",
              "      <td>NaN</td>\n",
              "      <td>NaN</td>\n",
              "    </tr>\n",
              "    <tr>\n",
              "      <th>12</th>\n",
              "      <td>30/01/2020 18:44:10</td>\n",
              "      <td>Barcelona</td>\n",
              "      <td>7</td>\n",
              "      <td>69.0</td>\n",
              "      <td>purchase</td>\n",
              "      <td>tortilla</td>\n",
              "      <td>2</td>\n",
              "      <td>No</td>\n",
              "      <td>NaN</td>\n",
              "      <td>40.0</td>\n",
              "    </tr>\n",
              "    <tr>\n",
              "      <th>11</th>\n",
              "      <td>30/01/2020 10:44:10</td>\n",
              "      <td>Barcelona</td>\n",
              "      <td>5</td>\n",
              "      <td>63.0</td>\n",
              "      <td>purchase</td>\n",
              "      <td>cheese</td>\n",
              "      <td>5</td>\n",
              "      <td>No</td>\n",
              "      <td>NaN</td>\n",
              "      <td>NaN</td>\n",
              "    </tr>\n",
              "    <tr>\n",
              "      <th>3</th>\n",
              "      <td>27/01/2020 18:44:10</td>\n",
              "      <td>Madrid</td>\n",
              "      <td>2</td>\n",
              "      <td>60.0</td>\n",
              "      <td>purchase</td>\n",
              "      <td>pizza</td>\n",
              "      <td>3</td>\n",
              "      <td>No</td>\n",
              "      <td>F</td>\n",
              "      <td>NaN</td>\n",
              "    </tr>\n",
              "  </tbody>\n",
              "</table>\n",
              "</div>"
            ],
            "text/plain": [
              "                    moment       city  shop  client  ... quantity  vip  gender   age\n",
              "index                                                ...                            \n",
              "4       28/01/2020 2:44:10     Madrid     3    85.0  ...        2   No     NaN   NaN\n",
              "15     31/01/2020 18:44:10  Barcelona     8    76.0  ...        5  Yes     NaN   NaN\n",
              "12     30/01/2020 18:44:10  Barcelona     7    69.0  ...        2   No     NaN  40.0\n",
              "11     30/01/2020 10:44:10  Barcelona     5    63.0  ...        5   No     NaN   NaN\n",
              "3      27/01/2020 18:44:10     Madrid     2    60.0  ...        3   No       F   NaN\n",
              "\n",
              "[5 rows x 10 columns]"
            ]
          },
          "metadata": {
            "tags": []
          },
          "execution_count": 24
        }
      ]
    },
    {
      "cell_type": "code",
      "metadata": {
        "id": "aEoHXDjkDMZq",
        "colab_type": "code",
        "colab": {
          "base_uri": "https://localhost:8080/",
          "height": 235
        },
        "outputId": "bcdd8dbd-dfe9-437c-c794-42d6b3c10733"
      },
      "source": [
        "# sort values by 'city' and 'shop' in the order you want\n",
        "df.sort_values(by=['city', 'shop'], ascending=[True, False], inplace=True)\n",
        "df.head()"
      ],
      "execution_count": 25,
      "outputs": [
        {
          "output_type": "execute_result",
          "data": {
            "text/html": [
              "<div>\n",
              "<style scoped>\n",
              "    .dataframe tbody tr th:only-of-type {\n",
              "        vertical-align: middle;\n",
              "    }\n",
              "\n",
              "    .dataframe tbody tr th {\n",
              "        vertical-align: top;\n",
              "    }\n",
              "\n",
              "    .dataframe thead th {\n",
              "        text-align: right;\n",
              "    }\n",
              "</style>\n",
              "<table border=\"1\" class=\"dataframe\">\n",
              "  <thead>\n",
              "    <tr style=\"text-align: right;\">\n",
              "      <th></th>\n",
              "      <th>moment</th>\n",
              "      <th>city</th>\n",
              "      <th>shop</th>\n",
              "      <th>client</th>\n",
              "      <th>operation</th>\n",
              "      <th>product</th>\n",
              "      <th>quantity</th>\n",
              "      <th>vip</th>\n",
              "      <th>gender</th>\n",
              "      <th>age</th>\n",
              "    </tr>\n",
              "    <tr>\n",
              "      <th>index</th>\n",
              "      <th></th>\n",
              "      <th></th>\n",
              "      <th></th>\n",
              "      <th></th>\n",
              "      <th></th>\n",
              "      <th></th>\n",
              "      <th></th>\n",
              "      <th></th>\n",
              "      <th></th>\n",
              "      <th></th>\n",
              "    </tr>\n",
              "  </thead>\n",
              "  <tbody>\n",
              "    <tr>\n",
              "      <th>18</th>\n",
              "      <td>01/02/2020 18:44:10</td>\n",
              "      <td>Barcelona</td>\n",
              "      <td>10</td>\n",
              "      <td>50.0</td>\n",
              "      <td>return</td>\n",
              "      <td>tortilla</td>\n",
              "      <td>1</td>\n",
              "      <td>Yes</td>\n",
              "      <td>M</td>\n",
              "      <td>NaN</td>\n",
              "    </tr>\n",
              "    <tr>\n",
              "      <th>17</th>\n",
              "      <td>01/02/2020 10:44:10</td>\n",
              "      <td>Barcelona</td>\n",
              "      <td>9</td>\n",
              "      <td>21.0</td>\n",
              "      <td>purchase</td>\n",
              "      <td>cheese</td>\n",
              "      <td>2</td>\n",
              "      <td>Yes</td>\n",
              "      <td>NaN</td>\n",
              "      <td>NaN</td>\n",
              "    </tr>\n",
              "    <tr>\n",
              "      <th>22</th>\n",
              "      <td>03/02/2020 2:44:10</td>\n",
              "      <td>Barcelona</td>\n",
              "      <td>9</td>\n",
              "      <td>NaN</td>\n",
              "      <td>purchase</td>\n",
              "      <td>beer</td>\n",
              "      <td>3</td>\n",
              "      <td>NaN</td>\n",
              "      <td>NaN</td>\n",
              "      <td>NaN</td>\n",
              "    </tr>\n",
              "    <tr>\n",
              "      <th>15</th>\n",
              "      <td>31/01/2020 18:44:10</td>\n",
              "      <td>Barcelona</td>\n",
              "      <td>8</td>\n",
              "      <td>76.0</td>\n",
              "      <td>purchase</td>\n",
              "      <td>chicken</td>\n",
              "      <td>5</td>\n",
              "      <td>Yes</td>\n",
              "      <td>NaN</td>\n",
              "      <td>NaN</td>\n",
              "    </tr>\n",
              "    <tr>\n",
              "      <th>14</th>\n",
              "      <td>31/01/2020 10:44:10</td>\n",
              "      <td>Barcelona</td>\n",
              "      <td>8</td>\n",
              "      <td>58.0</td>\n",
              "      <td>purchase</td>\n",
              "      <td>chorizo</td>\n",
              "      <td>6</td>\n",
              "      <td>No</td>\n",
              "      <td>M</td>\n",
              "      <td>NaN</td>\n",
              "    </tr>\n",
              "  </tbody>\n",
              "</table>\n",
              "</div>"
            ],
            "text/plain": [
              "                    moment       city  shop  client  ... quantity  vip  gender age\n",
              "index                                                ...                          \n",
              "18     01/02/2020 18:44:10  Barcelona    10    50.0  ...        1  Yes       M NaN\n",
              "17     01/02/2020 10:44:10  Barcelona     9    21.0  ...        2  Yes     NaN NaN\n",
              "22      03/02/2020 2:44:10  Barcelona     9     NaN  ...        3  NaN     NaN NaN\n",
              "15     31/01/2020 18:44:10  Barcelona     8    76.0  ...        5  Yes     NaN NaN\n",
              "14     31/01/2020 10:44:10  Barcelona     8    58.0  ...        6   No       M NaN\n",
              "\n",
              "[5 rows x 10 columns]"
            ]
          },
          "metadata": {
            "tags": []
          },
          "execution_count": 25
        }
      ]
    },
    {
      "cell_type": "code",
      "metadata": {
        "id": "KZ4x8DWk4fsa",
        "colab_type": "code",
        "colab": {
          "base_uri": "https://localhost:8080/",
          "height": 68
        },
        "outputId": "64a2666f-8441-4a50-aefc-f9895e46193a"
      },
      "source": [
        "# rename variable 'moment'replacing by 'date_hour' and 'vip' by 'Loyalty_card'\n",
        "df.rename(columns= {'moment': 'date_hour', 'vip':'Loyalty_card'}, inplace=True)\n",
        "df.columns"
      ],
      "execution_count": 26,
      "outputs": [
        {
          "output_type": "execute_result",
          "data": {
            "text/plain": [
              "Index(['date_hour', 'city', 'shop', 'client', 'operation', 'product',\n",
              "       'quantity', 'Loyalty_card', 'gender', 'age'],\n",
              "      dtype='object')"
            ]
          },
          "metadata": {
            "tags": []
          },
          "execution_count": 26
        }
      ]
    },
    {
      "cell_type": "code",
      "metadata": {
        "id": "0eugi66P5C_N",
        "colab_type": "code",
        "colab": {
          "base_uri": "https://localhost:8080/",
          "height": 68
        },
        "outputId": "6df341b9-7912-4058-84b3-f3a4734b89f4"
      },
      "source": [
        "# drop column gender\n",
        "df.drop(columns= ['gender'], inplace=True)\n",
        "df.columns"
      ],
      "execution_count": 27,
      "outputs": [
        {
          "output_type": "execute_result",
          "data": {
            "text/plain": [
              "Index(['date_hour', 'city', 'shop', 'client', 'operation', 'product',\n",
              "       'quantity', 'Loyalty_card', 'age'],\n",
              "      dtype='object')"
            ]
          },
          "metadata": {
            "tags": []
          },
          "execution_count": 27
        }
      ]
    },
    {
      "cell_type": "markdown",
      "metadata": {
        "id": "1vBIFLS03ufZ",
        "colab_type": "text"
      },
      "source": [
        "## 3. Analyze & understand data"
      ]
    },
    {
      "cell_type": "code",
      "metadata": {
        "id": "gGcWhL3UewMb",
        "colab_type": "code",
        "outputId": "4d5d3664-28d2-4ac8-b187-b7b4541707f3",
        "colab": {
          "base_uri": "https://localhost:8080/",
          "height": 442
        }
      },
      "source": [
        "# select column 'shop'\n",
        "df.shop\n",
        "# df['shop']"
      ],
      "execution_count": 28,
      "outputs": [
        {
          "output_type": "execute_result",
          "data": {
            "text/plain": [
              "index\n",
              "18    10\n",
              "17     9\n",
              "22     9\n",
              "15     8\n",
              "14     8\n",
              "21     8\n",
              "12     7\n",
              "13     7\n",
              "11     5\n",
              "20     5\n",
              "16     5\n",
              "19     5\n",
              "10     5\n",
              "4      3\n",
              "9      3\n",
              "6      3\n",
              "3      2\n",
              "2      2\n",
              "5      2\n",
              "1      1\n",
              "0      1\n",
              "7      1\n",
              "8      1\n",
              "Name: shop, dtype: int64"
            ]
          },
          "metadata": {
            "tags": []
          },
          "execution_count": 28
        }
      ]
    },
    {
      "cell_type": "code",
      "metadata": {
        "id": "Z-Rca_FFewPy",
        "colab_type": "code",
        "outputId": "87404f40-e686-4856-c614-a8864d15f3ad",
        "colab": {
          "base_uri": "https://localhost:8080/",
          "height": 187
        }
      },
      "source": [
        "# select row 6\n",
        "df.iloc[6]"
      ],
      "execution_count": 29,
      "outputs": [
        {
          "output_type": "execute_result",
          "data": {
            "text/plain": [
              "date_hour       30/01/2020 18:44:10\n",
              "city                      Barcelona\n",
              "shop                              7\n",
              "client                           69\n",
              "operation                  purchase\n",
              "product                    tortilla\n",
              "quantity                          2\n",
              "Loyalty_card                     No\n",
              "age                              40\n",
              "Name: 12, dtype: object"
            ]
          },
          "metadata": {
            "tags": []
          },
          "execution_count": 29
        }
      ]
    },
    {
      "cell_type": "code",
      "metadata": {
        "id": "3Nm4mmp4ewH1",
        "colab_type": "code",
        "outputId": "0f7a8264-e57b-46f9-f6be-a9d6f10ca754",
        "colab": {
          "base_uri": "https://localhost:8080/",
          "height": 34
        }
      },
      "source": [
        "# select the 'product' of the 4th purchase (only the value of this cell)\n",
        "df['product'][4]"
      ],
      "execution_count": 30,
      "outputs": [
        {
          "output_type": "execute_result",
          "data": {
            "text/plain": [
              "'pasta'"
            ]
          },
          "metadata": {
            "tags": []
          },
          "execution_count": 30
        }
      ]
    },
    {
      "cell_type": "code",
      "metadata": {
        "id": "IMIl6ljCewCK",
        "colab_type": "code",
        "outputId": "504c1f8e-55ac-45d2-9ed9-67b3d1cdabcf",
        "colab": {
          "base_uri": "https://localhost:8080/",
          "height": 235
        }
      },
      "source": [
        "# select the 'product' and 'quantity' values of the first 5 registers using labels\n",
        "df.loc[:5, ['product', 'quantity']]\n",
        "df.reset_index(inplace=True)\n",
        "df.loc[:5, ['product', 'quantity']]"
      ],
      "execution_count": 31,
      "outputs": [
        {
          "output_type": "execute_result",
          "data": {
            "text/html": [
              "<div>\n",
              "<style scoped>\n",
              "    .dataframe tbody tr th:only-of-type {\n",
              "        vertical-align: middle;\n",
              "    }\n",
              "\n",
              "    .dataframe tbody tr th {\n",
              "        vertical-align: top;\n",
              "    }\n",
              "\n",
              "    .dataframe thead th {\n",
              "        text-align: right;\n",
              "    }\n",
              "</style>\n",
              "<table border=\"1\" class=\"dataframe\">\n",
              "  <thead>\n",
              "    <tr style=\"text-align: right;\">\n",
              "      <th></th>\n",
              "      <th>product</th>\n",
              "      <th>quantity</th>\n",
              "    </tr>\n",
              "  </thead>\n",
              "  <tbody>\n",
              "    <tr>\n",
              "      <th>0</th>\n",
              "      <td>tortilla</td>\n",
              "      <td>1</td>\n",
              "    </tr>\n",
              "    <tr>\n",
              "      <th>1</th>\n",
              "      <td>cheese</td>\n",
              "      <td>2</td>\n",
              "    </tr>\n",
              "    <tr>\n",
              "      <th>2</th>\n",
              "      <td>beer</td>\n",
              "      <td>3</td>\n",
              "    </tr>\n",
              "    <tr>\n",
              "      <th>3</th>\n",
              "      <td>chicken</td>\n",
              "      <td>5</td>\n",
              "    </tr>\n",
              "    <tr>\n",
              "      <th>4</th>\n",
              "      <td>chorizo</td>\n",
              "      <td>6</td>\n",
              "    </tr>\n",
              "    <tr>\n",
              "      <th>5</th>\n",
              "      <td>beer</td>\n",
              "      <td>7</td>\n",
              "    </tr>\n",
              "  </tbody>\n",
              "</table>\n",
              "</div>"
            ],
            "text/plain": [
              "    product  quantity\n",
              "0  tortilla         1\n",
              "1    cheese         2\n",
              "2      beer         3\n",
              "3   chicken         5\n",
              "4   chorizo         6\n",
              "5      beer         7"
            ]
          },
          "metadata": {
            "tags": []
          },
          "execution_count": 31
        }
      ]
    },
    {
      "cell_type": "code",
      "metadata": {
        "id": "GqKHlA3YJDx7",
        "colab_type": "code",
        "colab": {
          "base_uri": "https://localhost:8080/",
          "height": 68
        },
        "outputId": "24ea7100-217e-4472-b603-536021b2ca13"
      },
      "source": [
        "df.loc[5, ['product', 'quantity']]"
      ],
      "execution_count": 32,
      "outputs": [
        {
          "output_type": "execute_result",
          "data": {
            "text/plain": [
              "product     beer\n",
              "quantity       7\n",
              "Name: 5, dtype: object"
            ]
          },
          "metadata": {
            "tags": []
          },
          "execution_count": 32
        }
      ]
    },
    {
      "cell_type": "code",
      "metadata": {
        "id": "8lwhcYuTev_9",
        "colab_type": "code",
        "outputId": "4cb85415-d3f9-4e89-adbc-e02863e317fb",
        "colab": {
          "base_uri": "https://localhost:8080/",
          "height": 119
        }
      },
      "source": [
        "# select the 'city' of the last 5 registers, but now using positions \n",
        "df.iloc[-5:, 2]"
      ],
      "execution_count": 33,
      "outputs": [
        {
          "output_type": "execute_result",
          "data": {
            "text/plain": [
              "18    Madrid\n",
              "19    Madrid\n",
              "20    Madrid\n",
              "21    Madrid\n",
              "22    Madrid\n",
              "Name: city, dtype: object"
            ]
          },
          "metadata": {
            "tags": []
          },
          "execution_count": 33
        }
      ]
    },
    {
      "cell_type": "code",
      "metadata": {
        "id": "DosZPM10KMa-",
        "colab_type": "code",
        "colab": {
          "base_uri": "https://localhost:8080/",
          "height": 111
        },
        "outputId": "ba23a008-fa07-4bab-a324-94be89a8e11d"
      },
      "source": [
        "# select the 'city' and 'operation' of registers 1 and 10 using positions \n",
        "df.iloc[[1, 10], [2, 5]]"
      ],
      "execution_count": 34,
      "outputs": [
        {
          "output_type": "execute_result",
          "data": {
            "text/html": [
              "<div>\n",
              "<style scoped>\n",
              "    .dataframe tbody tr th:only-of-type {\n",
              "        vertical-align: middle;\n",
              "    }\n",
              "\n",
              "    .dataframe tbody tr th {\n",
              "        vertical-align: top;\n",
              "    }\n",
              "\n",
              "    .dataframe thead th {\n",
              "        text-align: right;\n",
              "    }\n",
              "</style>\n",
              "<table border=\"1\" class=\"dataframe\">\n",
              "  <thead>\n",
              "    <tr style=\"text-align: right;\">\n",
              "      <th></th>\n",
              "      <th>city</th>\n",
              "      <th>operation</th>\n",
              "    </tr>\n",
              "  </thead>\n",
              "  <tbody>\n",
              "    <tr>\n",
              "      <th>1</th>\n",
              "      <td>Barcelona</td>\n",
              "      <td>purchase</td>\n",
              "    </tr>\n",
              "    <tr>\n",
              "      <th>10</th>\n",
              "      <td>Barcelona</td>\n",
              "      <td>purchase</td>\n",
              "    </tr>\n",
              "  </tbody>\n",
              "</table>\n",
              "</div>"
            ],
            "text/plain": [
              "         city operation\n",
              "1   Barcelona  purchase\n",
              "10  Barcelona  purchase"
            ]
          },
          "metadata": {
            "tags": []
          },
          "execution_count": 34
        }
      ]
    },
    {
      "cell_type": "code",
      "metadata": {
        "id": "3YkZvWu-MVyn",
        "colab_type": "code",
        "colab": {
          "base_uri": "https://localhost:8080/",
          "height": 85
        },
        "outputId": "57e7d8ba-c34e-4c49-c22c-93a8af438c74"
      },
      "source": [
        "# see all values of the column 'product'\n",
        "df['product'].values"
      ],
      "execution_count": 35,
      "outputs": [
        {
          "output_type": "execute_result",
          "data": {
            "text/plain": [
              "array(['tortilla', 'cheese', 'beer', 'chicken', 'chorizo', 'beer',\n",
              "       'tortilla', 'paella', 'cheese', 'chorizo', 'jam', 'paella', 'jam',\n",
              "       'pasta', 'chicken', 'bread', 'pizza', 'dog', 'rice', 'cat', 'beer',\n",
              "       'beans', 'lamb'], dtype=object)"
            ]
          },
          "metadata": {
            "tags": []
          },
          "execution_count": 35
        }
      ]
    },
    {
      "cell_type": "markdown",
      "metadata": {
        "id": "EILl69LWMhOr",
        "colab_type": "text"
      },
      "source": [
        "### Select with conditions"
      ]
    },
    {
      "cell_type": "code",
      "metadata": {
        "id": "gNKTq_rHMh33",
        "colab_type": "code",
        "colab": {
          "base_uri": "https://localhost:8080/",
          "height": 111
        },
        "outputId": "50eb93ef-342a-4f81-961b-144a2aeeca6c"
      },
      "source": [
        " # registers who purchased a 'tortilla'\n",
        "df[df['product'] == 'tortilla']"
      ],
      "execution_count": 36,
      "outputs": [
        {
          "output_type": "execute_result",
          "data": {
            "text/html": [
              "<div>\n",
              "<style scoped>\n",
              "    .dataframe tbody tr th:only-of-type {\n",
              "        vertical-align: middle;\n",
              "    }\n",
              "\n",
              "    .dataframe tbody tr th {\n",
              "        vertical-align: top;\n",
              "    }\n",
              "\n",
              "    .dataframe thead th {\n",
              "        text-align: right;\n",
              "    }\n",
              "</style>\n",
              "<table border=\"1\" class=\"dataframe\">\n",
              "  <thead>\n",
              "    <tr style=\"text-align: right;\">\n",
              "      <th></th>\n",
              "      <th>index</th>\n",
              "      <th>date_hour</th>\n",
              "      <th>city</th>\n",
              "      <th>shop</th>\n",
              "      <th>client</th>\n",
              "      <th>operation</th>\n",
              "      <th>product</th>\n",
              "      <th>quantity</th>\n",
              "      <th>Loyalty_card</th>\n",
              "      <th>age</th>\n",
              "    </tr>\n",
              "  </thead>\n",
              "  <tbody>\n",
              "    <tr>\n",
              "      <th>0</th>\n",
              "      <td>18</td>\n",
              "      <td>01/02/2020 18:44:10</td>\n",
              "      <td>Barcelona</td>\n",
              "      <td>10</td>\n",
              "      <td>50.0</td>\n",
              "      <td>return</td>\n",
              "      <td>tortilla</td>\n",
              "      <td>1</td>\n",
              "      <td>Yes</td>\n",
              "      <td>NaN</td>\n",
              "    </tr>\n",
              "    <tr>\n",
              "      <th>6</th>\n",
              "      <td>12</td>\n",
              "      <td>30/01/2020 18:44:10</td>\n",
              "      <td>Barcelona</td>\n",
              "      <td>7</td>\n",
              "      <td>69.0</td>\n",
              "      <td>purchase</td>\n",
              "      <td>tortilla</td>\n",
              "      <td>2</td>\n",
              "      <td>No</td>\n",
              "      <td>40.0</td>\n",
              "    </tr>\n",
              "  </tbody>\n",
              "</table>\n",
              "</div>"
            ],
            "text/plain": [
              "   index            date_hour       city  ...  quantity  Loyalty_card   age\n",
              "0     18  01/02/2020 18:44:10  Barcelona  ...         1           Yes   NaN\n",
              "6     12  30/01/2020 18:44:10  Barcelona  ...         2            No  40.0\n",
              "\n",
              "[2 rows x 10 columns]"
            ]
          },
          "metadata": {
            "tags": []
          },
          "execution_count": 36
        }
      ]
    },
    {
      "cell_type": "code",
      "metadata": {
        "id": "qbzb9LsGctGC",
        "colab_type": "code",
        "outputId": "f35c1f3a-9b67-4964-f1ed-33168237fabd",
        "colab": {
          "base_uri": "https://localhost:8080/",
          "height": 111
        }
      },
      "source": [
        "# registers that are not 'purchase' operations\n",
        "df.loc[df['operation'] != 'purchase']"
      ],
      "execution_count": 37,
      "outputs": [
        {
          "output_type": "execute_result",
          "data": {
            "text/html": [
              "<div>\n",
              "<style scoped>\n",
              "    .dataframe tbody tr th:only-of-type {\n",
              "        vertical-align: middle;\n",
              "    }\n",
              "\n",
              "    .dataframe tbody tr th {\n",
              "        vertical-align: top;\n",
              "    }\n",
              "\n",
              "    .dataframe thead th {\n",
              "        text-align: right;\n",
              "    }\n",
              "</style>\n",
              "<table border=\"1\" class=\"dataframe\">\n",
              "  <thead>\n",
              "    <tr style=\"text-align: right;\">\n",
              "      <th></th>\n",
              "      <th>index</th>\n",
              "      <th>date_hour</th>\n",
              "      <th>city</th>\n",
              "      <th>shop</th>\n",
              "      <th>client</th>\n",
              "      <th>operation</th>\n",
              "      <th>product</th>\n",
              "      <th>quantity</th>\n",
              "      <th>Loyalty_card</th>\n",
              "      <th>age</th>\n",
              "    </tr>\n",
              "  </thead>\n",
              "  <tbody>\n",
              "    <tr>\n",
              "      <th>0</th>\n",
              "      <td>18</td>\n",
              "      <td>01/02/2020 18:44:10</td>\n",
              "      <td>Barcelona</td>\n",
              "      <td>10</td>\n",
              "      <td>50.0</td>\n",
              "      <td>return</td>\n",
              "      <td>tortilla</td>\n",
              "      <td>1</td>\n",
              "      <td>Yes</td>\n",
              "      <td>NaN</td>\n",
              "    </tr>\n",
              "    <tr>\n",
              "      <th>9</th>\n",
              "      <td>20</td>\n",
              "      <td>02/02/2020 10:44:10</td>\n",
              "      <td>Barcelona</td>\n",
              "      <td>5</td>\n",
              "      <td>58.0</td>\n",
              "      <td>return</td>\n",
              "      <td>chorizo</td>\n",
              "      <td>1</td>\n",
              "      <td>Yes</td>\n",
              "      <td>50.0</td>\n",
              "    </tr>\n",
              "  </tbody>\n",
              "</table>\n",
              "</div>"
            ],
            "text/plain": [
              "   index            date_hour       city  ...  quantity  Loyalty_card   age\n",
              "0     18  01/02/2020 18:44:10  Barcelona  ...         1           Yes   NaN\n",
              "9     20  02/02/2020 10:44:10  Barcelona  ...         1           Yes  50.0\n",
              "\n",
              "[2 rows x 10 columns]"
            ]
          },
          "metadata": {
            "tags": []
          },
          "execution_count": 37
        }
      ]
    },
    {
      "cell_type": "code",
      "metadata": {
        "id": "rumfMXYsctLG",
        "colab_type": "code",
        "outputId": "cca6bcd8-111d-48ca-bab3-bc2c76885d51",
        "colab": {
          "base_uri": "https://localhost:8080/",
          "height": 255
        }
      },
      "source": [
        "# registers that are 5 or more units purchased\n",
        "df.loc[df['quantity'] > 5]"
      ],
      "execution_count": 38,
      "outputs": [
        {
          "output_type": "execute_result",
          "data": {
            "text/html": [
              "<div>\n",
              "<style scoped>\n",
              "    .dataframe tbody tr th:only-of-type {\n",
              "        vertical-align: middle;\n",
              "    }\n",
              "\n",
              "    .dataframe tbody tr th {\n",
              "        vertical-align: top;\n",
              "    }\n",
              "\n",
              "    .dataframe thead th {\n",
              "        text-align: right;\n",
              "    }\n",
              "</style>\n",
              "<table border=\"1\" class=\"dataframe\">\n",
              "  <thead>\n",
              "    <tr style=\"text-align: right;\">\n",
              "      <th></th>\n",
              "      <th>index</th>\n",
              "      <th>date_hour</th>\n",
              "      <th>city</th>\n",
              "      <th>shop</th>\n",
              "      <th>client</th>\n",
              "      <th>operation</th>\n",
              "      <th>product</th>\n",
              "      <th>quantity</th>\n",
              "      <th>Loyalty_card</th>\n",
              "      <th>age</th>\n",
              "    </tr>\n",
              "  </thead>\n",
              "  <tbody>\n",
              "    <tr>\n",
              "      <th>4</th>\n",
              "      <td>14</td>\n",
              "      <td>31/01/2020 10:44:10</td>\n",
              "      <td>Barcelona</td>\n",
              "      <td>8</td>\n",
              "      <td>58.0</td>\n",
              "      <td>purchase</td>\n",
              "      <td>chorizo</td>\n",
              "      <td>6</td>\n",
              "      <td>No</td>\n",
              "      <td>NaN</td>\n",
              "    </tr>\n",
              "    <tr>\n",
              "      <th>5</th>\n",
              "      <td>21</td>\n",
              "      <td>02/02/2020 18:44:10</td>\n",
              "      <td>Barcelona</td>\n",
              "      <td>8</td>\n",
              "      <td>42.0</td>\n",
              "      <td>purchase</td>\n",
              "      <td>beer</td>\n",
              "      <td>7</td>\n",
              "      <td>Yes</td>\n",
              "      <td>NaN</td>\n",
              "    </tr>\n",
              "    <tr>\n",
              "      <th>10</th>\n",
              "      <td>16</td>\n",
              "      <td>01/02/2020 2:44:10</td>\n",
              "      <td>Barcelona</td>\n",
              "      <td>5</td>\n",
              "      <td>53.0</td>\n",
              "      <td>purchase</td>\n",
              "      <td>jam</td>\n",
              "      <td>7</td>\n",
              "      <td>Yes</td>\n",
              "      <td>50.0</td>\n",
              "    </tr>\n",
              "    <tr>\n",
              "      <th>12</th>\n",
              "      <td>10</td>\n",
              "      <td>30/01/2020 2:44:10</td>\n",
              "      <td>Barcelona</td>\n",
              "      <td>5</td>\n",
              "      <td>50.0</td>\n",
              "      <td>purchase</td>\n",
              "      <td>jam</td>\n",
              "      <td>10</td>\n",
              "      <td>No</td>\n",
              "      <td>40.0</td>\n",
              "    </tr>\n",
              "    <tr>\n",
              "      <th>14</th>\n",
              "      <td>9</td>\n",
              "      <td>29/01/2020 18:44:10</td>\n",
              "      <td>Madrid</td>\n",
              "      <td>3</td>\n",
              "      <td>57.0</td>\n",
              "      <td>purchase</td>\n",
              "      <td>chicken</td>\n",
              "      <td>7</td>\n",
              "      <td>No</td>\n",
              "      <td>NaN</td>\n",
              "    </tr>\n",
              "  </tbody>\n",
              "</table>\n",
              "</div>"
            ],
            "text/plain": [
              "    index            date_hour       city  ...  quantity  Loyalty_card   age\n",
              "4      14  31/01/2020 10:44:10  Barcelona  ...         6            No   NaN\n",
              "5      21  02/02/2020 18:44:10  Barcelona  ...         7           Yes   NaN\n",
              "10     16   01/02/2020 2:44:10  Barcelona  ...         7           Yes  50.0\n",
              "12     10   30/01/2020 2:44:10  Barcelona  ...        10            No  40.0\n",
              "14      9  29/01/2020 18:44:10     Madrid  ...         7            No   NaN\n",
              "\n",
              "[5 rows x 10 columns]"
            ]
          },
          "metadata": {
            "tags": []
          },
          "execution_count": 38
        }
      ]
    },
    {
      "cell_type": "code",
      "metadata": {
        "id": "XqgYya3bodcu",
        "colab_type": "code",
        "outputId": "9867f456-7bc6-4594-fbc6-099a454e1676",
        "colab": {
          "base_uri": "https://localhost:8080/",
          "height": 540
        }
      },
      "source": [
        "# registers that are lower than 3 units purchased\n",
        "df.loc[df['quantity'] < 3]\n"
      ],
      "execution_count": 39,
      "outputs": [
        {
          "output_type": "execute_result",
          "data": {
            "text/html": [
              "<div>\n",
              "<style scoped>\n",
              "    .dataframe tbody tr th:only-of-type {\n",
              "        vertical-align: middle;\n",
              "    }\n",
              "\n",
              "    .dataframe tbody tr th {\n",
              "        vertical-align: top;\n",
              "    }\n",
              "\n",
              "    .dataframe thead th {\n",
              "        text-align: right;\n",
              "    }\n",
              "</style>\n",
              "<table border=\"1\" class=\"dataframe\">\n",
              "  <thead>\n",
              "    <tr style=\"text-align: right;\">\n",
              "      <th></th>\n",
              "      <th>index</th>\n",
              "      <th>date_hour</th>\n",
              "      <th>city</th>\n",
              "      <th>shop</th>\n",
              "      <th>client</th>\n",
              "      <th>operation</th>\n",
              "      <th>product</th>\n",
              "      <th>quantity</th>\n",
              "      <th>Loyalty_card</th>\n",
              "      <th>age</th>\n",
              "    </tr>\n",
              "  </thead>\n",
              "  <tbody>\n",
              "    <tr>\n",
              "      <th>0</th>\n",
              "      <td>18</td>\n",
              "      <td>01/02/2020 18:44:10</td>\n",
              "      <td>Barcelona</td>\n",
              "      <td>10</td>\n",
              "      <td>50.0</td>\n",
              "      <td>return</td>\n",
              "      <td>tortilla</td>\n",
              "      <td>1</td>\n",
              "      <td>Yes</td>\n",
              "      <td>NaN</td>\n",
              "    </tr>\n",
              "    <tr>\n",
              "      <th>1</th>\n",
              "      <td>17</td>\n",
              "      <td>01/02/2020 10:44:10</td>\n",
              "      <td>Barcelona</td>\n",
              "      <td>9</td>\n",
              "      <td>21.0</td>\n",
              "      <td>purchase</td>\n",
              "      <td>cheese</td>\n",
              "      <td>2</td>\n",
              "      <td>Yes</td>\n",
              "      <td>NaN</td>\n",
              "    </tr>\n",
              "    <tr>\n",
              "      <th>6</th>\n",
              "      <td>12</td>\n",
              "      <td>30/01/2020 18:44:10</td>\n",
              "      <td>Barcelona</td>\n",
              "      <td>7</td>\n",
              "      <td>69.0</td>\n",
              "      <td>purchase</td>\n",
              "      <td>tortilla</td>\n",
              "      <td>2</td>\n",
              "      <td>No</td>\n",
              "      <td>40.0</td>\n",
              "    </tr>\n",
              "    <tr>\n",
              "      <th>7</th>\n",
              "      <td>13</td>\n",
              "      <td>31/01/2020 2:44:10</td>\n",
              "      <td>Barcelona</td>\n",
              "      <td>7</td>\n",
              "      <td>50.0</td>\n",
              "      <td>purchase</td>\n",
              "      <td>paella</td>\n",
              "      <td>1</td>\n",
              "      <td>No</td>\n",
              "      <td>40.0</td>\n",
              "    </tr>\n",
              "    <tr>\n",
              "      <th>9</th>\n",
              "      <td>20</td>\n",
              "      <td>02/02/2020 10:44:10</td>\n",
              "      <td>Barcelona</td>\n",
              "      <td>5</td>\n",
              "      <td>58.0</td>\n",
              "      <td>return</td>\n",
              "      <td>chorizo</td>\n",
              "      <td>1</td>\n",
              "      <td>Yes</td>\n",
              "      <td>50.0</td>\n",
              "    </tr>\n",
              "    <tr>\n",
              "      <th>11</th>\n",
              "      <td>19</td>\n",
              "      <td>02/02/2020 2:44:10</td>\n",
              "      <td>Barcelona</td>\n",
              "      <td>5</td>\n",
              "      <td>50.0</td>\n",
              "      <td>purchase</td>\n",
              "      <td>paella</td>\n",
              "      <td>1</td>\n",
              "      <td>Yes</td>\n",
              "      <td>NaN</td>\n",
              "    </tr>\n",
              "    <tr>\n",
              "      <th>13</th>\n",
              "      <td>4</td>\n",
              "      <td>28/01/2020 2:44:10</td>\n",
              "      <td>Madrid</td>\n",
              "      <td>3</td>\n",
              "      <td>85.0</td>\n",
              "      <td>purchase</td>\n",
              "      <td>pasta</td>\n",
              "      <td>2</td>\n",
              "      <td>No</td>\n",
              "      <td>NaN</td>\n",
              "    </tr>\n",
              "    <tr>\n",
              "      <th>15</th>\n",
              "      <td>6</td>\n",
              "      <td>28/01/2020 18:44:10</td>\n",
              "      <td>Madrid</td>\n",
              "      <td>3</td>\n",
              "      <td>26.0</td>\n",
              "      <td>purchase</td>\n",
              "      <td>bread</td>\n",
              "      <td>2</td>\n",
              "      <td>Yes</td>\n",
              "      <td>30.0</td>\n",
              "    </tr>\n",
              "    <tr>\n",
              "      <th>17</th>\n",
              "      <td>2</td>\n",
              "      <td>27/01/2020 10:44:10</td>\n",
              "      <td>Madrid</td>\n",
              "      <td>2</td>\n",
              "      <td>50.0</td>\n",
              "      <td>purchase</td>\n",
              "      <td>dog</td>\n",
              "      <td>1</td>\n",
              "      <td>No</td>\n",
              "      <td>30.0</td>\n",
              "    </tr>\n",
              "    <tr>\n",
              "      <th>19</th>\n",
              "      <td>1</td>\n",
              "      <td>27/01/2020 2:44:10</td>\n",
              "      <td>Madrid</td>\n",
              "      <td>1</td>\n",
              "      <td>60.0</td>\n",
              "      <td>purchase</td>\n",
              "      <td>cat</td>\n",
              "      <td>1</td>\n",
              "      <td>No</td>\n",
              "      <td>24.0</td>\n",
              "    </tr>\n",
              "    <tr>\n",
              "      <th>21</th>\n",
              "      <td>7</td>\n",
              "      <td>29/01/2020 2:44:10</td>\n",
              "      <td>Madrid</td>\n",
              "      <td>1</td>\n",
              "      <td>32.0</td>\n",
              "      <td>purchase</td>\n",
              "      <td>beans</td>\n",
              "      <td>1</td>\n",
              "      <td>Yes</td>\n",
              "      <td>NaN</td>\n",
              "    </tr>\n",
              "    <tr>\n",
              "      <th>22</th>\n",
              "      <td>8</td>\n",
              "      <td>29/01/2020 10:44:10</td>\n",
              "      <td>Madrid</td>\n",
              "      <td>1</td>\n",
              "      <td>NaN</td>\n",
              "      <td>purchase</td>\n",
              "      <td>lamb</td>\n",
              "      <td>1</td>\n",
              "      <td>NaN</td>\n",
              "      <td>NaN</td>\n",
              "    </tr>\n",
              "  </tbody>\n",
              "</table>\n",
              "</div>"
            ],
            "text/plain": [
              "    index            date_hour       city  ...  quantity  Loyalty_card   age\n",
              "0      18  01/02/2020 18:44:10  Barcelona  ...         1           Yes   NaN\n",
              "1      17  01/02/2020 10:44:10  Barcelona  ...         2           Yes   NaN\n",
              "6      12  30/01/2020 18:44:10  Barcelona  ...         2            No  40.0\n",
              "7      13   31/01/2020 2:44:10  Barcelona  ...         1            No  40.0\n",
              "9      20  02/02/2020 10:44:10  Barcelona  ...         1           Yes  50.0\n",
              "11     19   02/02/2020 2:44:10  Barcelona  ...         1           Yes   NaN\n",
              "13      4   28/01/2020 2:44:10     Madrid  ...         2            No   NaN\n",
              "15      6  28/01/2020 18:44:10     Madrid  ...         2           Yes  30.0\n",
              "17      2  27/01/2020 10:44:10     Madrid  ...         1            No  30.0\n",
              "19      1   27/01/2020 2:44:10     Madrid  ...         1            No  24.0\n",
              "21      7   29/01/2020 2:44:10     Madrid  ...         1           Yes   NaN\n",
              "22      8  29/01/2020 10:44:10     Madrid  ...         1           NaN   NaN\n",
              "\n",
              "[12 rows x 10 columns]"
            ]
          },
          "metadata": {
            "tags": []
          },
          "execution_count": 39
        }
      ]
    },
    {
      "cell_type": "code",
      "metadata": {
        "id": "HozFPe7-P5Fp",
        "colab_type": "code",
        "colab": {
          "base_uri": "https://localhost:8080/",
          "height": 303
        },
        "outputId": "19ae0c4f-b6dd-4be8-87a5-998b15b20ee7"
      },
      "source": [
        "# registers with one of these products: 'chorizo','paella','tortilla'\n",
        "df.loc[df['product'].isin(['chorizo','paella','tortilla'])]"
      ],
      "execution_count": 40,
      "outputs": [
        {
          "output_type": "execute_result",
          "data": {
            "text/html": [
              "<div>\n",
              "<style scoped>\n",
              "    .dataframe tbody tr th:only-of-type {\n",
              "        vertical-align: middle;\n",
              "    }\n",
              "\n",
              "    .dataframe tbody tr th {\n",
              "        vertical-align: top;\n",
              "    }\n",
              "\n",
              "    .dataframe thead th {\n",
              "        text-align: right;\n",
              "    }\n",
              "</style>\n",
              "<table border=\"1\" class=\"dataframe\">\n",
              "  <thead>\n",
              "    <tr style=\"text-align: right;\">\n",
              "      <th></th>\n",
              "      <th>index</th>\n",
              "      <th>date_hour</th>\n",
              "      <th>city</th>\n",
              "      <th>shop</th>\n",
              "      <th>client</th>\n",
              "      <th>operation</th>\n",
              "      <th>product</th>\n",
              "      <th>quantity</th>\n",
              "      <th>Loyalty_card</th>\n",
              "      <th>age</th>\n",
              "    </tr>\n",
              "  </thead>\n",
              "  <tbody>\n",
              "    <tr>\n",
              "      <th>0</th>\n",
              "      <td>18</td>\n",
              "      <td>01/02/2020 18:44:10</td>\n",
              "      <td>Barcelona</td>\n",
              "      <td>10</td>\n",
              "      <td>50.0</td>\n",
              "      <td>return</td>\n",
              "      <td>tortilla</td>\n",
              "      <td>1</td>\n",
              "      <td>Yes</td>\n",
              "      <td>NaN</td>\n",
              "    </tr>\n",
              "    <tr>\n",
              "      <th>4</th>\n",
              "      <td>14</td>\n",
              "      <td>31/01/2020 10:44:10</td>\n",
              "      <td>Barcelona</td>\n",
              "      <td>8</td>\n",
              "      <td>58.0</td>\n",
              "      <td>purchase</td>\n",
              "      <td>chorizo</td>\n",
              "      <td>6</td>\n",
              "      <td>No</td>\n",
              "      <td>NaN</td>\n",
              "    </tr>\n",
              "    <tr>\n",
              "      <th>6</th>\n",
              "      <td>12</td>\n",
              "      <td>30/01/2020 18:44:10</td>\n",
              "      <td>Barcelona</td>\n",
              "      <td>7</td>\n",
              "      <td>69.0</td>\n",
              "      <td>purchase</td>\n",
              "      <td>tortilla</td>\n",
              "      <td>2</td>\n",
              "      <td>No</td>\n",
              "      <td>40.0</td>\n",
              "    </tr>\n",
              "    <tr>\n",
              "      <th>7</th>\n",
              "      <td>13</td>\n",
              "      <td>31/01/2020 2:44:10</td>\n",
              "      <td>Barcelona</td>\n",
              "      <td>7</td>\n",
              "      <td>50.0</td>\n",
              "      <td>purchase</td>\n",
              "      <td>paella</td>\n",
              "      <td>1</td>\n",
              "      <td>No</td>\n",
              "      <td>40.0</td>\n",
              "    </tr>\n",
              "    <tr>\n",
              "      <th>9</th>\n",
              "      <td>20</td>\n",
              "      <td>02/02/2020 10:44:10</td>\n",
              "      <td>Barcelona</td>\n",
              "      <td>5</td>\n",
              "      <td>58.0</td>\n",
              "      <td>return</td>\n",
              "      <td>chorizo</td>\n",
              "      <td>1</td>\n",
              "      <td>Yes</td>\n",
              "      <td>50.0</td>\n",
              "    </tr>\n",
              "    <tr>\n",
              "      <th>11</th>\n",
              "      <td>19</td>\n",
              "      <td>02/02/2020 2:44:10</td>\n",
              "      <td>Barcelona</td>\n",
              "      <td>5</td>\n",
              "      <td>50.0</td>\n",
              "      <td>purchase</td>\n",
              "      <td>paella</td>\n",
              "      <td>1</td>\n",
              "      <td>Yes</td>\n",
              "      <td>NaN</td>\n",
              "    </tr>\n",
              "  </tbody>\n",
              "</table>\n",
              "</div>"
            ],
            "text/plain": [
              "    index            date_hour       city  ...  quantity  Loyalty_card   age\n",
              "0      18  01/02/2020 18:44:10  Barcelona  ...         1           Yes   NaN\n",
              "4      14  31/01/2020 10:44:10  Barcelona  ...         6            No   NaN\n",
              "6      12  30/01/2020 18:44:10  Barcelona  ...         2            No  40.0\n",
              "7      13   31/01/2020 2:44:10  Barcelona  ...         1            No  40.0\n",
              "9      20  02/02/2020 10:44:10  Barcelona  ...         1           Yes  50.0\n",
              "11     19   02/02/2020 2:44:10  Barcelona  ...         1           Yes   NaN\n",
              "\n",
              "[6 rows x 10 columns]"
            ]
          },
          "metadata": {
            "tags": []
          },
          "execution_count": 40
        }
      ]
    },
    {
      "cell_type": "code",
      "metadata": {
        "id": "Rm-Tner5wVRR",
        "colab_type": "code",
        "colab": {
          "base_uri": "https://localhost:8080/",
          "height": 176
        },
        "outputId": "d1bfe08d-d6a2-41d9-d0f5-98cf72337622"
      },
      "source": [
        "# registers where we don't know which client is\n",
        "df.loc[df.client.isna()]"
      ],
      "execution_count": 41,
      "outputs": [
        {
          "output_type": "execute_result",
          "data": {
            "text/html": [
              "<div>\n",
              "<style scoped>\n",
              "    .dataframe tbody tr th:only-of-type {\n",
              "        vertical-align: middle;\n",
              "    }\n",
              "\n",
              "    .dataframe tbody tr th {\n",
              "        vertical-align: top;\n",
              "    }\n",
              "\n",
              "    .dataframe thead th {\n",
              "        text-align: right;\n",
              "    }\n",
              "</style>\n",
              "<table border=\"1\" class=\"dataframe\">\n",
              "  <thead>\n",
              "    <tr style=\"text-align: right;\">\n",
              "      <th></th>\n",
              "      <th>index</th>\n",
              "      <th>date_hour</th>\n",
              "      <th>city</th>\n",
              "      <th>shop</th>\n",
              "      <th>client</th>\n",
              "      <th>operation</th>\n",
              "      <th>product</th>\n",
              "      <th>quantity</th>\n",
              "      <th>Loyalty_card</th>\n",
              "      <th>age</th>\n",
              "    </tr>\n",
              "  </thead>\n",
              "  <tbody>\n",
              "    <tr>\n",
              "      <th>2</th>\n",
              "      <td>22</td>\n",
              "      <td>03/02/2020 2:44:10</td>\n",
              "      <td>Barcelona</td>\n",
              "      <td>9</td>\n",
              "      <td>NaN</td>\n",
              "      <td>purchase</td>\n",
              "      <td>beer</td>\n",
              "      <td>3</td>\n",
              "      <td>NaN</td>\n",
              "      <td>NaN</td>\n",
              "    </tr>\n",
              "    <tr>\n",
              "      <th>18</th>\n",
              "      <td>5</td>\n",
              "      <td>28/01/2020 10:44:10</td>\n",
              "      <td>Madrid</td>\n",
              "      <td>2</td>\n",
              "      <td>NaN</td>\n",
              "      <td>purchase</td>\n",
              "      <td>rice</td>\n",
              "      <td>5</td>\n",
              "      <td>NaN</td>\n",
              "      <td>NaN</td>\n",
              "    </tr>\n",
              "    <tr>\n",
              "      <th>22</th>\n",
              "      <td>8</td>\n",
              "      <td>29/01/2020 10:44:10</td>\n",
              "      <td>Madrid</td>\n",
              "      <td>1</td>\n",
              "      <td>NaN</td>\n",
              "      <td>purchase</td>\n",
              "      <td>lamb</td>\n",
              "      <td>1</td>\n",
              "      <td>NaN</td>\n",
              "      <td>NaN</td>\n",
              "    </tr>\n",
              "  </tbody>\n",
              "</table>\n",
              "</div>"
            ],
            "text/plain": [
              "    index            date_hour       city  ...  quantity  Loyalty_card age\n",
              "2      22   03/02/2020 2:44:10  Barcelona  ...         3           NaN NaN\n",
              "18      5  28/01/2020 10:44:10     Madrid  ...         5           NaN NaN\n",
              "22      8  29/01/2020 10:44:10     Madrid  ...         1           NaN NaN\n",
              "\n",
              "[3 rows x 10 columns]"
            ]
          },
          "metadata": {
            "tags": []
          },
          "execution_count": 41
        }
      ]
    },
    {
      "cell_type": "code",
      "metadata": {
        "id": "tiHXe5RkwVeH",
        "colab_type": "code",
        "colab": {
          "base_uri": "https://localhost:8080/",
          "height": 413
        },
        "outputId": "fdfb5ac6-8e76-445e-890c-e8993c507586"
      },
      "source": [
        "# registers where we know the age of the client\n",
        "df.loc[df.age.notnull()]"
      ],
      "execution_count": 42,
      "outputs": [
        {
          "output_type": "execute_result",
          "data": {
            "text/html": [
              "<div>\n",
              "<style scoped>\n",
              "    .dataframe tbody tr th:only-of-type {\n",
              "        vertical-align: middle;\n",
              "    }\n",
              "\n",
              "    .dataframe tbody tr th {\n",
              "        vertical-align: top;\n",
              "    }\n",
              "\n",
              "    .dataframe thead th {\n",
              "        text-align: right;\n",
              "    }\n",
              "</style>\n",
              "<table border=\"1\" class=\"dataframe\">\n",
              "  <thead>\n",
              "    <tr style=\"text-align: right;\">\n",
              "      <th></th>\n",
              "      <th>index</th>\n",
              "      <th>date_hour</th>\n",
              "      <th>city</th>\n",
              "      <th>shop</th>\n",
              "      <th>client</th>\n",
              "      <th>operation</th>\n",
              "      <th>product</th>\n",
              "      <th>quantity</th>\n",
              "      <th>Loyalty_card</th>\n",
              "      <th>age</th>\n",
              "    </tr>\n",
              "  </thead>\n",
              "  <tbody>\n",
              "    <tr>\n",
              "      <th>6</th>\n",
              "      <td>12</td>\n",
              "      <td>30/01/2020 18:44:10</td>\n",
              "      <td>Barcelona</td>\n",
              "      <td>7</td>\n",
              "      <td>69.0</td>\n",
              "      <td>purchase</td>\n",
              "      <td>tortilla</td>\n",
              "      <td>2</td>\n",
              "      <td>No</td>\n",
              "      <td>40.0</td>\n",
              "    </tr>\n",
              "    <tr>\n",
              "      <th>7</th>\n",
              "      <td>13</td>\n",
              "      <td>31/01/2020 2:44:10</td>\n",
              "      <td>Barcelona</td>\n",
              "      <td>7</td>\n",
              "      <td>50.0</td>\n",
              "      <td>purchase</td>\n",
              "      <td>paella</td>\n",
              "      <td>1</td>\n",
              "      <td>No</td>\n",
              "      <td>40.0</td>\n",
              "    </tr>\n",
              "    <tr>\n",
              "      <th>9</th>\n",
              "      <td>20</td>\n",
              "      <td>02/02/2020 10:44:10</td>\n",
              "      <td>Barcelona</td>\n",
              "      <td>5</td>\n",
              "      <td>58.0</td>\n",
              "      <td>return</td>\n",
              "      <td>chorizo</td>\n",
              "      <td>1</td>\n",
              "      <td>Yes</td>\n",
              "      <td>50.0</td>\n",
              "    </tr>\n",
              "    <tr>\n",
              "      <th>10</th>\n",
              "      <td>16</td>\n",
              "      <td>01/02/2020 2:44:10</td>\n",
              "      <td>Barcelona</td>\n",
              "      <td>5</td>\n",
              "      <td>53.0</td>\n",
              "      <td>purchase</td>\n",
              "      <td>jam</td>\n",
              "      <td>7</td>\n",
              "      <td>Yes</td>\n",
              "      <td>50.0</td>\n",
              "    </tr>\n",
              "    <tr>\n",
              "      <th>12</th>\n",
              "      <td>10</td>\n",
              "      <td>30/01/2020 2:44:10</td>\n",
              "      <td>Barcelona</td>\n",
              "      <td>5</td>\n",
              "      <td>50.0</td>\n",
              "      <td>purchase</td>\n",
              "      <td>jam</td>\n",
              "      <td>10</td>\n",
              "      <td>No</td>\n",
              "      <td>40.0</td>\n",
              "    </tr>\n",
              "    <tr>\n",
              "      <th>15</th>\n",
              "      <td>6</td>\n",
              "      <td>28/01/2020 18:44:10</td>\n",
              "      <td>Madrid</td>\n",
              "      <td>3</td>\n",
              "      <td>26.0</td>\n",
              "      <td>purchase</td>\n",
              "      <td>bread</td>\n",
              "      <td>2</td>\n",
              "      <td>Yes</td>\n",
              "      <td>30.0</td>\n",
              "    </tr>\n",
              "    <tr>\n",
              "      <th>17</th>\n",
              "      <td>2</td>\n",
              "      <td>27/01/2020 10:44:10</td>\n",
              "      <td>Madrid</td>\n",
              "      <td>2</td>\n",
              "      <td>50.0</td>\n",
              "      <td>purchase</td>\n",
              "      <td>dog</td>\n",
              "      <td>1</td>\n",
              "      <td>No</td>\n",
              "      <td>30.0</td>\n",
              "    </tr>\n",
              "    <tr>\n",
              "      <th>19</th>\n",
              "      <td>1</td>\n",
              "      <td>27/01/2020 2:44:10</td>\n",
              "      <td>Madrid</td>\n",
              "      <td>1</td>\n",
              "      <td>60.0</td>\n",
              "      <td>purchase</td>\n",
              "      <td>cat</td>\n",
              "      <td>1</td>\n",
              "      <td>No</td>\n",
              "      <td>24.0</td>\n",
              "    </tr>\n",
              "    <tr>\n",
              "      <th>20</th>\n",
              "      <td>0</td>\n",
              "      <td>26/01/2020 18:44:10</td>\n",
              "      <td>Madrid</td>\n",
              "      <td>1</td>\n",
              "      <td>50.0</td>\n",
              "      <td>purchase</td>\n",
              "      <td>beer</td>\n",
              "      <td>5</td>\n",
              "      <td>Yes</td>\n",
              "      <td>50.0</td>\n",
              "    </tr>\n",
              "  </tbody>\n",
              "</table>\n",
              "</div>"
            ],
            "text/plain": [
              "    index            date_hour       city  ...  quantity  Loyalty_card   age\n",
              "6      12  30/01/2020 18:44:10  Barcelona  ...         2            No  40.0\n",
              "7      13   31/01/2020 2:44:10  Barcelona  ...         1            No  40.0\n",
              "9      20  02/02/2020 10:44:10  Barcelona  ...         1           Yes  50.0\n",
              "10     16   01/02/2020 2:44:10  Barcelona  ...         7           Yes  50.0\n",
              "12     10   30/01/2020 2:44:10  Barcelona  ...        10            No  40.0\n",
              "15      6  28/01/2020 18:44:10     Madrid  ...         2           Yes  30.0\n",
              "17      2  27/01/2020 10:44:10     Madrid  ...         1            No  30.0\n",
              "19      1   27/01/2020 2:44:10     Madrid  ...         1            No  24.0\n",
              "20      0  26/01/2020 18:44:10     Madrid  ...         5           Yes  50.0\n",
              "\n",
              "[9 rows x 10 columns]"
            ]
          },
          "metadata": {
            "tags": []
          },
          "execution_count": 42
        }
      ]
    },
    {
      "cell_type": "code",
      "metadata": {
        "id": "trS6gVvPctN2",
        "colab_type": "code",
        "outputId": "233e16f1-7859-4544-935f-651c63753d46",
        "colab": {
          "base_uri": "https://localhost:8080/",
          "height": 176
        }
      },
      "source": [
        "# registers which are more than 3 beers\n",
        "df.loc[(df['product'] == 'beer') & (df['quantity'] >= 3)]"
      ],
      "execution_count": 43,
      "outputs": [
        {
          "output_type": "execute_result",
          "data": {
            "text/html": [
              "<div>\n",
              "<style scoped>\n",
              "    .dataframe tbody tr th:only-of-type {\n",
              "        vertical-align: middle;\n",
              "    }\n",
              "\n",
              "    .dataframe tbody tr th {\n",
              "        vertical-align: top;\n",
              "    }\n",
              "\n",
              "    .dataframe thead th {\n",
              "        text-align: right;\n",
              "    }\n",
              "</style>\n",
              "<table border=\"1\" class=\"dataframe\">\n",
              "  <thead>\n",
              "    <tr style=\"text-align: right;\">\n",
              "      <th></th>\n",
              "      <th>index</th>\n",
              "      <th>date_hour</th>\n",
              "      <th>city</th>\n",
              "      <th>shop</th>\n",
              "      <th>client</th>\n",
              "      <th>operation</th>\n",
              "      <th>product</th>\n",
              "      <th>quantity</th>\n",
              "      <th>Loyalty_card</th>\n",
              "      <th>age</th>\n",
              "    </tr>\n",
              "  </thead>\n",
              "  <tbody>\n",
              "    <tr>\n",
              "      <th>2</th>\n",
              "      <td>22</td>\n",
              "      <td>03/02/2020 2:44:10</td>\n",
              "      <td>Barcelona</td>\n",
              "      <td>9</td>\n",
              "      <td>NaN</td>\n",
              "      <td>purchase</td>\n",
              "      <td>beer</td>\n",
              "      <td>3</td>\n",
              "      <td>NaN</td>\n",
              "      <td>NaN</td>\n",
              "    </tr>\n",
              "    <tr>\n",
              "      <th>5</th>\n",
              "      <td>21</td>\n",
              "      <td>02/02/2020 18:44:10</td>\n",
              "      <td>Barcelona</td>\n",
              "      <td>8</td>\n",
              "      <td>42.0</td>\n",
              "      <td>purchase</td>\n",
              "      <td>beer</td>\n",
              "      <td>7</td>\n",
              "      <td>Yes</td>\n",
              "      <td>NaN</td>\n",
              "    </tr>\n",
              "    <tr>\n",
              "      <th>20</th>\n",
              "      <td>0</td>\n",
              "      <td>26/01/2020 18:44:10</td>\n",
              "      <td>Madrid</td>\n",
              "      <td>1</td>\n",
              "      <td>50.0</td>\n",
              "      <td>purchase</td>\n",
              "      <td>beer</td>\n",
              "      <td>5</td>\n",
              "      <td>Yes</td>\n",
              "      <td>50.0</td>\n",
              "    </tr>\n",
              "  </tbody>\n",
              "</table>\n",
              "</div>"
            ],
            "text/plain": [
              "    index            date_hour       city  ...  quantity  Loyalty_card   age\n",
              "2      22   03/02/2020 2:44:10  Barcelona  ...         3           NaN   NaN\n",
              "5      21  02/02/2020 18:44:10  Barcelona  ...         7           Yes   NaN\n",
              "20      0  26/01/2020 18:44:10     Madrid  ...         5           Yes  50.0\n",
              "\n",
              "[3 rows x 10 columns]"
            ]
          },
          "metadata": {
            "tags": []
          },
          "execution_count": 43
        }
      ]
    },
    {
      "cell_type": "code",
      "metadata": {
        "id": "gOdC8OzniLpA",
        "colab_type": "code",
        "outputId": "689d978c-6088-4d6b-d1c9-be12408f7a18",
        "colab": {
          "base_uri": "https://localhost:8080/",
          "height": 111
        }
      },
      "source": [
        "# registers that have more product with more than 10 units or products that are not food\n",
        "df.loc[(df['product'].isin(['cat','dog'])) | (df['quantity'] > 10)]"
      ],
      "execution_count": 44,
      "outputs": [
        {
          "output_type": "execute_result",
          "data": {
            "text/html": [
              "<div>\n",
              "<style scoped>\n",
              "    .dataframe tbody tr th:only-of-type {\n",
              "        vertical-align: middle;\n",
              "    }\n",
              "\n",
              "    .dataframe tbody tr th {\n",
              "        vertical-align: top;\n",
              "    }\n",
              "\n",
              "    .dataframe thead th {\n",
              "        text-align: right;\n",
              "    }\n",
              "</style>\n",
              "<table border=\"1\" class=\"dataframe\">\n",
              "  <thead>\n",
              "    <tr style=\"text-align: right;\">\n",
              "      <th></th>\n",
              "      <th>index</th>\n",
              "      <th>date_hour</th>\n",
              "      <th>city</th>\n",
              "      <th>shop</th>\n",
              "      <th>client</th>\n",
              "      <th>operation</th>\n",
              "      <th>product</th>\n",
              "      <th>quantity</th>\n",
              "      <th>Loyalty_card</th>\n",
              "      <th>age</th>\n",
              "    </tr>\n",
              "  </thead>\n",
              "  <tbody>\n",
              "    <tr>\n",
              "      <th>17</th>\n",
              "      <td>2</td>\n",
              "      <td>27/01/2020 10:44:10</td>\n",
              "      <td>Madrid</td>\n",
              "      <td>2</td>\n",
              "      <td>50.0</td>\n",
              "      <td>purchase</td>\n",
              "      <td>dog</td>\n",
              "      <td>1</td>\n",
              "      <td>No</td>\n",
              "      <td>30.0</td>\n",
              "    </tr>\n",
              "    <tr>\n",
              "      <th>19</th>\n",
              "      <td>1</td>\n",
              "      <td>27/01/2020 2:44:10</td>\n",
              "      <td>Madrid</td>\n",
              "      <td>1</td>\n",
              "      <td>60.0</td>\n",
              "      <td>purchase</td>\n",
              "      <td>cat</td>\n",
              "      <td>1</td>\n",
              "      <td>No</td>\n",
              "      <td>24.0</td>\n",
              "    </tr>\n",
              "  </tbody>\n",
              "</table>\n",
              "</div>"
            ],
            "text/plain": [
              "    index            date_hour    city  ...  quantity  Loyalty_card   age\n",
              "17      2  27/01/2020 10:44:10  Madrid  ...         1            No  30.0\n",
              "19      1   27/01/2020 2:44:10  Madrid  ...         1            No  24.0\n",
              "\n",
              "[2 rows x 10 columns]"
            ]
          },
          "metadata": {
            "tags": []
          },
          "execution_count": 44
        }
      ]
    },
    {
      "cell_type": "code",
      "metadata": {
        "id": "UiNw-HHik4ov",
        "colab_type": "code",
        "outputId": "d6c4736e-dc48-4290-840d-e01c952f8866",
        "colab": {
          "base_uri": "https://localhost:8080/",
          "height": 34
        }
      },
      "source": [
        "# # check the maximum value of quantity\n",
        "df.quantity.max()"
      ],
      "execution_count": 45,
      "outputs": [
        {
          "output_type": "execute_result",
          "data": {
            "text/plain": [
              "10"
            ]
          },
          "metadata": {
            "tags": []
          },
          "execution_count": 45
        }
      ]
    },
    {
      "cell_type": "code",
      "metadata": {
        "id": "wWvBvzde0C0Z",
        "colab_type": "code",
        "colab": {
          "base_uri": "https://localhost:8080/",
          "height": 34
        },
        "outputId": "1cab5a3b-1da1-48bb-9359-d86479feffe9"
      },
      "source": [
        "# check the minimmum value of quantity\n",
        "df.quantity.min()"
      ],
      "execution_count": 46,
      "outputs": [
        {
          "output_type": "execute_result",
          "data": {
            "text/plain": [
              "1"
            ]
          },
          "metadata": {
            "tags": []
          },
          "execution_count": 46
        }
      ]
    },
    {
      "cell_type": "code",
      "metadata": {
        "id": "4vYDhb3R0DE3",
        "colab_type": "code",
        "colab": {
          "base_uri": "https://localhost:8080/",
          "height": 34
        },
        "outputId": "59f5fdbb-2ace-4d0c-b487-446696f74268"
      },
      "source": [
        "# check the average value of quantity\n",
        "df.quantity.mean()"
      ],
      "execution_count": 47,
      "outputs": [
        {
          "output_type": "execute_result",
          "data": {
            "text/plain": [
              "3.4347826086956523"
            ]
          },
          "metadata": {
            "tags": []
          },
          "execution_count": 47
        }
      ]
    },
    {
      "cell_type": "code",
      "metadata": {
        "id": "KK1atr6u0DB0",
        "colab_type": "code",
        "colab": {
          "base_uri": "https://localhost:8080/",
          "height": 34
        },
        "outputId": "61ae82d1-3caf-479f-86c8-eb3dfa15141c"
      },
      "source": [
        "# check the variance value of quantity\n",
        "df.quantity.var()"
      ],
      "execution_count": 48,
      "outputs": [
        {
          "output_type": "execute_result",
          "data": {
            "text/plain": [
              "6.984189723320162"
            ]
          },
          "metadata": {
            "tags": []
          },
          "execution_count": 48
        }
      ]
    },
    {
      "cell_type": "code",
      "metadata": {
        "id": "dcTE95aa0l1f",
        "colab_type": "code",
        "colab": {
          "base_uri": "https://localhost:8080/",
          "height": 34
        },
        "outputId": "1be47f35-2477-43e2-c926-2302b0bfe474"
      },
      "source": [
        "# check the standard deviation of quantity\n",
        "df.quantity.std()"
      ],
      "execution_count": 49,
      "outputs": [
        {
          "output_type": "execute_result",
          "data": {
            "text/plain": [
              "2.64276176060578"
            ]
          },
          "metadata": {
            "tags": []
          },
          "execution_count": 49
        }
      ]
    },
    {
      "cell_type": "code",
      "metadata": {
        "id": "IXatxNdP0C_N",
        "colab_type": "code",
        "colab": {
          "base_uri": "https://localhost:8080/",
          "height": 34
        },
        "outputId": "e9341d67-21b0-4e08-9d1f-ed959ab93170"
      },
      "source": [
        "# check the median value of quantity\n",
        "df.quantity.median()"
      ],
      "execution_count": 50,
      "outputs": [
        {
          "output_type": "execute_result",
          "data": {
            "text/plain": [
              "2.0"
            ]
          },
          "metadata": {
            "tags": []
          },
          "execution_count": 50
        }
      ]
    },
    {
      "cell_type": "code",
      "metadata": {
        "id": "jB8hwrKb0C6X",
        "colab_type": "code",
        "colab": {
          "base_uri": "https://localhost:8080/",
          "height": 51
        },
        "outputId": "dffc19f7-5a0f-435c-89bb-4a7f489b61b0"
      },
      "source": [
        "# check the mode value of quantity\n",
        "df.quantity.mode()"
      ],
      "execution_count": 51,
      "outputs": [
        {
          "output_type": "execute_result",
          "data": {
            "text/plain": [
              "0    1\n",
              "dtype: int64"
            ]
          },
          "metadata": {
            "tags": []
          },
          "execution_count": 51
        }
      ]
    },
    {
      "cell_type": "code",
      "metadata": {
        "id": "G8vvkA-t0l5n",
        "colab_type": "code",
        "colab": {
          "base_uri": "https://localhost:8080/",
          "height": 34
        },
        "outputId": "ab6c894e-79a3-4048-f3dc-b18b5a5f0786"
      },
      "source": [
        "# check the sum of quantity\n",
        "df.quantity.sum()"
      ],
      "execution_count": 52,
      "outputs": [
        {
          "output_type": "execute_result",
          "data": {
            "text/plain": [
              "79"
            ]
          },
          "metadata": {
            "tags": []
          },
          "execution_count": 52
        }
      ]
    },
    {
      "cell_type": "code",
      "metadata": {
        "id": "WSruPtGQ0Cww",
        "colab_type": "code",
        "colab": {
          "base_uri": "https://localhost:8080/",
          "height": 34
        },
        "outputId": "ef813084-78eb-4bcb-80b4-ac08edaf439f"
      },
      "source": [
        "# check the cut value of quantity of 75% of the registers\n",
        "df.quantity.quantile(0.75)"
      ],
      "execution_count": 53,
      "outputs": [
        {
          "output_type": "execute_result",
          "data": {
            "text/plain": [
              "5.0"
            ]
          },
          "metadata": {
            "tags": []
          },
          "execution_count": 53
        }
      ]
    },
    {
      "cell_type": "code",
      "metadata": {
        "id": "VcBJWOLPzYr-",
        "colab_type": "code",
        "outputId": "c176dc6b-5ffe-4810-a3e9-d96a127fdfa5",
        "colab": {
          "base_uri": "https://localhost:8080/",
          "height": 297
        }
      },
      "source": [
        "# get a quick statistic summary for all numeric variables\n",
        "df.describe()"
      ],
      "execution_count": 54,
      "outputs": [
        {
          "output_type": "execute_result",
          "data": {
            "text/html": [
              "<div>\n",
              "<style scoped>\n",
              "    .dataframe tbody tr th:only-of-type {\n",
              "        vertical-align: middle;\n",
              "    }\n",
              "\n",
              "    .dataframe tbody tr th {\n",
              "        vertical-align: top;\n",
              "    }\n",
              "\n",
              "    .dataframe thead th {\n",
              "        text-align: right;\n",
              "    }\n",
              "</style>\n",
              "<table border=\"1\" class=\"dataframe\">\n",
              "  <thead>\n",
              "    <tr style=\"text-align: right;\">\n",
              "      <th></th>\n",
              "      <th>index</th>\n",
              "      <th>shop</th>\n",
              "      <th>client</th>\n",
              "      <th>quantity</th>\n",
              "      <th>age</th>\n",
              "    </tr>\n",
              "  </thead>\n",
              "  <tbody>\n",
              "    <tr>\n",
              "      <th>count</th>\n",
              "      <td>23.00000</td>\n",
              "      <td>23.000000</td>\n",
              "      <td>20.000000</td>\n",
              "      <td>23.000000</td>\n",
              "      <td>9.000000</td>\n",
              "    </tr>\n",
              "    <tr>\n",
              "      <th>mean</th>\n",
              "      <td>11.00000</td>\n",
              "      <td>4.782609</td>\n",
              "      <td>53.000000</td>\n",
              "      <td>3.434783</td>\n",
              "      <td>39.333333</td>\n",
              "    </tr>\n",
              "    <tr>\n",
              "      <th>std</th>\n",
              "      <td>6.78233</td>\n",
              "      <td>2.968877</td>\n",
              "      <td>15.290176</td>\n",
              "      <td>2.642762</td>\n",
              "      <td>9.695360</td>\n",
              "    </tr>\n",
              "    <tr>\n",
              "      <th>min</th>\n",
              "      <td>0.00000</td>\n",
              "      <td>1.000000</td>\n",
              "      <td>21.000000</td>\n",
              "      <td>1.000000</td>\n",
              "      <td>24.000000</td>\n",
              "    </tr>\n",
              "    <tr>\n",
              "      <th>25%</th>\n",
              "      <td>5.50000</td>\n",
              "      <td>2.000000</td>\n",
              "      <td>50.000000</td>\n",
              "      <td>1.000000</td>\n",
              "      <td>30.000000</td>\n",
              "    </tr>\n",
              "    <tr>\n",
              "      <th>50%</th>\n",
              "      <td>11.00000</td>\n",
              "      <td>5.000000</td>\n",
              "      <td>51.500000</td>\n",
              "      <td>2.000000</td>\n",
              "      <td>40.000000</td>\n",
              "    </tr>\n",
              "    <tr>\n",
              "      <th>75%</th>\n",
              "      <td>16.50000</td>\n",
              "      <td>7.500000</td>\n",
              "      <td>60.000000</td>\n",
              "      <td>5.000000</td>\n",
              "      <td>50.000000</td>\n",
              "    </tr>\n",
              "    <tr>\n",
              "      <th>max</th>\n",
              "      <td>22.00000</td>\n",
              "      <td>10.000000</td>\n",
              "      <td>85.000000</td>\n",
              "      <td>10.000000</td>\n",
              "      <td>50.000000</td>\n",
              "    </tr>\n",
              "  </tbody>\n",
              "</table>\n",
              "</div>"
            ],
            "text/plain": [
              "          index       shop     client   quantity        age\n",
              "count  23.00000  23.000000  20.000000  23.000000   9.000000\n",
              "mean   11.00000   4.782609  53.000000   3.434783  39.333333\n",
              "std     6.78233   2.968877  15.290176   2.642762   9.695360\n",
              "min     0.00000   1.000000  21.000000   1.000000  24.000000\n",
              "25%     5.50000   2.000000  50.000000   1.000000  30.000000\n",
              "50%    11.00000   5.000000  51.500000   2.000000  40.000000\n",
              "75%    16.50000   7.500000  60.000000   5.000000  50.000000\n",
              "max    22.00000  10.000000  85.000000  10.000000  50.000000"
            ]
          },
          "metadata": {
            "tags": []
          },
          "execution_count": 54
        }
      ]
    },
    {
      "cell_type": "code",
      "metadata": {
        "id": "i2zhNGdx5W7-",
        "colab_type": "code",
        "outputId": "ea970803-63dd-4f1a-c9be-9307f7775de4",
        "colab": {
          "base_uri": "https://localhost:8080/",
          "height": 289
        }
      },
      "source": [
        "# see distribution of observations (absolutes) for the 'product' variable\n",
        "df['product'].value_counts()"
      ],
      "execution_count": 55,
      "outputs": [
        {
          "output_type": "execute_result",
          "data": {
            "text/plain": [
              "beer        3\n",
              "jam         2\n",
              "cheese      2\n",
              "chorizo     2\n",
              "chicken     2\n",
              "paella      2\n",
              "tortilla    2\n",
              "rice        1\n",
              "beans       1\n",
              "lamb        1\n",
              "pizza       1\n",
              "cat         1\n",
              "bread       1\n",
              "dog         1\n",
              "pasta       1\n",
              "Name: product, dtype: int64"
            ]
          },
          "metadata": {
            "tags": []
          },
          "execution_count": 55
        }
      ]
    },
    {
      "cell_type": "code",
      "metadata": {
        "id": "bKEA6tEO1lUt",
        "colab_type": "code",
        "colab": {
          "base_uri": "https://localhost:8080/",
          "height": 289
        },
        "outputId": "bb84df8a-e6c2-415a-9fc8-8b5e0b0a4824"
      },
      "source": [
        "# see distribution in % for the 'product' variable\n",
        "df['product'].value_counts(normalize=True)"
      ],
      "execution_count": 56,
      "outputs": [
        {
          "output_type": "execute_result",
          "data": {
            "text/plain": [
              "beer        0.130435\n",
              "jam         0.086957\n",
              "cheese      0.086957\n",
              "chorizo     0.086957\n",
              "chicken     0.086957\n",
              "paella      0.086957\n",
              "tortilla    0.086957\n",
              "rice        0.043478\n",
              "beans       0.043478\n",
              "lamb        0.043478\n",
              "pizza       0.043478\n",
              "cat         0.043478\n",
              "bread       0.043478\n",
              "dog         0.043478\n",
              "pasta       0.043478\n",
              "Name: product, dtype: float64"
            ]
          },
          "metadata": {
            "tags": []
          },
          "execution_count": 56
        }
      ]
    },
    {
      "cell_type": "markdown",
      "metadata": {
        "id": "S3mR_9hE2DH4",
        "colab_type": "text"
      },
      "source": [
        "### Plot the data"
      ]
    },
    {
      "cell_type": "code",
      "metadata": {
        "id": "H4v7ER0nmjnG",
        "colab_type": "code",
        "outputId": "2544e929-f07e-4542-d8b2-c4390ff2bef6",
        "colab": {
          "base_uri": "https://localhost:8080/",
          "height": 282
        }
      },
      "source": [
        "# plot an histogram of the 'quantity' variable\n",
        "df.quantity.hist()"
      ],
      "execution_count": 57,
      "outputs": [
        {
          "output_type": "execute_result",
          "data": {
            "text/plain": [
              "<matplotlib.axes._subplots.AxesSubplot at 0x7f3a593a38d0>"
            ]
          },
          "metadata": {
            "tags": []
          },
          "execution_count": 57
        },
        {
          "output_type": "display_data",
          "data": {
            "image/png": "[encoded data removed]",
            "text/plain": [
              "<Figure size 432x288 with 1 Axes>"
            ]
          },
          "metadata": {
            "tags": []
          }
        }
      ]
    },
    {
      "cell_type": "code",
      "metadata": {
        "id": "tRnwkR8U2O8t",
        "colab_type": "code",
        "colab": {
          "base_uri": "https://localhost:8080/",
          "height": 282
        },
        "outputId": "c127f946-8d67-49e6-efd0-435a5ce1e325"
      },
      "source": [
        "# fine-tune the histogram with a different number a bins\n",
        "df.quantity.hist(bins=4)"
      ],
      "execution_count": 58,
      "outputs": [
        {
          "output_type": "execute_result",
          "data": {
            "text/plain": [
              "<matplotlib.axes._subplots.AxesSubplot at 0x7f3a58049358>"
            ]
          },
          "metadata": {
            "tags": []
          },
          "execution_count": 58
        },
        {
          "output_type": "display_data",
          "data": {
            "image/png": "[encoded data removed]",
            "text/plain": [
              "<Figure size 432x288 with 1 Axes>"
            ]
          },
          "metadata": {
            "tags": []
          }
        }
      ]
    },
    {
      "cell_type": "code",
      "metadata": {
        "id": "ArTo6odYmVv-",
        "colab_type": "code",
        "outputId": "87562f43-cafc-421e-af8d-92e2b19e3059",
        "colab": {
          "base_uri": "https://localhost:8080/",
          "height": 282
        }
      },
      "source": [
        "# plot distribution of all columns with boxplots\n",
        "df.boxplot()"
      ],
      "execution_count": 59,
      "outputs": [
        {
          "output_type": "execute_result",
          "data": {
            "text/plain": [
              "<matplotlib.axes._subplots.AxesSubplot at 0x7f3a57b26748>"
            ]
          },
          "metadata": {
            "tags": []
          },
          "execution_count": 59
        },
        {
          "output_type": "display_data",
          "data": {
            "image/png": "[encoded data removed]",
            "text/plain": [
              "<Figure size 432x288 with 1 Axes>"
            ]
          },
          "metadata": {
            "tags": []
          }
        }
      ]
    },
    {
      "cell_type": "markdown",
      "metadata": {
        "id": "mbfNBAw36AHq",
        "colab_type": "text"
      },
      "source": [
        "## 4. Clean and Transform data\n",
        "\n",
        "---\n",
        "* to homogeneize data\n",
        "* to operate on data (type)\n",
        "* to analyse data in a proper way (table or view) \n",
        "* to create new variables relevant for analysis\n",
        "---\n",
        "\n",
        "### Operations with Series"
      ]
    },
    {
      "cell_type": "code",
      "metadata": {
        "id": "nePKbtW0C6zD",
        "colab_type": "code",
        "colab": {
          "base_uri": "https://localhost:8080/",
          "height": 119
        },
        "outputId": "5221e073-5a10-4bd0-d320-2f5661a5297f"
      },
      "source": [
        "# create another serie using the previous one and adding 50 to all values\n",
        "# then rename it 'Sales Product B'\n",
        "s2 = s +50\n",
        "s2.rename('Sales Product B', inplace=True)\n",
        "s2"
      ],
      "execution_count": 60,
      "outputs": [
        {
          "output_type": "execute_result",
          "data": {
            "text/plain": [
              "2015    150\n",
              "2016    250\n",
              "2017    350\n",
              "2018    450\n",
              "2019    550\n",
              "Name: Sales Product B, dtype: int64"
            ]
          },
          "metadata": {
            "tags": []
          },
          "execution_count": 60
        }
      ]
    },
    {
      "cell_type": "code",
      "metadata": {
        "id": "sq518Dq8C658",
        "colab_type": "code",
        "colab": {
          "base_uri": "https://localhost:8080/",
          "height": 119
        },
        "outputId": "bd3fb41d-ec7a-401a-e77d-52be3f01e923"
      },
      "source": [
        "# in this new serie, replace the value of 150 by a missing value and 350 by 300\n",
        "s2.replace({150:np.nan, 350:300}, inplace=True) \n",
        "s2"
      ],
      "execution_count": 61,
      "outputs": [
        {
          "output_type": "execute_result",
          "data": {
            "text/plain": [
              "2015      NaN\n",
              "2016    250.0\n",
              "2017    300.0\n",
              "2018    450.0\n",
              "2019    550.0\n",
              "Name: Sales Product B, dtype: float64"
            ]
          },
          "metadata": {
            "tags": []
          },
          "execution_count": 61
        }
      ]
    },
    {
      "cell_type": "code",
      "metadata": {
        "id": "GVGtzHC8C7QR",
        "colab_type": "code",
        "colab": {
          "base_uri": "https://localhost:8080/",
          "height": 119
        },
        "outputId": "27ff16bd-6a53-4420-8dcf-afb27c19b962"
      },
      "source": [
        "# create a third serie which is the sum of the previous and the second series previously created\n",
        "s3 = s + s2\n",
        "s3"
      ],
      "execution_count": 62,
      "outputs": [
        {
          "output_type": "execute_result",
          "data": {
            "text/plain": [
              "2015       NaN\n",
              "2016     450.0\n",
              "2017     600.0\n",
              "2018     850.0\n",
              "2019    1050.0\n",
              "dtype: float64"
            ]
          },
          "metadata": {
            "tags": []
          },
          "execution_count": 62
        }
      ]
    },
    {
      "cell_type": "code",
      "metadata": {
        "id": "D6npCAGdC7Hw",
        "colab_type": "code",
        "colab": {
          "base_uri": "https://localhost:8080/",
          "height": 119
        },
        "outputId": "6b345601-1813-40e6-cbf2-2ef535c24c26"
      },
      "source": [
        "# check if it correctly did the sum in the position you have a missing value\n",
        "# if not try to do the same but now considering that the missing value means 0 sales\n",
        "s3 = s.add(s2, fill_value=0)\n",
        "s3"
      ],
      "execution_count": 63,
      "outputs": [
        {
          "output_type": "execute_result",
          "data": {
            "text/plain": [
              "2015     100.0\n",
              "2016     450.0\n",
              "2017     600.0\n",
              "2018     850.0\n",
              "2019    1050.0\n",
              "dtype: float64"
            ]
          },
          "metadata": {
            "tags": []
          },
          "execution_count": 63
        }
      ]
    },
    {
      "cell_type": "code",
      "metadata": {
        "id": "g-Ef619GFDt2",
        "colab_type": "code",
        "colab": {
          "base_uri": "https://localhost:8080/",
          "height": 119
        },
        "outputId": "72f0c7d6-6b55-43b1-df3d-5044fe31abd3"
      },
      "source": [
        "# Create another serie which is the substraction of the first one by the second one\n",
        "s4 = s.sub(s2, fill_value=0)\n",
        "s4"
      ],
      "execution_count": 64,
      "outputs": [
        {
          "output_type": "execute_result",
          "data": {
            "text/plain": [
              "2015    100.0\n",
              "2016    -50.0\n",
              "2017      0.0\n",
              "2018    -50.0\n",
              "2019    -50.0\n",
              "dtype: float64"
            ]
          },
          "metadata": {
            "tags": []
          },
          "execution_count": 64
        }
      ]
    },
    {
      "cell_type": "code",
      "metadata": {
        "id": "cSYZ7_aAFD4H",
        "colab_type": "code",
        "colab": {
          "base_uri": "https://localhost:8080/",
          "height": 119
        },
        "outputId": "ef2b503c-54f5-4e0e-c4a6-07702edd3f54"
      },
      "source": [
        "# Now another one that represents the multiplication of the first by the second one\n",
        "s5 = s.mul(s2, fill_value=0)\n",
        "s5"
      ],
      "execution_count": 65,
      "outputs": [
        {
          "output_type": "execute_result",
          "data": {
            "text/plain": [
              "2015         0.0\n",
              "2016     50000.0\n",
              "2017     90000.0\n",
              "2018    180000.0\n",
              "2019    275000.0\n",
              "dtype: float64"
            ]
          },
          "metadata": {
            "tags": []
          },
          "execution_count": 65
        }
      ]
    },
    {
      "cell_type": "code",
      "metadata": {
        "id": "-NN0hVP5FD0T",
        "colab_type": "code",
        "colab": {
          "base_uri": "https://localhost:8080/",
          "height": 119
        },
        "outputId": "67784113-a284-4ba3-cf8a-6dd1448d0ef7"
      },
      "source": [
        "# Now the last one, that represents the division of the first by the second one\n",
        "s6 = s.div(s2, fill_value=0)\n",
        "s6"
      ],
      "execution_count": 66,
      "outputs": [
        {
          "output_type": "execute_result",
          "data": {
            "text/plain": [
              "2015         inf\n",
              "2016    0.800000\n",
              "2017    1.000000\n",
              "2018    0.888889\n",
              "2019    0.909091\n",
              "dtype: float64"
            ]
          },
          "metadata": {
            "tags": []
          },
          "execution_count": 66
        }
      ]
    },
    {
      "cell_type": "markdown",
      "metadata": {
        "id": "4X3pdMRmJS_K",
        "colab_type": "text"
      },
      "source": [
        "### Checking and Changing type"
      ]
    },
    {
      "cell_type": "code",
      "metadata": {
        "id": "wZLBypXxJW_2",
        "colab_type": "code",
        "colab": {
          "base_uri": "https://localhost:8080/",
          "height": 204
        },
        "outputId": "c309ecfe-3d34-4413-e3c0-f9c22737aeda"
      },
      "source": [
        "# check variables types \n",
        "df.dtypes"
      ],
      "execution_count": 67,
      "outputs": [
        {
          "output_type": "execute_result",
          "data": {
            "text/plain": [
              "index             int64\n",
              "date_hour        object\n",
              "city             object\n",
              "shop              int64\n",
              "client          float64\n",
              "operation        object\n",
              "product          object\n",
              "quantity          int64\n",
              "Loyalty_card     object\n",
              "age             float64\n",
              "dtype: object"
            ]
          },
          "metadata": {
            "tags": []
          },
          "execution_count": 67
        }
      ]
    },
    {
      "cell_type": "code",
      "metadata": {
        "id": "7275uiwzJp5q",
        "colab_type": "code",
        "colab": {}
      },
      "source": [
        "# change 'date_hour' column as 'datetime' type instead of object\n",
        "df['date_hour'] = pd.to_datetime(df['date_hour'])"
      ],
      "execution_count": 0,
      "outputs": []
    },
    {
      "cell_type": "code",
      "metadata": {
        "id": "ej2loAxDiCv5",
        "colab_type": "code",
        "colab": {}
      },
      "source": [
        "# change 'shop' and 'client' from numerical (int or float) to alphanumeric (text)\n",
        "df['shop'] = df['shop'].astype('object')\n",
        "df['client'] = df['client'].astype('object')"
      ],
      "execution_count": 0,
      "outputs": []
    },
    {
      "cell_type": "code",
      "metadata": {
        "id": "fxzNZnPNKQ7_",
        "colab_type": "code",
        "colab": {}
      },
      "source": [
        "# change 'quantity' from int to float\n",
        "df['quantity'] = df['quantity'].astype('float')"
      ],
      "execution_count": 0,
      "outputs": []
    },
    {
      "cell_type": "code",
      "metadata": {
        "id": "oz8D-IQfKQyg",
        "colab_type": "code",
        "colab": {
          "base_uri": "https://localhost:8080/",
          "height": 204
        },
        "outputId": "4b01e2c5-326c-41d2-b26d-8515a07ac983"
      },
      "source": [
        "# check variables types again\n",
        "df.dtypes"
      ],
      "execution_count": 71,
      "outputs": [
        {
          "output_type": "execute_result",
          "data": {
            "text/plain": [
              "index                    int64\n",
              "date_hour       datetime64[ns]\n",
              "city                    object\n",
              "shop                    object\n",
              "client                  object\n",
              "operation               object\n",
              "product                 object\n",
              "quantity               float64\n",
              "Loyalty_card            object\n",
              "age                    float64\n",
              "dtype: object"
            ]
          },
          "metadata": {
            "tags": []
          },
          "execution_count": 71
        }
      ]
    },
    {
      "cell_type": "markdown",
      "metadata": {
        "id": "OjetjbbkEdSF",
        "colab_type": "text"
      },
      "source": [
        "### Creating new variables, cleaning data and changing structure of the dataframe\n"
      ]
    },
    {
      "cell_type": "code",
      "metadata": {
        "id": "bRQ7Hby9yykD",
        "colab_type": "code",
        "colab": {}
      },
      "source": [
        "# create a new column 'country' and assign 'Spain' to all registers\n",
        "df['country'] = 'Spain'"
      ],
      "execution_count": 0,
      "outputs": []
    },
    {
      "cell_type": "code",
      "metadata": {
        "id": "OxPBZE734QAe",
        "colab_type": "code",
        "colab": {
          "base_uri": "https://localhost:8080/",
          "height": 514
        },
        "outputId": "241a7dba-59c0-4643-f29a-a0d84cd38245"
      },
      "source": [
        "# create another dataframe with 1 column named 'product'\n",
        "# assign all the different values for product (without duplicated, like a catalogue)\n",
        "df2 = pd.DataFrame(df['product'].unique().tolist(), columns=['product'])\n",
        "df2"
      ],
      "execution_count": 73,
      "outputs": [
        {
          "output_type": "execute_result",
          "data": {
            "text/html": [
              "<div>\n",
              "<style scoped>\n",
              "    .dataframe tbody tr th:only-of-type {\n",
              "        vertical-align: middle;\n",
              "    }\n",
              "\n",
              "    .dataframe tbody tr th {\n",
              "        vertical-align: top;\n",
              "    }\n",
              "\n",
              "    .dataframe thead th {\n",
              "        text-align: right;\n",
              "    }\n",
              "</style>\n",
              "<table border=\"1\" class=\"dataframe\">\n",
              "  <thead>\n",
              "    <tr style=\"text-align: right;\">\n",
              "      <th></th>\n",
              "      <th>product</th>\n",
              "    </tr>\n",
              "  </thead>\n",
              "  <tbody>\n",
              "    <tr>\n",
              "      <th>0</th>\n",
              "      <td>tortilla</td>\n",
              "    </tr>\n",
              "    <tr>\n",
              "      <th>1</th>\n",
              "      <td>cheese</td>\n",
              "    </tr>\n",
              "    <tr>\n",
              "      <th>2</th>\n",
              "      <td>beer</td>\n",
              "    </tr>\n",
              "    <tr>\n",
              "      <th>3</th>\n",
              "      <td>chicken</td>\n",
              "    </tr>\n",
              "    <tr>\n",
              "      <th>4</th>\n",
              "      <td>chorizo</td>\n",
              "    </tr>\n",
              "    <tr>\n",
              "      <th>5</th>\n",
              "      <td>paella</td>\n",
              "    </tr>\n",
              "    <tr>\n",
              "      <th>6</th>\n",
              "      <td>jam</td>\n",
              "    </tr>\n",
              "    <tr>\n",
              "      <th>7</th>\n",
              "      <td>pasta</td>\n",
              "    </tr>\n",
              "    <tr>\n",
              "      <th>8</th>\n",
              "      <td>bread</td>\n",
              "    </tr>\n",
              "    <tr>\n",
              "      <th>9</th>\n",
              "      <td>pizza</td>\n",
              "    </tr>\n",
              "    <tr>\n",
              "      <th>10</th>\n",
              "      <td>dog</td>\n",
              "    </tr>\n",
              "    <tr>\n",
              "      <th>11</th>\n",
              "      <td>rice</td>\n",
              "    </tr>\n",
              "    <tr>\n",
              "      <th>12</th>\n",
              "      <td>cat</td>\n",
              "    </tr>\n",
              "    <tr>\n",
              "      <th>13</th>\n",
              "      <td>beans</td>\n",
              "    </tr>\n",
              "    <tr>\n",
              "      <th>14</th>\n",
              "      <td>lamb</td>\n",
              "    </tr>\n",
              "  </tbody>\n",
              "</table>\n",
              "</div>"
            ],
            "text/plain": [
              "     product\n",
              "0   tortilla\n",
              "1     cheese\n",
              "2       beer\n",
              "3    chicken\n",
              "4    chorizo\n",
              "5     paella\n",
              "6        jam\n",
              "7      pasta\n",
              "8      bread\n",
              "9      pizza\n",
              "10       dog\n",
              "11      rice\n",
              "12       cat\n",
              "13     beans\n",
              "14      lamb"
            ]
          },
          "metadata": {
            "tags": []
          },
          "execution_count": 73
        }
      ]
    },
    {
      "cell_type": "code",
      "metadata": {
        "id": "1-Pevc2FFWLX",
        "colab_type": "code",
        "colab": {
          "base_uri": "https://localhost:8080/",
          "height": 204
        },
        "outputId": "4e6012be-322d-4e1b-95af-c5e176de3703"
      },
      "source": [
        "# assign a price to each one in another column named 'price'\n",
        "df2['price'] = range(1, len(df2)+1, 1)\n",
        "df2.head() "
      ],
      "execution_count": 74,
      "outputs": [
        {
          "output_type": "execute_result",
          "data": {
            "text/html": [
              "<div>\n",
              "<style scoped>\n",
              "    .dataframe tbody tr th:only-of-type {\n",
              "        vertical-align: middle;\n",
              "    }\n",
              "\n",
              "    .dataframe tbody tr th {\n",
              "        vertical-align: top;\n",
              "    }\n",
              "\n",
              "    .dataframe thead th {\n",
              "        text-align: right;\n",
              "    }\n",
              "</style>\n",
              "<table border=\"1\" class=\"dataframe\">\n",
              "  <thead>\n",
              "    <tr style=\"text-align: right;\">\n",
              "      <th></th>\n",
              "      <th>product</th>\n",
              "      <th>price</th>\n",
              "    </tr>\n",
              "  </thead>\n",
              "  <tbody>\n",
              "    <tr>\n",
              "      <th>0</th>\n",
              "      <td>tortilla</td>\n",
              "      <td>1</td>\n",
              "    </tr>\n",
              "    <tr>\n",
              "      <th>1</th>\n",
              "      <td>cheese</td>\n",
              "      <td>2</td>\n",
              "    </tr>\n",
              "    <tr>\n",
              "      <th>2</th>\n",
              "      <td>beer</td>\n",
              "      <td>3</td>\n",
              "    </tr>\n",
              "    <tr>\n",
              "      <th>3</th>\n",
              "      <td>chicken</td>\n",
              "      <td>4</td>\n",
              "    </tr>\n",
              "    <tr>\n",
              "      <th>4</th>\n",
              "      <td>chorizo</td>\n",
              "      <td>5</td>\n",
              "    </tr>\n",
              "  </tbody>\n",
              "</table>\n",
              "</div>"
            ],
            "text/plain": [
              "    product  price\n",
              "0  tortilla      1\n",
              "1    cheese      2\n",
              "2      beer      3\n",
              "3   chicken      4\n",
              "4   chorizo      5"
            ]
          },
          "metadata": {
            "tags": []
          },
          "execution_count": 74
        }
      ]
    },
    {
      "cell_type": "code",
      "metadata": {
        "id": "Yergfkfc6oPY",
        "colab_type": "code",
        "colab": {
          "base_uri": "https://localhost:8080/",
          "height": 343
        },
        "outputId": "b9a42174-f52e-4b84-922f-1c2a40e65ad0"
      },
      "source": [
        "# merge the price data with the original dataframe (like a \"LEFT JOIN\")\n",
        "print(df.shape)\n",
        "df_merged = pd.merge(df, df2, how='left', on='product')\n",
        "print(df_merged.shape)\n",
        "df_merged.sample(5)"
      ],
      "execution_count": 75,
      "outputs": [
        {
          "output_type": "stream",
          "text": [
            "(23, 11)\n",
            "(23, 12)\n"
          ],
          "name": "stdout"
        },
        {
          "output_type": "execute_result",
          "data": {
            "text/html": [
              "<div>\n",
              "<style scoped>\n",
              "    .dataframe tbody tr th:only-of-type {\n",
              "        vertical-align: middle;\n",
              "    }\n",
              "\n",
              "    .dataframe tbody tr th {\n",
              "        vertical-align: top;\n",
              "    }\n",
              "\n",
              "    .dataframe thead th {\n",
              "        text-align: right;\n",
              "    }\n",
              "</style>\n",
              "<table border=\"1\" class=\"dataframe\">\n",
              "  <thead>\n",
              "    <tr style=\"text-align: right;\">\n",
              "      <th></th>\n",
              "      <th>index</th>\n",
              "      <th>date_hour</th>\n",
              "      <th>city</th>\n",
              "      <th>shop</th>\n",
              "      <th>client</th>\n",
              "      <th>operation</th>\n",
              "      <th>product</th>\n",
              "      <th>quantity</th>\n",
              "      <th>Loyalty_card</th>\n",
              "      <th>age</th>\n",
              "      <th>country</th>\n",
              "      <th>price</th>\n",
              "    </tr>\n",
              "  </thead>\n",
              "  <tbody>\n",
              "    <tr>\n",
              "      <th>4</th>\n",
              "      <td>14</td>\n",
              "      <td>2020-01-31 10:44:10</td>\n",
              "      <td>Barcelona</td>\n",
              "      <td>8</td>\n",
              "      <td>58</td>\n",
              "      <td>purchase</td>\n",
              "      <td>chorizo</td>\n",
              "      <td>6.0</td>\n",
              "      <td>No</td>\n",
              "      <td>NaN</td>\n",
              "      <td>Spain</td>\n",
              "      <td>5</td>\n",
              "    </tr>\n",
              "    <tr>\n",
              "      <th>11</th>\n",
              "      <td>19</td>\n",
              "      <td>2020-02-02 02:44:10</td>\n",
              "      <td>Barcelona</td>\n",
              "      <td>5</td>\n",
              "      <td>50</td>\n",
              "      <td>purchase</td>\n",
              "      <td>paella</td>\n",
              "      <td>1.0</td>\n",
              "      <td>Yes</td>\n",
              "      <td>NaN</td>\n",
              "      <td>Spain</td>\n",
              "      <td>6</td>\n",
              "    </tr>\n",
              "    <tr>\n",
              "      <th>2</th>\n",
              "      <td>22</td>\n",
              "      <td>2020-03-02 02:44:10</td>\n",
              "      <td>Barcelona</td>\n",
              "      <td>9</td>\n",
              "      <td>NaN</td>\n",
              "      <td>purchase</td>\n",
              "      <td>beer</td>\n",
              "      <td>3.0</td>\n",
              "      <td>NaN</td>\n",
              "      <td>NaN</td>\n",
              "      <td>Spain</td>\n",
              "      <td>3</td>\n",
              "    </tr>\n",
              "    <tr>\n",
              "      <th>15</th>\n",
              "      <td>6</td>\n",
              "      <td>2020-01-28 18:44:10</td>\n",
              "      <td>Madrid</td>\n",
              "      <td>3</td>\n",
              "      <td>26</td>\n",
              "      <td>purchase</td>\n",
              "      <td>bread</td>\n",
              "      <td>2.0</td>\n",
              "      <td>Yes</td>\n",
              "      <td>30.0</td>\n",
              "      <td>Spain</td>\n",
              "      <td>9</td>\n",
              "    </tr>\n",
              "    <tr>\n",
              "      <th>14</th>\n",
              "      <td>9</td>\n",
              "      <td>2020-01-29 18:44:10</td>\n",
              "      <td>Madrid</td>\n",
              "      <td>3</td>\n",
              "      <td>57</td>\n",
              "      <td>purchase</td>\n",
              "      <td>chicken</td>\n",
              "      <td>7.0</td>\n",
              "      <td>No</td>\n",
              "      <td>NaN</td>\n",
              "      <td>Spain</td>\n",
              "      <td>4</td>\n",
              "    </tr>\n",
              "  </tbody>\n",
              "</table>\n",
              "</div>"
            ],
            "text/plain": [
              "    index           date_hour       city shop  ... Loyalty_card   age country  price\n",
              "4      14 2020-01-31 10:44:10  Barcelona    8  ...           No   NaN   Spain      5\n",
              "11     19 2020-02-02 02:44:10  Barcelona    5  ...          Yes   NaN   Spain      6\n",
              "2      22 2020-03-02 02:44:10  Barcelona    9  ...          NaN   NaN   Spain      3\n",
              "15      6 2020-01-28 18:44:10     Madrid    3  ...          Yes  30.0   Spain      9\n",
              "14      9 2020-01-29 18:44:10     Madrid    3  ...           No   NaN   Spain      4\n",
              "\n",
              "[5 rows x 12 columns]"
            ]
          },
          "metadata": {
            "tags": []
          },
          "execution_count": 75
        }
      ]
    },
    {
      "cell_type": "code",
      "metadata": {
        "id": "CVon2wjy6oTL",
        "colab_type": "code",
        "colab": {
          "base_uri": "https://localhost:8080/",
          "height": 142
        },
        "outputId": "ad5cbaab-4541-40b2-ef6b-80c4c66fbffe"
      },
      "source": [
        "# create 2 new series: one with 3 new products and the other with their correspondant price\n",
        "# concatenate both series into a new dataframe with these 3 new items\n",
        "prods = pd.Series(['snack','choco','milk'])\n",
        "prices = pd.Series([1,2,3])\n",
        "df_new_items = pd.concat([prods, prices])\n",
        "df_new_items = pd.concat([prods, prices], axis=1)\n",
        "df_new_items"
      ],
      "execution_count": 76,
      "outputs": [
        {
          "output_type": "execute_result",
          "data": {
            "text/html": [
              "<div>\n",
              "<style scoped>\n",
              "    .dataframe tbody tr th:only-of-type {\n",
              "        vertical-align: middle;\n",
              "    }\n",
              "\n",
              "    .dataframe tbody tr th {\n",
              "        vertical-align: top;\n",
              "    }\n",
              "\n",
              "    .dataframe thead th {\n",
              "        text-align: right;\n",
              "    }\n",
              "</style>\n",
              "<table border=\"1\" class=\"dataframe\">\n",
              "  <thead>\n",
              "    <tr style=\"text-align: right;\">\n",
              "      <th></th>\n",
              "      <th>0</th>\n",
              "      <th>1</th>\n",
              "    </tr>\n",
              "  </thead>\n",
              "  <tbody>\n",
              "    <tr>\n",
              "      <th>0</th>\n",
              "      <td>snack</td>\n",
              "      <td>1</td>\n",
              "    </tr>\n",
              "    <tr>\n",
              "      <th>1</th>\n",
              "      <td>choco</td>\n",
              "      <td>2</td>\n",
              "    </tr>\n",
              "    <tr>\n",
              "      <th>2</th>\n",
              "      <td>milk</td>\n",
              "      <td>3</td>\n",
              "    </tr>\n",
              "  </tbody>\n",
              "</table>\n",
              "</div>"
            ],
            "text/plain": [
              "       0  1\n",
              "0  snack  1\n",
              "1  choco  2\n",
              "2   milk  3"
            ]
          },
          "metadata": {
            "tags": []
          },
          "execution_count": 76
        }
      ]
    },
    {
      "cell_type": "code",
      "metadata": {
        "id": "d9summX_6oYM",
        "colab_type": "code",
        "colab": {
          "base_uri": "https://localhost:8080/",
          "height": 176
        },
        "outputId": "94e0f74f-fc5a-400e-fd9c-a87a39bd8846"
      },
      "source": [
        "# append these 3 new items to the catalogue \n",
        "print(df2.shape)\n",
        "df_new_items.columns = ['product', 'price']\n",
        "df2_updated = df2.append(df_new_items)\n",
        "print(df2_updated.shape)\n",
        "df2_updated.tail(3)"
      ],
      "execution_count": 77,
      "outputs": [
        {
          "output_type": "stream",
          "text": [
            "(15, 2)\n",
            "(18, 2)\n"
          ],
          "name": "stdout"
        },
        {
          "output_type": "execute_result",
          "data": {
            "text/html": [
              "<div>\n",
              "<style scoped>\n",
              "    .dataframe tbody tr th:only-of-type {\n",
              "        vertical-align: middle;\n",
              "    }\n",
              "\n",
              "    .dataframe tbody tr th {\n",
              "        vertical-align: top;\n",
              "    }\n",
              "\n",
              "    .dataframe thead th {\n",
              "        text-align: right;\n",
              "    }\n",
              "</style>\n",
              "<table border=\"1\" class=\"dataframe\">\n",
              "  <thead>\n",
              "    <tr style=\"text-align: right;\">\n",
              "      <th></th>\n",
              "      <th>product</th>\n",
              "      <th>price</th>\n",
              "    </tr>\n",
              "  </thead>\n",
              "  <tbody>\n",
              "    <tr>\n",
              "      <th>0</th>\n",
              "      <td>snack</td>\n",
              "      <td>1</td>\n",
              "    </tr>\n",
              "    <tr>\n",
              "      <th>1</th>\n",
              "      <td>choco</td>\n",
              "      <td>2</td>\n",
              "    </tr>\n",
              "    <tr>\n",
              "      <th>2</th>\n",
              "      <td>milk</td>\n",
              "      <td>3</td>\n",
              "    </tr>\n",
              "  </tbody>\n",
              "</table>\n",
              "</div>"
            ],
            "text/plain": [
              "  product  price\n",
              "0   snack      1\n",
              "1   choco      2\n",
              "2    milk      3"
            ]
          },
          "metadata": {
            "tags": []
          },
          "execution_count": 77
        }
      ]
    },
    {
      "cell_type": "code",
      "metadata": {
        "id": "RdP9deCbVjOv",
        "colab_type": "code",
        "colab": {
          "base_uri": "https://localhost:8080/",
          "height": 204
        },
        "outputId": "5f95062d-6a46-4a2d-dc09-ab4e810bdcff"
      },
      "source": [
        "# assign a new column 'promotion_A' that divide the price/unit by 2\n",
        "df_merged['promotion_A'] = df_merged['price'] / 2\n",
        "df_merged[['quantity','price','promotion_A']].head()"
      ],
      "execution_count": 78,
      "outputs": [
        {
          "output_type": "execute_result",
          "data": {
            "text/html": [
              "<div>\n",
              "<style scoped>\n",
              "    .dataframe tbody tr th:only-of-type {\n",
              "        vertical-align: middle;\n",
              "    }\n",
              "\n",
              "    .dataframe tbody tr th {\n",
              "        vertical-align: top;\n",
              "    }\n",
              "\n",
              "    .dataframe thead th {\n",
              "        text-align: right;\n",
              "    }\n",
              "</style>\n",
              "<table border=\"1\" class=\"dataframe\">\n",
              "  <thead>\n",
              "    <tr style=\"text-align: right;\">\n",
              "      <th></th>\n",
              "      <th>quantity</th>\n",
              "      <th>price</th>\n",
              "      <th>promotion_A</th>\n",
              "    </tr>\n",
              "  </thead>\n",
              "  <tbody>\n",
              "    <tr>\n",
              "      <th>0</th>\n",
              "      <td>1.0</td>\n",
              "      <td>1</td>\n",
              "      <td>0.5</td>\n",
              "    </tr>\n",
              "    <tr>\n",
              "      <th>1</th>\n",
              "      <td>2.0</td>\n",
              "      <td>2</td>\n",
              "      <td>1.0</td>\n",
              "    </tr>\n",
              "    <tr>\n",
              "      <th>2</th>\n",
              "      <td>3.0</td>\n",
              "      <td>3</td>\n",
              "      <td>1.5</td>\n",
              "    </tr>\n",
              "    <tr>\n",
              "      <th>3</th>\n",
              "      <td>5.0</td>\n",
              "      <td>4</td>\n",
              "      <td>2.0</td>\n",
              "    </tr>\n",
              "    <tr>\n",
              "      <th>4</th>\n",
              "      <td>6.0</td>\n",
              "      <td>5</td>\n",
              "      <td>2.5</td>\n",
              "    </tr>\n",
              "  </tbody>\n",
              "</table>\n",
              "</div>"
            ],
            "text/plain": [
              "   quantity  price  promotion_A\n",
              "0       1.0      1          0.5\n",
              "1       2.0      2          1.0\n",
              "2       3.0      3          1.5\n",
              "3       5.0      4          2.0\n",
              "4       6.0      5          2.5"
            ]
          },
          "metadata": {
            "tags": []
          },
          "execution_count": 78
        }
      ]
    },
    {
      "cell_type": "code",
      "metadata": {
        "id": "iTnnZviHAzZQ",
        "colab_type": "code",
        "colab": {
          "base_uri": "https://localhost:8080/",
          "height": 165
        },
        "outputId": "9d1b80a3-d2dd-40be-f738-1a56e67c2978"
      },
      "source": [
        "# correct return operations data (should have negative values in quantity)\n",
        "df_merged['quantity'] = np.where(df_merged.operation == 'return', \n",
        "                                 -df_merged.quantity, \n",
        "                                 df_merged.quantity)\n",
        "df_merged.loc[df_merged.operation == 'return']"
      ],
      "execution_count": 79,
      "outputs": [
        {
          "output_type": "execute_result",
          "data": {
            "text/html": [
              "<div>\n",
              "<style scoped>\n",
              "    .dataframe tbody tr th:only-of-type {\n",
              "        vertical-align: middle;\n",
              "    }\n",
              "\n",
              "    .dataframe tbody tr th {\n",
              "        vertical-align: top;\n",
              "    }\n",
              "\n",
              "    .dataframe thead th {\n",
              "        text-align: right;\n",
              "    }\n",
              "</style>\n",
              "<table border=\"1\" class=\"dataframe\">\n",
              "  <thead>\n",
              "    <tr style=\"text-align: right;\">\n",
              "      <th></th>\n",
              "      <th>index</th>\n",
              "      <th>date_hour</th>\n",
              "      <th>city</th>\n",
              "      <th>shop</th>\n",
              "      <th>client</th>\n",
              "      <th>operation</th>\n",
              "      <th>product</th>\n",
              "      <th>quantity</th>\n",
              "      <th>Loyalty_card</th>\n",
              "      <th>age</th>\n",
              "      <th>country</th>\n",
              "      <th>price</th>\n",
              "      <th>promotion_A</th>\n",
              "    </tr>\n",
              "  </thead>\n",
              "  <tbody>\n",
              "    <tr>\n",
              "      <th>0</th>\n",
              "      <td>18</td>\n",
              "      <td>2020-01-02 18:44:10</td>\n",
              "      <td>Barcelona</td>\n",
              "      <td>10</td>\n",
              "      <td>50</td>\n",
              "      <td>return</td>\n",
              "      <td>tortilla</td>\n",
              "      <td>-1.0</td>\n",
              "      <td>Yes</td>\n",
              "      <td>NaN</td>\n",
              "      <td>Spain</td>\n",
              "      <td>1</td>\n",
              "      <td>0.5</td>\n",
              "    </tr>\n",
              "    <tr>\n",
              "      <th>9</th>\n",
              "      <td>20</td>\n",
              "      <td>2020-02-02 10:44:10</td>\n",
              "      <td>Barcelona</td>\n",
              "      <td>5</td>\n",
              "      <td>58</td>\n",
              "      <td>return</td>\n",
              "      <td>chorizo</td>\n",
              "      <td>-1.0</td>\n",
              "      <td>Yes</td>\n",
              "      <td>50.0</td>\n",
              "      <td>Spain</td>\n",
              "      <td>5</td>\n",
              "      <td>2.5</td>\n",
              "    </tr>\n",
              "  </tbody>\n",
              "</table>\n",
              "</div>"
            ],
            "text/plain": [
              "   index           date_hour       city shop  ...   age country price  promotion_A\n",
              "0     18 2020-01-02 18:44:10  Barcelona   10  ...   NaN   Spain     1          0.5\n",
              "9     20 2020-02-02 10:44:10  Barcelona    5  ...  50.0   Spain     5          2.5\n",
              "\n",
              "[2 rows x 13 columns]"
            ]
          },
          "metadata": {
            "tags": []
          },
          "execution_count": 79
        }
      ]
    },
    {
      "cell_type": "code",
      "metadata": {
        "id": "YV8D7my2VjYv",
        "colab_type": "code",
        "colab": {
          "base_uri": "https://localhost:8080/",
          "height": 204
        },
        "outputId": "586b1314-a431-4f3e-b899-24a6e4713da2"
      },
      "source": [
        "# assign a new column 'total_purchase' that is multiply price/unit by quantity\n",
        "df_merged['total_purchase'] = df_merged['price'] * df_merged['quantity']\n",
        "df_merged[['quantity','price','total_purchase']].head()"
      ],
      "execution_count": 80,
      "outputs": [
        {
          "output_type": "execute_result",
          "data": {
            "text/html": [
              "<div>\n",
              "<style scoped>\n",
              "    .dataframe tbody tr th:only-of-type {\n",
              "        vertical-align: middle;\n",
              "    }\n",
              "\n",
              "    .dataframe tbody tr th {\n",
              "        vertical-align: top;\n",
              "    }\n",
              "\n",
              "    .dataframe thead th {\n",
              "        text-align: right;\n",
              "    }\n",
              "</style>\n",
              "<table border=\"1\" class=\"dataframe\">\n",
              "  <thead>\n",
              "    <tr style=\"text-align: right;\">\n",
              "      <th></th>\n",
              "      <th>quantity</th>\n",
              "      <th>price</th>\n",
              "      <th>total_purchase</th>\n",
              "    </tr>\n",
              "  </thead>\n",
              "  <tbody>\n",
              "    <tr>\n",
              "      <th>0</th>\n",
              "      <td>-1.0</td>\n",
              "      <td>1</td>\n",
              "      <td>-1.0</td>\n",
              "    </tr>\n",
              "    <tr>\n",
              "      <th>1</th>\n",
              "      <td>2.0</td>\n",
              "      <td>2</td>\n",
              "      <td>4.0</td>\n",
              "    </tr>\n",
              "    <tr>\n",
              "      <th>2</th>\n",
              "      <td>3.0</td>\n",
              "      <td>3</td>\n",
              "      <td>9.0</td>\n",
              "    </tr>\n",
              "    <tr>\n",
              "      <th>3</th>\n",
              "      <td>5.0</td>\n",
              "      <td>4</td>\n",
              "      <td>20.0</td>\n",
              "    </tr>\n",
              "    <tr>\n",
              "      <th>4</th>\n",
              "      <td>6.0</td>\n",
              "      <td>5</td>\n",
              "      <td>30.0</td>\n",
              "    </tr>\n",
              "  </tbody>\n",
              "</table>\n",
              "</div>"
            ],
            "text/plain": [
              "   quantity  price  total_purchase\n",
              "0      -1.0      1            -1.0\n",
              "1       2.0      2             4.0\n",
              "2       3.0      3             9.0\n",
              "3       5.0      4            20.0\n",
              "4       6.0      5            30.0"
            ]
          },
          "metadata": {
            "tags": []
          },
          "execution_count": 80
        }
      ]
    },
    {
      "cell_type": "code",
      "metadata": {
        "id": "C0yYSjmmVjIC",
        "colab_type": "code",
        "colab": {
          "base_uri": "https://localhost:8080/",
          "height": 204
        },
        "outputId": "b6885df1-2715-4c22-8cbf-6465edff3ab8"
      },
      "source": [
        "# assign a new column 'promotion_B' that apply 10 euros discount on total purchase\n",
        "df_merged['promotion_B'] = df_merged['total_purchase'] - 10\n",
        "df_merged[['quantity','price','total_purchase','promotion_B']].head()"
      ],
      "execution_count": 81,
      "outputs": [
        {
          "output_type": "execute_result",
          "data": {
            "text/html": [
              "<div>\n",
              "<style scoped>\n",
              "    .dataframe tbody tr th:only-of-type {\n",
              "        vertical-align: middle;\n",
              "    }\n",
              "\n",
              "    .dataframe tbody tr th {\n",
              "        vertical-align: top;\n",
              "    }\n",
              "\n",
              "    .dataframe thead th {\n",
              "        text-align: right;\n",
              "    }\n",
              "</style>\n",
              "<table border=\"1\" class=\"dataframe\">\n",
              "  <thead>\n",
              "    <tr style=\"text-align: right;\">\n",
              "      <th></th>\n",
              "      <th>quantity</th>\n",
              "      <th>price</th>\n",
              "      <th>total_purchase</th>\n",
              "      <th>promotion_B</th>\n",
              "    </tr>\n",
              "  </thead>\n",
              "  <tbody>\n",
              "    <tr>\n",
              "      <th>0</th>\n",
              "      <td>-1.0</td>\n",
              "      <td>1</td>\n",
              "      <td>-1.0</td>\n",
              "      <td>-11.0</td>\n",
              "    </tr>\n",
              "    <tr>\n",
              "      <th>1</th>\n",
              "      <td>2.0</td>\n",
              "      <td>2</td>\n",
              "      <td>4.0</td>\n",
              "      <td>-6.0</td>\n",
              "    </tr>\n",
              "    <tr>\n",
              "      <th>2</th>\n",
              "      <td>3.0</td>\n",
              "      <td>3</td>\n",
              "      <td>9.0</td>\n",
              "      <td>-1.0</td>\n",
              "    </tr>\n",
              "    <tr>\n",
              "      <th>3</th>\n",
              "      <td>5.0</td>\n",
              "      <td>4</td>\n",
              "      <td>20.0</td>\n",
              "      <td>10.0</td>\n",
              "    </tr>\n",
              "    <tr>\n",
              "      <th>4</th>\n",
              "      <td>6.0</td>\n",
              "      <td>5</td>\n",
              "      <td>30.0</td>\n",
              "      <td>20.0</td>\n",
              "    </tr>\n",
              "  </tbody>\n",
              "</table>\n",
              "</div>"
            ],
            "text/plain": [
              "   quantity  price  total_purchase  promotion_B\n",
              "0      -1.0      1            -1.0        -11.0\n",
              "1       2.0      2             4.0         -6.0\n",
              "2       3.0      3             9.0         -1.0\n",
              "3       5.0      4            20.0         10.0\n",
              "4       6.0      5            30.0         20.0"
            ]
          },
          "metadata": {
            "tags": []
          },
          "execution_count": 81
        }
      ]
    },
    {
      "cell_type": "code",
      "metadata": {
        "id": "80lu-I7riThi",
        "colab_type": "code",
        "outputId": "f0988f5f-2236-44c1-8018-2ec8536a861f",
        "colab": {
          "base_uri": "https://localhost:8080/",
          "height": 204
        }
      },
      "source": [
        "# create a variable that recommend which promotion is more interesting: 'A', 'B' o 'same'\n",
        "a_lower_than_b = df_merged['promotion_A']*df_merged['quantity'] < df_merged['promotion_B']\n",
        "a_higher_than_b = df_merged['promotion_A']*df_merged['quantity'] > df_merged['promotion_B']\n",
        "df_merged['recommend'] = np.where(a_lower_than_b, 'A',\n",
        "                           np.where(a_higher_than_b, 'B', 'same'))\n",
        "df_merged[['quantity','price','promotion_A','total_purchase','promotion_B','recommend']].head()"
      ],
      "execution_count": 82,
      "outputs": [
        {
          "output_type": "execute_result",
          "data": {
            "text/html": [
              "<div>\n",
              "<style scoped>\n",
              "    .dataframe tbody tr th:only-of-type {\n",
              "        vertical-align: middle;\n",
              "    }\n",
              "\n",
              "    .dataframe tbody tr th {\n",
              "        vertical-align: top;\n",
              "    }\n",
              "\n",
              "    .dataframe thead th {\n",
              "        text-align: right;\n",
              "    }\n",
              "</style>\n",
              "<table border=\"1\" class=\"dataframe\">\n",
              "  <thead>\n",
              "    <tr style=\"text-align: right;\">\n",
              "      <th></th>\n",
              "      <th>quantity</th>\n",
              "      <th>price</th>\n",
              "      <th>promotion_A</th>\n",
              "      <th>total_purchase</th>\n",
              "      <th>promotion_B</th>\n",
              "      <th>recommend</th>\n",
              "    </tr>\n",
              "  </thead>\n",
              "  <tbody>\n",
              "    <tr>\n",
              "      <th>0</th>\n",
              "      <td>-1.0</td>\n",
              "      <td>1</td>\n",
              "      <td>0.5</td>\n",
              "      <td>-1.0</td>\n",
              "      <td>-11.0</td>\n",
              "      <td>B</td>\n",
              "    </tr>\n",
              "    <tr>\n",
              "      <th>1</th>\n",
              "      <td>2.0</td>\n",
              "      <td>2</td>\n",
              "      <td>1.0</td>\n",
              "      <td>4.0</td>\n",
              "      <td>-6.0</td>\n",
              "      <td>B</td>\n",
              "    </tr>\n",
              "    <tr>\n",
              "      <th>2</th>\n",
              "      <td>3.0</td>\n",
              "      <td>3</td>\n",
              "      <td>1.5</td>\n",
              "      <td>9.0</td>\n",
              "      <td>-1.0</td>\n",
              "      <td>B</td>\n",
              "    </tr>\n",
              "    <tr>\n",
              "      <th>3</th>\n",
              "      <td>5.0</td>\n",
              "      <td>4</td>\n",
              "      <td>2.0</td>\n",
              "      <td>20.0</td>\n",
              "      <td>10.0</td>\n",
              "      <td>same</td>\n",
              "    </tr>\n",
              "    <tr>\n",
              "      <th>4</th>\n",
              "      <td>6.0</td>\n",
              "      <td>5</td>\n",
              "      <td>2.5</td>\n",
              "      <td>30.0</td>\n",
              "      <td>20.0</td>\n",
              "      <td>A</td>\n",
              "    </tr>\n",
              "  </tbody>\n",
              "</table>\n",
              "</div>"
            ],
            "text/plain": [
              "   quantity  price  promotion_A  total_purchase  promotion_B recommend\n",
              "0      -1.0      1          0.5            -1.0        -11.0         B\n",
              "1       2.0      2          1.0             4.0         -6.0         B\n",
              "2       3.0      3          1.5             9.0         -1.0         B\n",
              "3       5.0      4          2.0            20.0         10.0      same\n",
              "4       6.0      5          2.5            30.0         20.0         A"
            ]
          },
          "metadata": {
            "tags": []
          },
          "execution_count": 82
        }
      ]
    },
    {
      "cell_type": "code",
      "metadata": {
        "id": "MNOfe46y6FOw",
        "colab_type": "code",
        "colab": {
          "base_uri": "https://localhost:8080/",
          "height": 131
        },
        "outputId": "2874e13e-97be-4b8e-fb82-5fa983549638"
      },
      "source": [
        "# Transpose the catalogue of products (rows as columns and columns as rows)\n",
        "catalogue_trans = df2_updated.T\n",
        "catalogue_trans"
      ],
      "execution_count": 83,
      "outputs": [
        {
          "output_type": "execute_result",
          "data": {
            "text/html": [
              "<div>\n",
              "<style scoped>\n",
              "    .dataframe tbody tr th:only-of-type {\n",
              "        vertical-align: middle;\n",
              "    }\n",
              "\n",
              "    .dataframe tbody tr th {\n",
              "        vertical-align: top;\n",
              "    }\n",
              "\n",
              "    .dataframe thead th {\n",
              "        text-align: right;\n",
              "    }\n",
              "</style>\n",
              "<table border=\"1\" class=\"dataframe\">\n",
              "  <thead>\n",
              "    <tr style=\"text-align: right;\">\n",
              "      <th></th>\n",
              "      <th>0</th>\n",
              "      <th>1</th>\n",
              "      <th>2</th>\n",
              "      <th>3</th>\n",
              "      <th>4</th>\n",
              "      <th>5</th>\n",
              "      <th>6</th>\n",
              "      <th>7</th>\n",
              "      <th>8</th>\n",
              "      <th>9</th>\n",
              "      <th>10</th>\n",
              "      <th>11</th>\n",
              "      <th>12</th>\n",
              "      <th>13</th>\n",
              "      <th>14</th>\n",
              "      <th>0</th>\n",
              "      <th>1</th>\n",
              "      <th>2</th>\n",
              "    </tr>\n",
              "  </thead>\n",
              "  <tbody>\n",
              "    <tr>\n",
              "      <th>product</th>\n",
              "      <td>tortilla</td>\n",
              "      <td>cheese</td>\n",
              "      <td>beer</td>\n",
              "      <td>chicken</td>\n",
              "      <td>chorizo</td>\n",
              "      <td>paella</td>\n",
              "      <td>jam</td>\n",
              "      <td>pasta</td>\n",
              "      <td>bread</td>\n",
              "      <td>pizza</td>\n",
              "      <td>dog</td>\n",
              "      <td>rice</td>\n",
              "      <td>cat</td>\n",
              "      <td>beans</td>\n",
              "      <td>lamb</td>\n",
              "      <td>snack</td>\n",
              "      <td>choco</td>\n",
              "      <td>milk</td>\n",
              "    </tr>\n",
              "    <tr>\n",
              "      <th>price</th>\n",
              "      <td>1</td>\n",
              "      <td>2</td>\n",
              "      <td>3</td>\n",
              "      <td>4</td>\n",
              "      <td>5</td>\n",
              "      <td>6</td>\n",
              "      <td>7</td>\n",
              "      <td>8</td>\n",
              "      <td>9</td>\n",
              "      <td>10</td>\n",
              "      <td>11</td>\n",
              "      <td>12</td>\n",
              "      <td>13</td>\n",
              "      <td>14</td>\n",
              "      <td>15</td>\n",
              "      <td>1</td>\n",
              "      <td>2</td>\n",
              "      <td>3</td>\n",
              "    </tr>\n",
              "  </tbody>\n",
              "</table>\n",
              "</div>"
            ],
            "text/plain": [
              "               0       1     2        3   ...    14     0      1     2 \n",
              "product  tortilla  cheese  beer  chicken  ...  lamb  snack  choco  milk\n",
              "price           1       2     3        4  ...    15      1      2     3\n",
              "\n",
              "[2 rows x 18 columns]"
            ]
          },
          "metadata": {
            "tags": []
          },
          "execution_count": 83
        }
      ]
    },
    {
      "cell_type": "code",
      "metadata": {
        "id": "b-RTXB3s68Rd",
        "colab_type": "code",
        "colab": {
          "base_uri": "https://localhost:8080/",
          "height": 374
        },
        "outputId": "dd7d4078-f3db-426f-b965-40377c1b962c"
      },
      "source": [
        "# drop columns that are not relevant for analysis\n",
        "df_merged.info()\n",
        "df_merged.drop(columns = ['index', 'age','country'], inplace = True, axis = 1)"
      ],
      "execution_count": 84,
      "outputs": [
        {
          "output_type": "stream",
          "text": [
            "<class 'pandas.core.frame.DataFrame'>\n",
            "Int64Index: 23 entries, 0 to 22\n",
            "Data columns (total 16 columns):\n",
            "index             23 non-null int64\n",
            "date_hour         23 non-null datetime64[ns]\n",
            "city              23 non-null object\n",
            "shop              23 non-null object\n",
            "client            20 non-null object\n",
            "operation         23 non-null object\n",
            "product           23 non-null object\n",
            "quantity          23 non-null float64\n",
            "Loyalty_card      20 non-null object\n",
            "age               9 non-null float64\n",
            "country           23 non-null object\n",
            "price             23 non-null int64\n",
            "promotion_A       23 non-null float64\n",
            "total_purchase    23 non-null float64\n",
            "promotion_B       23 non-null float64\n",
            "recommend         23 non-null object\n",
            "dtypes: datetime64[ns](1), float64(5), int64(2), object(8)\n",
            "memory usage: 3.1+ KB\n"
          ],
          "name": "stdout"
        }
      ]
    },
    {
      "cell_type": "code",
      "metadata": {
        "id": "v9vzcPHK4SNm",
        "colab_type": "code",
        "colab": {
          "base_uri": "https://localhost:8080/",
          "height": 85
        },
        "outputId": "1894100f-71a5-4407-8408-eed78992233b"
      },
      "source": [
        "df_merged.columns"
      ],
      "execution_count": 85,
      "outputs": [
        {
          "output_type": "execute_result",
          "data": {
            "text/plain": [
              "Index(['date_hour', 'city', 'shop', 'client', 'operation', 'product',\n",
              "       'quantity', 'Loyalty_card', 'price', 'promotion_A', 'total_purchase',\n",
              "       'promotion_B', 'recommend'],\n",
              "      dtype='object')"
            ]
          },
          "metadata": {
            "tags": []
          },
          "execution_count": 85
        }
      ]
    },
    {
      "cell_type": "code",
      "metadata": {
        "id": "13RP9I-6aPaZ",
        "colab_type": "code",
        "colab": {
          "base_uri": "https://localhost:8080/",
          "height": 51
        },
        "outputId": "c386ee12-fcbc-4eba-849d-1bf69900692e"
      },
      "source": [
        "# drop registers where we don't know which client it is\n",
        "print(len(df_merged))\n",
        "df_merged.dropna(how='any', subset=['client'], inplace=True) \n",
        "print(len(df_merged))"
      ],
      "execution_count": 86,
      "outputs": [
        {
          "output_type": "stream",
          "text": [
            "23\n",
            "20\n"
          ],
          "name": "stdout"
        }
      ]
    },
    {
      "cell_type": "code",
      "metadata": {
        "id": "f0wZDfZX5-X9",
        "colab_type": "code",
        "colab": {}
      },
      "source": [
        "# add 3 duplicated registers\n",
        "df_merged = df_merged.append(df_merged.iloc[5:8])"
      ],
      "execution_count": 0,
      "outputs": []
    },
    {
      "cell_type": "code",
      "metadata": {
        "id": "uqyIZ_ZnaPlf",
        "colab_type": "code",
        "colab": {
          "base_uri": "https://localhost:8080/",
          "height": 51
        },
        "outputId": "d5568536-58a9-4c42-ad3a-873ca317445c"
      },
      "source": [
        "# drop duplicated registers\n",
        "print(len(df_merged))\n",
        "df_merged.drop_duplicates(subset=['date_hour','shop','client','quantity','product'],\n",
        "                          inplace=True)\n",
        "print(len(df_merged))"
      ],
      "execution_count": 88,
      "outputs": [
        {
          "output_type": "stream",
          "text": [
            "23\n",
            "20\n"
          ],
          "name": "stdout"
        }
      ]
    },
    {
      "cell_type": "markdown",
      "metadata": {
        "id": "TQy-EV_q6dRk",
        "colab_type": "text"
      },
      "source": [
        "## 5. Look for patterns or differences to extract Insights & Save outputs"
      ]
    },
    {
      "cell_type": "code",
      "metadata": {
        "id": "5aQaArq96FS9",
        "colab_type": "code",
        "outputId": "23924dd8-aa3a-4a3c-c082-cb4a4c7e0893",
        "colab": {
          "base_uri": "https://localhost:8080/",
          "height": 272
        }
      },
      "source": [
        "# calculate the sum of purchases per client\n",
        "df_merged.groupby(['client'])['total_purchase'].sum()"
      ],
      "execution_count": 89,
      "outputs": [
        {
          "output_type": "execute_result",
          "data": {
            "text/plain": [
              "client\n",
              "21.0      4.0\n",
              "26.0     18.0\n",
              "32.0     14.0\n",
              "42.0     21.0\n",
              "50.0    107.0\n",
              "53.0     49.0\n",
              "57.0     28.0\n",
              "58.0     25.0\n",
              "60.0     43.0\n",
              "63.0     10.0\n",
              "69.0      2.0\n",
              "76.0     20.0\n",
              "85.0     16.0\n",
              "Name: total_purchase, dtype: float64"
            ]
          },
          "metadata": {
            "tags": []
          },
          "execution_count": 89
        }
      ]
    },
    {
      "cell_type": "code",
      "metadata": {
        "id": "0gMZAReuDhf8",
        "colab_type": "code",
        "colab": {
          "base_uri": "https://localhost:8080/",
          "height": 328
        },
        "outputId": "805b9dac-72c4-4d0d-ff54-e185107c4038"
      },
      "source": [
        "# calculate the average operation quantity and price per city and shop\n",
        "df_merged.groupby(['city','shop'])['quantity','price'].mean()"
      ],
      "execution_count": 90,
      "outputs": [
        {
          "output_type": "execute_result",
          "data": {
            "text/html": [
              "<div>\n",
              "<style scoped>\n",
              "    .dataframe tbody tr th:only-of-type {\n",
              "        vertical-align: middle;\n",
              "    }\n",
              "\n",
              "    .dataframe tbody tr th {\n",
              "        vertical-align: top;\n",
              "    }\n",
              "\n",
              "    .dataframe thead th {\n",
              "        text-align: right;\n",
              "    }\n",
              "</style>\n",
              "<table border=\"1\" class=\"dataframe\">\n",
              "  <thead>\n",
              "    <tr style=\"text-align: right;\">\n",
              "      <th></th>\n",
              "      <th></th>\n",
              "      <th>quantity</th>\n",
              "      <th>price</th>\n",
              "    </tr>\n",
              "    <tr>\n",
              "      <th>city</th>\n",
              "      <th>shop</th>\n",
              "      <th></th>\n",
              "      <th></th>\n",
              "    </tr>\n",
              "  </thead>\n",
              "  <tbody>\n",
              "    <tr>\n",
              "      <th rowspan=\"5\" valign=\"top\">Barcelona</th>\n",
              "      <th>5</th>\n",
              "      <td>4.400000</td>\n",
              "      <td>5.4</td>\n",
              "    </tr>\n",
              "    <tr>\n",
              "      <th>7</th>\n",
              "      <td>1.500000</td>\n",
              "      <td>3.5</td>\n",
              "    </tr>\n",
              "    <tr>\n",
              "      <th>8</th>\n",
              "      <td>6.000000</td>\n",
              "      <td>4.0</td>\n",
              "    </tr>\n",
              "    <tr>\n",
              "      <th>9</th>\n",
              "      <td>2.000000</td>\n",
              "      <td>2.0</td>\n",
              "    </tr>\n",
              "    <tr>\n",
              "      <th>10</th>\n",
              "      <td>-1.000000</td>\n",
              "      <td>1.0</td>\n",
              "    </tr>\n",
              "    <tr>\n",
              "      <th rowspan=\"3\" valign=\"top\">Madrid</th>\n",
              "      <th>1</th>\n",
              "      <td>2.333333</td>\n",
              "      <td>10.0</td>\n",
              "    </tr>\n",
              "    <tr>\n",
              "      <th>2</th>\n",
              "      <td>2.000000</td>\n",
              "      <td>10.5</td>\n",
              "    </tr>\n",
              "    <tr>\n",
              "      <th>3</th>\n",
              "      <td>3.666667</td>\n",
              "      <td>7.0</td>\n",
              "    </tr>\n",
              "  </tbody>\n",
              "</table>\n",
              "</div>"
            ],
            "text/plain": [
              "                quantity  price\n",
              "city      shop                 \n",
              "Barcelona 5     4.400000    5.4\n",
              "          7     1.500000    3.5\n",
              "          8     6.000000    4.0\n",
              "          9     2.000000    2.0\n",
              "          10   -1.000000    1.0\n",
              "Madrid    1     2.333333   10.0\n",
              "          2     2.000000   10.5\n",
              "          3     3.666667    7.0"
            ]
          },
          "metadata": {
            "tags": []
          },
          "execution_count": 90
        }
      ]
    },
    {
      "cell_type": "code",
      "metadata": {
        "id": "H3Op60JqDhcv",
        "colab_type": "code",
        "colab": {
          "base_uri": "https://localhost:8080/",
          "height": 514
        },
        "outputId": "0412456f-59b1-4f2d-c934-f693c64bf545"
      },
      "source": [
        "# calculate the minimum, median and maximum price, quantity and total purchase per product\n",
        "df_merged.groupby(['product'])['price','quantity','total_purchase'].agg(['min', 'median', 'max'])"
      ],
      "execution_count": 91,
      "outputs": [
        {
          "output_type": "execute_result",
          "data": {
            "text/html": [
              "<div>\n",
              "<style scoped>\n",
              "    .dataframe tbody tr th:only-of-type {\n",
              "        vertical-align: middle;\n",
              "    }\n",
              "\n",
              "    .dataframe tbody tr th {\n",
              "        vertical-align: top;\n",
              "    }\n",
              "\n",
              "    .dataframe thead tr th {\n",
              "        text-align: left;\n",
              "    }\n",
              "\n",
              "    .dataframe thead tr:last-of-type th {\n",
              "        text-align: right;\n",
              "    }\n",
              "</style>\n",
              "<table border=\"1\" class=\"dataframe\">\n",
              "  <thead>\n",
              "    <tr>\n",
              "      <th></th>\n",
              "      <th colspan=\"3\" halign=\"left\">price</th>\n",
              "      <th colspan=\"3\" halign=\"left\">quantity</th>\n",
              "      <th colspan=\"3\" halign=\"left\">total_purchase</th>\n",
              "    </tr>\n",
              "    <tr>\n",
              "      <th></th>\n",
              "      <th>min</th>\n",
              "      <th>median</th>\n",
              "      <th>max</th>\n",
              "      <th>min</th>\n",
              "      <th>median</th>\n",
              "      <th>max</th>\n",
              "      <th>min</th>\n",
              "      <th>median</th>\n",
              "      <th>max</th>\n",
              "    </tr>\n",
              "    <tr>\n",
              "      <th>product</th>\n",
              "      <th></th>\n",
              "      <th></th>\n",
              "      <th></th>\n",
              "      <th></th>\n",
              "      <th></th>\n",
              "      <th></th>\n",
              "      <th></th>\n",
              "      <th></th>\n",
              "      <th></th>\n",
              "    </tr>\n",
              "  </thead>\n",
              "  <tbody>\n",
              "    <tr>\n",
              "      <th>beans</th>\n",
              "      <td>14</td>\n",
              "      <td>14</td>\n",
              "      <td>14</td>\n",
              "      <td>1.0</td>\n",
              "      <td>1.0</td>\n",
              "      <td>1.0</td>\n",
              "      <td>14.0</td>\n",
              "      <td>14.0</td>\n",
              "      <td>14.0</td>\n",
              "    </tr>\n",
              "    <tr>\n",
              "      <th>beer</th>\n",
              "      <td>3</td>\n",
              "      <td>3</td>\n",
              "      <td>3</td>\n",
              "      <td>5.0</td>\n",
              "      <td>6.0</td>\n",
              "      <td>7.0</td>\n",
              "      <td>15.0</td>\n",
              "      <td>18.0</td>\n",
              "      <td>21.0</td>\n",
              "    </tr>\n",
              "    <tr>\n",
              "      <th>bread</th>\n",
              "      <td>9</td>\n",
              "      <td>9</td>\n",
              "      <td>9</td>\n",
              "      <td>2.0</td>\n",
              "      <td>2.0</td>\n",
              "      <td>2.0</td>\n",
              "      <td>18.0</td>\n",
              "      <td>18.0</td>\n",
              "      <td>18.0</td>\n",
              "    </tr>\n",
              "    <tr>\n",
              "      <th>cat</th>\n",
              "      <td>13</td>\n",
              "      <td>13</td>\n",
              "      <td>13</td>\n",
              "      <td>1.0</td>\n",
              "      <td>1.0</td>\n",
              "      <td>1.0</td>\n",
              "      <td>13.0</td>\n",
              "      <td>13.0</td>\n",
              "      <td>13.0</td>\n",
              "    </tr>\n",
              "    <tr>\n",
              "      <th>cheese</th>\n",
              "      <td>2</td>\n",
              "      <td>2</td>\n",
              "      <td>2</td>\n",
              "      <td>2.0</td>\n",
              "      <td>3.5</td>\n",
              "      <td>5.0</td>\n",
              "      <td>4.0</td>\n",
              "      <td>7.0</td>\n",
              "      <td>10.0</td>\n",
              "    </tr>\n",
              "    <tr>\n",
              "      <th>chicken</th>\n",
              "      <td>4</td>\n",
              "      <td>4</td>\n",
              "      <td>4</td>\n",
              "      <td>5.0</td>\n",
              "      <td>6.0</td>\n",
              "      <td>7.0</td>\n",
              "      <td>20.0</td>\n",
              "      <td>24.0</td>\n",
              "      <td>28.0</td>\n",
              "    </tr>\n",
              "    <tr>\n",
              "      <th>chorizo</th>\n",
              "      <td>5</td>\n",
              "      <td>5</td>\n",
              "      <td>5</td>\n",
              "      <td>-1.0</td>\n",
              "      <td>2.5</td>\n",
              "      <td>6.0</td>\n",
              "      <td>-5.0</td>\n",
              "      <td>12.5</td>\n",
              "      <td>30.0</td>\n",
              "    </tr>\n",
              "    <tr>\n",
              "      <th>dog</th>\n",
              "      <td>11</td>\n",
              "      <td>11</td>\n",
              "      <td>11</td>\n",
              "      <td>1.0</td>\n",
              "      <td>1.0</td>\n",
              "      <td>1.0</td>\n",
              "      <td>11.0</td>\n",
              "      <td>11.0</td>\n",
              "      <td>11.0</td>\n",
              "    </tr>\n",
              "    <tr>\n",
              "      <th>jam</th>\n",
              "      <td>7</td>\n",
              "      <td>7</td>\n",
              "      <td>7</td>\n",
              "      <td>7.0</td>\n",
              "      <td>8.5</td>\n",
              "      <td>10.0</td>\n",
              "      <td>49.0</td>\n",
              "      <td>59.5</td>\n",
              "      <td>70.0</td>\n",
              "    </tr>\n",
              "    <tr>\n",
              "      <th>paella</th>\n",
              "      <td>6</td>\n",
              "      <td>6</td>\n",
              "      <td>6</td>\n",
              "      <td>1.0</td>\n",
              "      <td>1.0</td>\n",
              "      <td>1.0</td>\n",
              "      <td>6.0</td>\n",
              "      <td>6.0</td>\n",
              "      <td>6.0</td>\n",
              "    </tr>\n",
              "    <tr>\n",
              "      <th>pasta</th>\n",
              "      <td>8</td>\n",
              "      <td>8</td>\n",
              "      <td>8</td>\n",
              "      <td>2.0</td>\n",
              "      <td>2.0</td>\n",
              "      <td>2.0</td>\n",
              "      <td>16.0</td>\n",
              "      <td>16.0</td>\n",
              "      <td>16.0</td>\n",
              "    </tr>\n",
              "    <tr>\n",
              "      <th>pizza</th>\n",
              "      <td>10</td>\n",
              "      <td>10</td>\n",
              "      <td>10</td>\n",
              "      <td>3.0</td>\n",
              "      <td>3.0</td>\n",
              "      <td>3.0</td>\n",
              "      <td>30.0</td>\n",
              "      <td>30.0</td>\n",
              "      <td>30.0</td>\n",
              "    </tr>\n",
              "    <tr>\n",
              "      <th>tortilla</th>\n",
              "      <td>1</td>\n",
              "      <td>1</td>\n",
              "      <td>1</td>\n",
              "      <td>-1.0</td>\n",
              "      <td>0.5</td>\n",
              "      <td>2.0</td>\n",
              "      <td>-1.0</td>\n",
              "      <td>0.5</td>\n",
              "      <td>2.0</td>\n",
              "    </tr>\n",
              "  </tbody>\n",
              "</table>\n",
              "</div>"
            ],
            "text/plain": [
              "         price            quantity              total_purchase             \n",
              "           min median max      min median   max            min median   max\n",
              "product                                                                    \n",
              "beans       14     14  14      1.0    1.0   1.0           14.0   14.0  14.0\n",
              "beer         3      3   3      5.0    6.0   7.0           15.0   18.0  21.0\n",
              "bread        9      9   9      2.0    2.0   2.0           18.0   18.0  18.0\n",
              "cat         13     13  13      1.0    1.0   1.0           13.0   13.0  13.0\n",
              "cheese       2      2   2      2.0    3.5   5.0            4.0    7.0  10.0\n",
              "chicken      4      4   4      5.0    6.0   7.0           20.0   24.0  28.0\n",
              "chorizo      5      5   5     -1.0    2.5   6.0           -5.0   12.5  30.0\n",
              "dog         11     11  11      1.0    1.0   1.0           11.0   11.0  11.0\n",
              "jam          7      7   7      7.0    8.5  10.0           49.0   59.5  70.0\n",
              "paella       6      6   6      1.0    1.0   1.0            6.0    6.0   6.0\n",
              "pasta        8      8   8      2.0    2.0   2.0           16.0   16.0  16.0\n",
              "pizza       10     10  10      3.0    3.0   3.0           30.0   30.0  30.0\n",
              "tortilla     1      1   1     -1.0    0.5   2.0           -1.0    0.5   2.0"
            ]
          },
          "metadata": {
            "tags": []
          },
          "execution_count": 91
        }
      ]
    },
    {
      "cell_type": "code",
      "metadata": {
        "id": "R4bmG1b1q7sm",
        "colab_type": "code",
        "colab": {
          "base_uri": "https://localhost:8080/",
          "height": 142
        },
        "outputId": "2eddc16f-12dc-435f-d196-246376126881"
      },
      "source": [
        "# do a summary tab with the total operations per shop and city\n",
        "pd.crosstab(df_merged.city, df_merged.shop)"
      ],
      "execution_count": 92,
      "outputs": [
        {
          "output_type": "execute_result",
          "data": {
            "text/html": [
              "<div>\n",
              "<style scoped>\n",
              "    .dataframe tbody tr th:only-of-type {\n",
              "        vertical-align: middle;\n",
              "    }\n",
              "\n",
              "    .dataframe tbody tr th {\n",
              "        vertical-align: top;\n",
              "    }\n",
              "\n",
              "    .dataframe thead th {\n",
              "        text-align: right;\n",
              "    }\n",
              "</style>\n",
              "<table border=\"1\" class=\"dataframe\">\n",
              "  <thead>\n",
              "    <tr style=\"text-align: right;\">\n",
              "      <th>shop</th>\n",
              "      <th>1</th>\n",
              "      <th>2</th>\n",
              "      <th>3</th>\n",
              "      <th>5</th>\n",
              "      <th>7</th>\n",
              "      <th>8</th>\n",
              "      <th>9</th>\n",
              "      <th>10</th>\n",
              "    </tr>\n",
              "    <tr>\n",
              "      <th>city</th>\n",
              "      <th></th>\n",
              "      <th></th>\n",
              "      <th></th>\n",
              "      <th></th>\n",
              "      <th></th>\n",
              "      <th></th>\n",
              "      <th></th>\n",
              "      <th></th>\n",
              "    </tr>\n",
              "  </thead>\n",
              "  <tbody>\n",
              "    <tr>\n",
              "      <th>Barcelona</th>\n",
              "      <td>0</td>\n",
              "      <td>0</td>\n",
              "      <td>0</td>\n",
              "      <td>5</td>\n",
              "      <td>2</td>\n",
              "      <td>3</td>\n",
              "      <td>1</td>\n",
              "      <td>1</td>\n",
              "    </tr>\n",
              "    <tr>\n",
              "      <th>Madrid</th>\n",
              "      <td>3</td>\n",
              "      <td>2</td>\n",
              "      <td>3</td>\n",
              "      <td>0</td>\n",
              "      <td>0</td>\n",
              "      <td>0</td>\n",
              "      <td>0</td>\n",
              "      <td>0</td>\n",
              "    </tr>\n",
              "  </tbody>\n",
              "</table>\n",
              "</div>"
            ],
            "text/plain": [
              "shop       1   2   3   5   7   8   9   10\n",
              "city                                     \n",
              "Barcelona   0   0   0   5   2   3   1   1\n",
              "Madrid      3   2   3   0   0   0   0   0"
            ]
          },
          "metadata": {
            "tags": []
          },
          "execution_count": 92
        }
      ]
    },
    {
      "cell_type": "code",
      "metadata": {
        "id": "OyNsPRmiq5xO",
        "colab_type": "code",
        "colab": {
          "base_uri": "https://localhost:8080/",
          "height": 483
        },
        "outputId": "314e41ff-7d6e-4533-e38b-db5bbe369caa"
      },
      "source": [
        "# count how many product units are purchased per city \n",
        "df_merged.pivot_table(index='product', \n",
        "                      columns='city', \n",
        "                      values='quantity', \n",
        "                      fill_value=0, \n",
        "                      aggfunc='sum')"
      ],
      "execution_count": 93,
      "outputs": [
        {
          "output_type": "execute_result",
          "data": {
            "text/html": [
              "<div>\n",
              "<style scoped>\n",
              "    .dataframe tbody tr th:only-of-type {\n",
              "        vertical-align: middle;\n",
              "    }\n",
              "\n",
              "    .dataframe tbody tr th {\n",
              "        vertical-align: top;\n",
              "    }\n",
              "\n",
              "    .dataframe thead th {\n",
              "        text-align: right;\n",
              "    }\n",
              "</style>\n",
              "<table border=\"1\" class=\"dataframe\">\n",
              "  <thead>\n",
              "    <tr style=\"text-align: right;\">\n",
              "      <th>city</th>\n",
              "      <th>Barcelona</th>\n",
              "      <th>Madrid</th>\n",
              "    </tr>\n",
              "    <tr>\n",
              "      <th>product</th>\n",
              "      <th></th>\n",
              "      <th></th>\n",
              "    </tr>\n",
              "  </thead>\n",
              "  <tbody>\n",
              "    <tr>\n",
              "      <th>beans</th>\n",
              "      <td>0</td>\n",
              "      <td>1</td>\n",
              "    </tr>\n",
              "    <tr>\n",
              "      <th>beer</th>\n",
              "      <td>7</td>\n",
              "      <td>5</td>\n",
              "    </tr>\n",
              "    <tr>\n",
              "      <th>bread</th>\n",
              "      <td>0</td>\n",
              "      <td>2</td>\n",
              "    </tr>\n",
              "    <tr>\n",
              "      <th>cat</th>\n",
              "      <td>0</td>\n",
              "      <td>1</td>\n",
              "    </tr>\n",
              "    <tr>\n",
              "      <th>cheese</th>\n",
              "      <td>7</td>\n",
              "      <td>0</td>\n",
              "    </tr>\n",
              "    <tr>\n",
              "      <th>chicken</th>\n",
              "      <td>5</td>\n",
              "      <td>7</td>\n",
              "    </tr>\n",
              "    <tr>\n",
              "      <th>chorizo</th>\n",
              "      <td>5</td>\n",
              "      <td>0</td>\n",
              "    </tr>\n",
              "    <tr>\n",
              "      <th>dog</th>\n",
              "      <td>0</td>\n",
              "      <td>1</td>\n",
              "    </tr>\n",
              "    <tr>\n",
              "      <th>jam</th>\n",
              "      <td>17</td>\n",
              "      <td>0</td>\n",
              "    </tr>\n",
              "    <tr>\n",
              "      <th>paella</th>\n",
              "      <td>2</td>\n",
              "      <td>0</td>\n",
              "    </tr>\n",
              "    <tr>\n",
              "      <th>pasta</th>\n",
              "      <td>0</td>\n",
              "      <td>2</td>\n",
              "    </tr>\n",
              "    <tr>\n",
              "      <th>pizza</th>\n",
              "      <td>0</td>\n",
              "      <td>3</td>\n",
              "    </tr>\n",
              "    <tr>\n",
              "      <th>tortilla</th>\n",
              "      <td>1</td>\n",
              "      <td>0</td>\n",
              "    </tr>\n",
              "  </tbody>\n",
              "</table>\n",
              "</div>"
            ],
            "text/plain": [
              "city      Barcelona  Madrid\n",
              "product                    \n",
              "beans             0       1\n",
              "beer              7       5\n",
              "bread             0       2\n",
              "cat               0       1\n",
              "cheese            7       0\n",
              "chicken           5       7\n",
              "chorizo           5       0\n",
              "dog               0       1\n",
              "jam              17       0\n",
              "paella            2       0\n",
              "pasta             0       2\n",
              "pizza             0       3\n",
              "tortilla          1       0"
            ]
          },
          "metadata": {
            "tags": []
          },
          "execution_count": 93
        }
      ]
    },
    {
      "cell_type": "code",
      "metadata": {
        "id": "pxB4A70zGxZD",
        "colab_type": "code",
        "colab": {
          "base_uri": "https://localhost:8080/",
          "height": 483
        },
        "outputId": "9d0173a0-8fdd-4517-bd9b-c1d96b726f1c"
      },
      "source": [
        "# count how many operations per product are done per shop \n",
        "df_merged.pivot_table(index='product', \n",
        "                      columns='shop', \n",
        "                      values='operation', \n",
        "                      fill_value=0, \n",
        "                      aggfunc='count')"
      ],
      "execution_count": 94,
      "outputs": [
        {
          "output_type": "execute_result",
          "data": {
            "text/html": [
              "<div>\n",
              "<style scoped>\n",
              "    .dataframe tbody tr th:only-of-type {\n",
              "        vertical-align: middle;\n",
              "    }\n",
              "\n",
              "    .dataframe tbody tr th {\n",
              "        vertical-align: top;\n",
              "    }\n",
              "\n",
              "    .dataframe thead th {\n",
              "        text-align: right;\n",
              "    }\n",
              "</style>\n",
              "<table border=\"1\" class=\"dataframe\">\n",
              "  <thead>\n",
              "    <tr style=\"text-align: right;\">\n",
              "      <th>shop</th>\n",
              "      <th>1</th>\n",
              "      <th>2</th>\n",
              "      <th>3</th>\n",
              "      <th>5</th>\n",
              "      <th>7</th>\n",
              "      <th>8</th>\n",
              "      <th>9</th>\n",
              "      <th>10</th>\n",
              "    </tr>\n",
              "    <tr>\n",
              "      <th>product</th>\n",
              "      <th></th>\n",
              "      <th></th>\n",
              "      <th></th>\n",
              "      <th></th>\n",
              "      <th></th>\n",
              "      <th></th>\n",
              "      <th></th>\n",
              "      <th></th>\n",
              "    </tr>\n",
              "  </thead>\n",
              "  <tbody>\n",
              "    <tr>\n",
              "      <th>beans</th>\n",
              "      <td>1</td>\n",
              "      <td>0</td>\n",
              "      <td>0</td>\n",
              "      <td>0</td>\n",
              "      <td>0</td>\n",
              "      <td>0</td>\n",
              "      <td>0</td>\n",
              "      <td>0</td>\n",
              "    </tr>\n",
              "    <tr>\n",
              "      <th>beer</th>\n",
              "      <td>1</td>\n",
              "      <td>0</td>\n",
              "      <td>0</td>\n",
              "      <td>0</td>\n",
              "      <td>0</td>\n",
              "      <td>1</td>\n",
              "      <td>0</td>\n",
              "      <td>0</td>\n",
              "    </tr>\n",
              "    <tr>\n",
              "      <th>bread</th>\n",
              "      <td>0</td>\n",
              "      <td>0</td>\n",
              "      <td>1</td>\n",
              "      <td>0</td>\n",
              "      <td>0</td>\n",
              "      <td>0</td>\n",
              "      <td>0</td>\n",
              "      <td>0</td>\n",
              "    </tr>\n",
              "    <tr>\n",
              "      <th>cat</th>\n",
              "      <td>1</td>\n",
              "      <td>0</td>\n",
              "      <td>0</td>\n",
              "      <td>0</td>\n",
              "      <td>0</td>\n",
              "      <td>0</td>\n",
              "      <td>0</td>\n",
              "      <td>0</td>\n",
              "    </tr>\n",
              "    <tr>\n",
              "      <th>cheese</th>\n",
              "      <td>0</td>\n",
              "      <td>0</td>\n",
              "      <td>0</td>\n",
              "      <td>1</td>\n",
              "      <td>0</td>\n",
              "      <td>0</td>\n",
              "      <td>1</td>\n",
              "      <td>0</td>\n",
              "    </tr>\n",
              "    <tr>\n",
              "      <th>chicken</th>\n",
              "      <td>0</td>\n",
              "      <td>0</td>\n",
              "      <td>1</td>\n",
              "      <td>0</td>\n",
              "      <td>0</td>\n",
              "      <td>1</td>\n",
              "      <td>0</td>\n",
              "      <td>0</td>\n",
              "    </tr>\n",
              "    <tr>\n",
              "      <th>chorizo</th>\n",
              "      <td>0</td>\n",
              "      <td>0</td>\n",
              "      <td>0</td>\n",
              "      <td>1</td>\n",
              "      <td>0</td>\n",
              "      <td>1</td>\n",
              "      <td>0</td>\n",
              "      <td>0</td>\n",
              "    </tr>\n",
              "    <tr>\n",
              "      <th>dog</th>\n",
              "      <td>0</td>\n",
              "      <td>1</td>\n",
              "      <td>0</td>\n",
              "      <td>0</td>\n",
              "      <td>0</td>\n",
              "      <td>0</td>\n",
              "      <td>0</td>\n",
              "      <td>0</td>\n",
              "    </tr>\n",
              "    <tr>\n",
              "      <th>jam</th>\n",
              "      <td>0</td>\n",
              "      <td>0</td>\n",
              "      <td>0</td>\n",
              "      <td>2</td>\n",
              "      <td>0</td>\n",
              "      <td>0</td>\n",
              "      <td>0</td>\n",
              "      <td>0</td>\n",
              "    </tr>\n",
              "    <tr>\n",
              "      <th>paella</th>\n",
              "      <td>0</td>\n",
              "      <td>0</td>\n",
              "      <td>0</td>\n",
              "      <td>1</td>\n",
              "      <td>1</td>\n",
              "      <td>0</td>\n",
              "      <td>0</td>\n",
              "      <td>0</td>\n",
              "    </tr>\n",
              "    <tr>\n",
              "      <th>pasta</th>\n",
              "      <td>0</td>\n",
              "      <td>0</td>\n",
              "      <td>1</td>\n",
              "      <td>0</td>\n",
              "      <td>0</td>\n",
              "      <td>0</td>\n",
              "      <td>0</td>\n",
              "      <td>0</td>\n",
              "    </tr>\n",
              "    <tr>\n",
              "      <th>pizza</th>\n",
              "      <td>0</td>\n",
              "      <td>1</td>\n",
              "      <td>0</td>\n",
              "      <td>0</td>\n",
              "      <td>0</td>\n",
              "      <td>0</td>\n",
              "      <td>0</td>\n",
              "      <td>0</td>\n",
              "    </tr>\n",
              "    <tr>\n",
              "      <th>tortilla</th>\n",
              "      <td>0</td>\n",
              "      <td>0</td>\n",
              "      <td>0</td>\n",
              "      <td>0</td>\n",
              "      <td>1</td>\n",
              "      <td>0</td>\n",
              "      <td>0</td>\n",
              "      <td>1</td>\n",
              "    </tr>\n",
              "  </tbody>\n",
              "</table>\n",
              "</div>"
            ],
            "text/plain": [
              "shop      1   2   3   5   7   8   9   10\n",
              "product                                 \n",
              "beans      1   0   0   0   0   0   0   0\n",
              "beer       1   0   0   0   0   1   0   0\n",
              "bread      0   0   1   0   0   0   0   0\n",
              "cat        1   0   0   0   0   0   0   0\n",
              "cheese     0   0   0   1   0   0   1   0\n",
              "chicken    0   0   1   0   0   1   0   0\n",
              "chorizo    0   0   0   1   0   1   0   0\n",
              "dog        0   1   0   0   0   0   0   0\n",
              "jam        0   0   0   2   0   0   0   0\n",
              "paella     0   0   0   1   1   0   0   0\n",
              "pasta      0   0   1   0   0   0   0   0\n",
              "pizza      0   1   0   0   0   0   0   0\n",
              "tortilla   0   0   0   0   1   0   0   1"
            ]
          },
          "metadata": {
            "tags": []
          },
          "execution_count": 94
        }
      ]
    },
    {
      "cell_type": "code",
      "metadata": {
        "id": "tRvIGeYsK7wK",
        "colab_type": "code",
        "colab": {
          "base_uri": "https://localhost:8080/",
          "height": 187
        },
        "outputId": "fe9f3230-1e1c-4682-bb32-469705c5d8b2"
      },
      "source": [
        "# filter the dataframe by purchases only - option 1\n",
        "df_purchases = df_merged.copy().set_index(keys=['operation'])\n",
        "print(df_purchases.shape, df_purchases.head())\n",
        "df_purchases = df_purchases.filter(like='purchase', axis=0)\n",
        "print(df_purchases.shape)"
      ],
      "execution_count": 95,
      "outputs": [
        {
          "output_type": "stream",
          "text": [
            "(20, 12)                     date_hour       city  ... promotion_B recommend\n",
            "operation                                 ...                      \n",
            "return    2020-01-02 18:44:10  Barcelona  ...       -11.0         B\n",
            "purchase  2020-01-02 10:44:10  Barcelona  ...        -6.0         B\n",
            "purchase  2020-01-31 18:44:10  Barcelona  ...        10.0      same\n",
            "purchase  2020-01-31 10:44:10  Barcelona  ...        20.0         A\n",
            "purchase  2020-02-02 18:44:10  Barcelona  ...        11.0         A\n",
            "\n",
            "[5 rows x 12 columns]\n",
            "(18, 12)\n"
          ],
          "name": "stdout"
        }
      ]
    },
    {
      "cell_type": "code",
      "metadata": {
        "id": "Ntp03WCIMCUY",
        "colab_type": "code",
        "colab": {
          "base_uri": "https://localhost:8080/",
          "height": 34
        },
        "outputId": "b3630619-cca9-4d12-e1ce-0d57a9b3659f"
      },
      "source": [
        "# filter the dataframe by purchases only - option 2\n",
        "mask = df_merged.operation == 'purchase'\n",
        "df_purchases = df_merged.loc[mask]\n",
        "print(df_purchases.shape)"
      ],
      "execution_count": 96,
      "outputs": [
        {
          "output_type": "stream",
          "text": [
            "(18, 13)\n"
          ],
          "name": "stdout"
        }
      ]
    },
    {
      "cell_type": "code",
      "metadata": {
        "id": "ZDvFic8dPkuS",
        "colab_type": "code",
        "colab": {
          "base_uri": "https://localhost:8080/",
          "height": 326
        },
        "outputId": "655915ab-ed72-413f-eb05-54920c031815"
      },
      "source": [
        "# in this dataframe of purchases only, create a new column 'delivery_cost' \n",
        "# delivery should cost 5 euros but would be only 2 euros if total purchase ir more than 10 euros\n",
        "def calculate_delivery_cost(x):\n",
        "  if x > 10:\n",
        "    return 2\n",
        "  else:\n",
        "    return 5\n",
        "df_purchases['delivery_cost'] = df_purchases['total_purchase'].apply(calculate_delivery_cost)\n",
        "df_purchases[['delivery_cost','total_purchase']].head()"
      ],
      "execution_count": 97,
      "outputs": [
        {
          "output_type": "stream",
          "text": [
            "/usr/local/lib/python3.6/dist-packages/ipykernel_launcher.py:6: SettingWithCopyWarning: \n",
            "A value is trying to be set on a copy of a slice from a DataFrame.\n",
            "Try using .loc[row_indexer,col_indexer] = value instead\n",
            "\n",
            "See the caveats in the documentation: http://pandas.pydata.org/pandas-docs/stable/user_guide/indexing.html#returning-a-view-versus-a-copy\n",
            "  \n"
          ],
          "name": "stderr"
        },
        {
          "output_type": "execute_result",
          "data": {
            "text/html": [
              "<div>\n",
              "<style scoped>\n",
              "    .dataframe tbody tr th:only-of-type {\n",
              "        vertical-align: middle;\n",
              "    }\n",
              "\n",
              "    .dataframe tbody tr th {\n",
              "        vertical-align: top;\n",
              "    }\n",
              "\n",
              "    .dataframe thead th {\n",
              "        text-align: right;\n",
              "    }\n",
              "</style>\n",
              "<table border=\"1\" class=\"dataframe\">\n",
              "  <thead>\n",
              "    <tr style=\"text-align: right;\">\n",
              "      <th></th>\n",
              "      <th>delivery_cost</th>\n",
              "      <th>total_purchase</th>\n",
              "    </tr>\n",
              "  </thead>\n",
              "  <tbody>\n",
              "    <tr>\n",
              "      <th>1</th>\n",
              "      <td>5</td>\n",
              "      <td>4.0</td>\n",
              "    </tr>\n",
              "    <tr>\n",
              "      <th>3</th>\n",
              "      <td>2</td>\n",
              "      <td>20.0</td>\n",
              "    </tr>\n",
              "    <tr>\n",
              "      <th>4</th>\n",
              "      <td>2</td>\n",
              "      <td>30.0</td>\n",
              "    </tr>\n",
              "    <tr>\n",
              "      <th>5</th>\n",
              "      <td>2</td>\n",
              "      <td>21.0</td>\n",
              "    </tr>\n",
              "    <tr>\n",
              "      <th>6</th>\n",
              "      <td>5</td>\n",
              "      <td>2.0</td>\n",
              "    </tr>\n",
              "  </tbody>\n",
              "</table>\n",
              "</div>"
            ],
            "text/plain": [
              "   delivery_cost  total_purchase\n",
              "1              5             4.0\n",
              "3              2            20.0\n",
              "4              2            30.0\n",
              "5              2            21.0\n",
              "6              5             2.0"
            ]
          },
          "metadata": {
            "tags": []
          },
          "execution_count": 97
        }
      ]
    },
    {
      "cell_type": "code",
      "metadata": {
        "id": "aDFqx1PrM8sV",
        "colab_type": "code",
        "colab": {
          "base_uri": "https://localhost:8080/",
          "height": 255
        },
        "outputId": "a67baa51-1858-49d7-ea0a-e1067141b9cc"
      },
      "source": [
        "# imagine you need to know the maximum length of all data contained in each variable (to build a database i.e)\n",
        "df_len = df_merged.applymap(lambda x: len(str(x)))\n",
        "df_len.max()"
      ],
      "execution_count": 98,
      "outputs": [
        {
          "output_type": "execute_result",
          "data": {
            "text/plain": [
              "date_hour         19\n",
              "city               9\n",
              "shop               2\n",
              "client             4\n",
              "operation          8\n",
              "product            8\n",
              "quantity           4\n",
              "Loyalty_card       3\n",
              "price              2\n",
              "promotion_A        3\n",
              "total_purchase     4\n",
              "promotion_B        5\n",
              "recommend          4\n",
              "dtype: int64"
            ]
          },
          "metadata": {
            "tags": []
          },
          "execution_count": 98
        }
      ]
    },
    {
      "cell_type": "code",
      "metadata": {
        "id": "_fGNuHHwrNU1",
        "colab_type": "code",
        "colab": {
          "base_uri": "https://localhost:8080/",
          "height": 235
        },
        "outputId": "c40bba7e-0a1b-4e3b-8bb9-7abe790c8545"
      },
      "source": [
        "# get the correlation (\"relationship\") matrix between numerical variables\n",
        "df_purchases.corr()"
      ],
      "execution_count": 101,
      "outputs": [
        {
          "output_type": "execute_result",
          "data": {
            "text/html": [
              "<div>\n",
              "<style scoped>\n",
              "    .dataframe tbody tr th:only-of-type {\n",
              "        vertical-align: middle;\n",
              "    }\n",
              "\n",
              "    .dataframe tbody tr th {\n",
              "        vertical-align: top;\n",
              "    }\n",
              "\n",
              "    .dataframe thead th {\n",
              "        text-align: right;\n",
              "    }\n",
              "</style>\n",
              "<table border=\"1\" class=\"dataframe\">\n",
              "  <thead>\n",
              "    <tr style=\"text-align: right;\">\n",
              "      <th></th>\n",
              "      <th>quantity</th>\n",
              "      <th>price</th>\n",
              "      <th>promotion_A</th>\n",
              "      <th>total_purchase</th>\n",
              "      <th>promotion_B</th>\n",
              "      <th>delivery_cost</th>\n",
              "    </tr>\n",
              "  </thead>\n",
              "  <tbody>\n",
              "    <tr>\n",
              "      <th>quantity</th>\n",
              "      <td>1.000000</td>\n",
              "      <td>-0.394401</td>\n",
              "      <td>-0.394401</td>\n",
              "      <td>0.798999</td>\n",
              "      <td>0.798999</td>\n",
              "      <td>-0.362556</td>\n",
              "    </tr>\n",
              "    <tr>\n",
              "      <th>price</th>\n",
              "      <td>-0.394401</td>\n",
              "      <td>1.000000</td>\n",
              "      <td>1.000000</td>\n",
              "      <td>0.128227</td>\n",
              "      <td>0.128227</td>\n",
              "      <td>-0.497105</td>\n",
              "    </tr>\n",
              "    <tr>\n",
              "      <th>promotion_A</th>\n",
              "      <td>-0.394401</td>\n",
              "      <td>1.000000</td>\n",
              "      <td>1.000000</td>\n",
              "      <td>0.128227</td>\n",
              "      <td>0.128227</td>\n",
              "      <td>-0.497105</td>\n",
              "    </tr>\n",
              "    <tr>\n",
              "      <th>total_purchase</th>\n",
              "      <td>0.798999</td>\n",
              "      <td>0.128227</td>\n",
              "      <td>0.128227</td>\n",
              "      <td>1.000000</td>\n",
              "      <td>1.000000</td>\n",
              "      <td>-0.548178</td>\n",
              "    </tr>\n",
              "    <tr>\n",
              "      <th>promotion_B</th>\n",
              "      <td>0.798999</td>\n",
              "      <td>0.128227</td>\n",
              "      <td>0.128227</td>\n",
              "      <td>1.000000</td>\n",
              "      <td>1.000000</td>\n",
              "      <td>-0.548178</td>\n",
              "    </tr>\n",
              "    <tr>\n",
              "      <th>delivery_cost</th>\n",
              "      <td>-0.362556</td>\n",
              "      <td>-0.497105</td>\n",
              "      <td>-0.497105</td>\n",
              "      <td>-0.548178</td>\n",
              "      <td>-0.548178</td>\n",
              "      <td>1.000000</td>\n",
              "    </tr>\n",
              "  </tbody>\n",
              "</table>\n",
              "</div>"
            ],
            "text/plain": [
              "                quantity     price  ...  promotion_B  delivery_cost\n",
              "quantity        1.000000 -0.394401  ...     0.798999      -0.362556\n",
              "price          -0.394401  1.000000  ...     0.128227      -0.497105\n",
              "promotion_A    -0.394401  1.000000  ...     0.128227      -0.497105\n",
              "total_purchase  0.798999  0.128227  ...     1.000000      -0.548178\n",
              "promotion_B     0.798999  0.128227  ...     1.000000      -0.548178\n",
              "delivery_cost  -0.362556 -0.497105  ...    -0.548178       1.000000\n",
              "\n",
              "[6 rows x 6 columns]"
            ]
          },
          "metadata": {
            "tags": []
          },
          "execution_count": 101
        }
      ]
    },
    {
      "cell_type": "code",
      "metadata": {
        "id": "Y5oLbDrhdzkt",
        "colab_type": "code",
        "colab": {}
      },
      "source": [
        "# save the csv in your folder\n",
        "output_path = '/content/drive/My Drive/Colab Notebooks (1)/'\n",
        "file_name = 'df_purchases'\n",
        "df.to_csv(output_path+file_name)"
      ],
      "execution_count": 0,
      "outputs": []
    }
  ]
}